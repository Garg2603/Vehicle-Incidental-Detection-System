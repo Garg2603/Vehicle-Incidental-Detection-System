{
 "cells": [
  {
   "cell_type": "code",
   "execution_count": 1,
   "metadata": {},
   "outputs": [],
   "source": [
    "from ultralytics import YOLO\n",
    "import cv2\n",
    "import os"
   ]
  },
  {
   "cell_type": "code",
   "execution_count": 2,
   "metadata": {},
   "outputs": [
    {
     "name": "stdout",
     "output_type": "stream",
     "text": [
      "True\n"
     ]
    }
   ],
   "source": [
    "import torch\n",
    "print(torch.cuda.is_available())"
   ]
  },
  {
   "cell_type": "code",
   "execution_count": 3,
   "metadata": {},
   "outputs": [],
   "source": [
    "model = YOLO('./models/yolov8n.pt')"
   ]
  },
  {
   "cell_type": "code",
   "execution_count": 4,
   "metadata": {},
   "outputs": [
    {
     "name": "stdout",
     "output_type": "stream",
     "text": [
      "New https://pypi.org/project/ultralytics/8.2.11 available 😃 Update with 'pip install -U ultralytics'\n",
      "Ultralytics YOLOv8.1.7 🚀 Python-3.11.8 torch-2.1.2+cu121 CUDA:0 (NVIDIA GeForce RTX 3050 Laptop GPU, 3902MiB)\n",
      "\u001b[34m\u001b[1mengine/trainer: \u001b[0mtask=detect, mode=train, model=./models/yolov8n.pt, data=./configs/vids.yaml, epochs=100, time=None, patience=25, batch=-1, imgsz=640, save=True, save_period=-1, cache=False, device=None, workers=8, project=None, name=train18, exist_ok=False, pretrained=True, optimizer=auto, verbose=True, seed=0, deterministic=True, single_cls=False, rect=False, cos_lr=False, close_mosaic=10, resume=False, amp=True, fraction=1.0, profile=False, freeze=None, multi_scale=False, overlap_mask=True, mask_ratio=4, dropout=0.0, val=True, split=val, save_json=False, save_hybrid=False, conf=None, iou=0.7, max_det=300, half=False, dnn=False, plots=True, source=None, vid_stride=1, stream_buffer=False, visualize=False, augment=False, agnostic_nms=False, classes=None, retina_masks=False, embed=None, show=False, save_frames=False, save_txt=False, save_conf=False, save_crop=False, show_labels=True, show_conf=True, show_boxes=True, line_width=None, format=torchscript, keras=False, optimize=False, int8=False, dynamic=False, simplify=False, opset=None, workspace=4, nms=False, lr0=0.01, lrf=0.01, momentum=0.937, weight_decay=0.0005, warmup_epochs=3.0, warmup_momentum=0.8, warmup_bias_lr=0.1, box=7.5, cls=0.5, dfl=1.5, pose=12.0, kobj=1.0, label_smoothing=0.0, nbs=64, hsv_h=0.015, hsv_s=0.7, hsv_v=0.4, degrees=0.0, translate=0.1, scale=0.5, shear=0.0, perspective=0.0, flipud=0.0, fliplr=0.5, mosaic=1.0, mixup=0.0, copy_paste=0.0, auto_augment=randaugment, erasing=0.4, crop_fraction=1.0, cfg=None, tracker=botsort.yaml, save_dir=runs/detect/train18\n",
      "Overriding model.yaml nc=80 with nc=7\n",
      "\n",
      "                   from  n    params  module                                       arguments                     \n",
      "  0                  -1  1       464  ultralytics.nn.modules.conv.Conv             [3, 16, 3, 2]                 \n",
      "  1                  -1  1      4672  ultralytics.nn.modules.conv.Conv             [16, 32, 3, 2]                \n",
      "  2                  -1  1      7360  ultralytics.nn.modules.block.C2f             [32, 32, 1, True]             \n",
      "  3                  -1  1     18560  ultralytics.nn.modules.conv.Conv             [32, 64, 3, 2]                \n",
      "  4                  -1  2     49664  ultralytics.nn.modules.block.C2f             [64, 64, 2, True]             \n",
      "  5                  -1  1     73984  ultralytics.nn.modules.conv.Conv             [64, 128, 3, 2]               \n",
      "  6                  -1  2    197632  ultralytics.nn.modules.block.C2f             [128, 128, 2, True]           \n",
      "  7                  -1  1    295424  ultralytics.nn.modules.conv.Conv             [128, 256, 3, 2]              \n",
      "  8                  -1  1    460288  ultralytics.nn.modules.block.C2f             [256, 256, 1, True]           \n",
      "  9                  -1  1    164608  ultralytics.nn.modules.block.SPPF            [256, 256, 5]                 \n",
      " 10                  -1  1         0  torch.nn.modules.upsampling.Upsample         [None, 2, 'nearest']          \n",
      " 11             [-1, 6]  1         0  ultralytics.nn.modules.conv.Concat           [1]                           \n",
      " 12                  -1  1    148224  ultralytics.nn.modules.block.C2f             [384, 128, 1]                 \n",
      " 13                  -1  1         0  torch.nn.modules.upsampling.Upsample         [None, 2, 'nearest']          \n",
      " 14             [-1, 4]  1         0  ultralytics.nn.modules.conv.Concat           [1]                           \n",
      " 15                  -1  1     37248  ultralytics.nn.modules.block.C2f             [192, 64, 1]                  \n",
      " 16                  -1  1     36992  ultralytics.nn.modules.conv.Conv             [64, 64, 3, 2]                \n",
      " 17            [-1, 12]  1         0  ultralytics.nn.modules.conv.Concat           [1]                           \n",
      " 18                  -1  1    123648  ultralytics.nn.modules.block.C2f             [192, 128, 1]                 \n",
      " 19                  -1  1    147712  ultralytics.nn.modules.conv.Conv             [128, 128, 3, 2]              \n",
      " 20             [-1, 9]  1         0  ultralytics.nn.modules.conv.Concat           [1]                           \n",
      " 21                  -1  1    493056  ultralytics.nn.modules.block.C2f             [384, 256, 1]                 \n",
      " 22        [15, 18, 21]  1    752677  ultralytics.nn.modules.head.Detect           [7, [64, 128, 256]]           \n",
      "Model summary: 225 layers, 3012213 parameters, 3012197 gradients, 8.2 GFLOPs\n",
      "\n",
      "Transferred 319/355 items from pretrained weights\n",
      "Freezing layer 'model.22.dfl.conv.weight'\n",
      "\u001b[34m\u001b[1mAMP: \u001b[0mrunning Automatic Mixed Precision (AMP) checks with YOLOv8n...\n",
      "\u001b[34m\u001b[1mAMP: \u001b[0mchecks passed ✅\n",
      "\u001b[34m\u001b[1mAutoBatch: \u001b[0mComputing optimal batch size for imgsz=640\n",
      "\u001b[34m\u001b[1mAutoBatch: \u001b[0mCUDA:0 (NVIDIA GeForce RTX 3050 Laptop GPU) 3.81G total, 0.33G reserved, 0.05G allocated, 3.43G free\n",
      "      Params      GFLOPs  GPU_mem (GB)  forward (ms) backward (ms)                   input                  output\n",
      "     3012213       8.201         0.417         12.26         82.45        (1, 3, 640, 640)                    list\n",
      "     3012213        16.4         0.440          8.53         28.23        (2, 3, 640, 640)                    list\n",
      "     3012213        32.8         0.682         15.03         32.72        (4, 3, 640, 640)                    list\n",
      "     3012213        65.6         1.181         26.49         43.41        (8, 3, 640, 640)                    list\n",
      "     3012213       131.2         2.062         49.17         62.09       (16, 3, 640, 640)                    list\n",
      "\u001b[34m\u001b[1mAutoBatch: \u001b[0mUsing batch-size 15 for CUDA:0 2.33G/3.81G (61%) ✅\n"
     ]
    },
    {
     "name": "stderr",
     "output_type": "stream",
     "text": [
      "\u001b[34m\u001b[1mtrain: \u001b[0mScanning /home/vrs/train/lp_seg/data/detect/vids/labels/train... 1931 images, 0 backgrounds, 410 corrupt: 100%|██████████| 1931/1931 [00:01<00:00, 1540.46it/s]"
     ]
    },
    {
     "name": "stdout",
     "output_type": "stream",
     "text": [
      "\u001b[34m\u001b[1mtrain: \u001b[0mWARNING ⚠️ /home/vrs/train/lp_seg/data/detect/vids/images/train/00126a640cabc9c1.jpg: ignoring corrupt image/label: non-normalized or out of bounds coordinates [      235.2       920.8       265.6       943.2       268.8       932.8         304       950.4       300.8         912       318.4       945.6       323.2       919.2       378.4       950.4       362.4       919.2       402.4       945.6       497.6       913.6       566.4       969.6         600       916.8\n",
      "       622.4       945.6       620.8       919.2       642.4       945.6       638.4       925.6       679.2       973.6         660         908       695.2       943.2       691.2       920.8       710.4         940         704       916.8       745.6       947.2]\n",
      "\u001b[34m\u001b[1mtrain: \u001b[0mWARNING ⚠️ /home/vrs/train/lp_seg/data/detect/vids/images/train/005970d29c7a4adb.jpg: ignoring corrupt image/label: non-normalized or out of bounds coordinates [     224.14      71.133      629.51      650.45]\n",
      "\u001b[34m\u001b[1mtrain: \u001b[0mWARNING ⚠️ /home/vrs/train/lp_seg/data/detect/vids/images/train/012044436d7fc552.jpg: ignoring corrupt image/label: non-normalized or out of bounds coordinates [      150.4       684.8      334.08      981.76]\n",
      "\u001b[34m\u001b[1mtrain: \u001b[0mWARNING ⚠️ /home/vrs/train/lp_seg/data/detect/vids/images/train/0125d9e468447468.jpg: ignoring corrupt image/label: non-normalized or out of bounds coordinates [     447.22      143.36      551.65      242.56      414.54       326.4      485.66      458.88      369.69       633.6       434.4]\n",
      "\u001b[34m\u001b[1mtrain: \u001b[0mWARNING ⚠️ /home/vrs/train/lp_seg/data/detect/vids/images/train/0126cf8dfbabcbaf.jpg: ignoring corrupt image/label: non-normalized or out of bounds coordinates [     160.64      129.92       732.8      488.96]\n",
      "\u001b[34m\u001b[1mtrain: \u001b[0mWARNING ⚠️ /home/vrs/train/lp_seg/data/detect/vids/images/train/012a0b9d970e0016.jpg: ignoring corrupt image/label: non-normalized or out of bounds coordinates [        653         311         727         379         709         290         767         348         713         279         777         303         773         290         813         324         787         291         822         353         916         157         962         214]\n",
      "\u001b[34m\u001b[1mtrain: \u001b[0mWARNING ⚠️ /home/vrs/train/lp_seg/data/detect/vids/images/train/013ca824f09e56fb.jpg: ignoring corrupt image/label: non-normalized or out of bounds coordinates [     266.79       131.2      382.59      383.36      243.75      686.72      438.89]\n",
      "\u001b[34m\u001b[1mtrain: \u001b[0mWARNING ⚠️ /home/vrs/train/lp_seg/data/detect/vids/images/train/016864c7203d7788.jpg: ignoring corrupt image/label: non-normalized or out of bounds coordinates [     606.08      287.04      680.96      354.31]\n",
      "\u001b[34m\u001b[1mtrain: \u001b[0mWARNING ⚠️ /home/vrs/train/lp_seg/data/detect/vids/images/train/016c76f9a2da0fc1.jpg: ignoring corrupt image/label: non-normalized or out of bounds coordinates [     328.32      520.32      554.88      721.28      371.84      484.48      586.24      718.72]\n",
      "\u001b[34m\u001b[1mtrain: \u001b[0mWARNING ⚠️ /home/vrs/train/lp_seg/data/detect/vids/images/train/01954759026d4f2c.jpg: ignoring corrupt image/label: non-normalized or out of bounds coordinates [       54.4      67.275       179.2      276.15      73.682       88.32      205.03       85.76      68.556      120.96      97.388      156.16      93.544      240.64      277.43      179.84      336.37      407.04      682.36      202.24      97.388      357.12      346.63       204.8      64.072      257.28\n",
      "      97.388      207.36      331.25      346.88      585.61       265.6      74.963      312.32      102.51      337.28      69.837      388.48      128.78      404.48      310.11       716.8      682.36      456.96      116.61      720.64      501.68      480.64       62.79       540.8      115.33      529.28\n",
      "      94.826      775.68      367.77      715.52      291.52      1013.1      638.15]\n",
      "\u001b[34m\u001b[1mtrain: \u001b[0mWARNING ⚠️ /home/vrs/train/lp_seg/data/detect/vids/images/train/01ab841e5251dba6.jpg: ignoring corrupt image/label: non-normalized or out of bounds coordinates [     344.96      220.16      716.16       460.8]\n",
      "\u001b[34m\u001b[1mtrain: \u001b[0mWARNING ⚠️ /home/vrs/train/lp_seg/data/detect/vids/images/train/01bdb1c5d369634e.jpg: ignoring corrupt image/label: non-normalized or out of bounds coordinates [     161.92      237.29      174.08      276.31      218.24      234.73       233.6      280.78      248.96      234.73      279.04      305.09      296.96      225.14      324.48      303.81      365.44      223.86       390.4      302.53      415.36       221.3      455.68      360.09       483.2      234.73\n",
      "       505.6      301.25      512.64      234.73      531.84      299.97      625.28      248.16      657.92      317.88      977.92       221.3        1015      365.85]\n",
      "\u001b[34m\u001b[1mtrain: \u001b[0mWARNING ⚠️ /home/vrs/train/lp_seg/data/detect/vids/images/train/024617353d9f9abb.jpg: ignoring corrupt image/label: non-normalized or out of bounds coordinates [     362.24      273.92      773.12      590.08      543.36       278.4         928       598.4]\n",
      "\u001b[34m\u001b[1mtrain: \u001b[0mWARNING ⚠️ /home/vrs/train/lp_seg/data/detect/vids/images/train/0266cd030c3bbbea.jpg: ignoring corrupt image/label: non-normalized or out of bounds coordinates [     101.76      289.28      420.48      615.04      288.64      322.56      668.16      661.76]\n",
      "\u001b[34m\u001b[1mtrain: \u001b[0mWARNING ⚠️ /home/vrs/train/lp_seg/data/detect/vids/images/train/026fd9ac9f553bd3.jpg: ignoring corrupt image/label: non-normalized or out of bounds coordinates [      27.52       289.6      558.72      456.83      139.52      114.69      672.64      432.48       611.2      194.14      752.64      430.56         736       324.2      871.04      451.06      839.68      340.86      1023.4       483.1]\n",
      "\u001b[34m\u001b[1mtrain: \u001b[0mWARNING ⚠️ /home/vrs/train/lp_seg/data/detect/vids/images/train/02934cc304ee2be1.jpg: ignoring corrupt image/label: non-normalized or out of bounds coordinates [     219.37       108.9      965.73      636.26]\n",
      "\u001b[34m\u001b[1mtrain: \u001b[0mWARNING ⚠️ /home/vrs/train/lp_seg/data/detect/vids/images/train/02aa7d44b844d1f3.jpg: ignoring corrupt image/label: non-normalized or out of bounds coordinates [     341.76       33.28         416       46.72      299.52       87.68      321.92       58.24       355.2      128.64       454.4       90.24      320.64      154.88      362.88      129.92      296.96      181.12       323.2      152.32      318.08         208      362.88      199.68      327.04      240.64\n",
      "      380.16      209.28      283.52      240.64      303.36      232.96      320.64      280.32      381.44       243.2      286.08      266.24      304.64      247.68      343.04      325.76      471.04      277.76      280.96      305.92      296.96      289.92      296.96      309.76      305.92      332.16\n",
      "      315.52       451.2      380.16       345.6      286.08      364.16      299.52      424.96      286.08      533.12      309.76      471.04      304.64      570.24      360.32      542.08      328.96      647.04      463.36       633.6      315.52       678.4      364.16       742.4       307.2      792.32\n",
      "      341.76      901.12      309.76      951.04      336.64       985.6       307.2      1023.4      349.44]\n",
      "\u001b[34m\u001b[1mtrain: \u001b[0mWARNING ⚠️ /home/vrs/train/lp_seg/data/detect/vids/images/train/0329b3d9db175f23.jpg: ignoring corrupt image/label: non-normalized or out of bounds coordinates [      157.7      122.88      509.96      18.432      147.46      143.36      475.15      278.53         213      491.52      501.77       409.6      215.04       567.3      487.44       460.8      249.86      884.74      667.66      808.96       260.1        1022      679.95]\n",
      "\u001b[34m\u001b[1mtrain: \u001b[0mWARNING ⚠️ /home/vrs/train/lp_seg/data/detect/vids/images/train/0334636951c3bc4a.jpg: ignoring corrupt image/label: non-normalized or out of bounds coordinates [     261.97      584.29      374.61      667.02      552.73      18.773      593.67      574.05      39.253      623.52      77.653       574.9      119.47      646.55       204.8      557.84      233.81      586.84      227.84      549.31      285.87      591.11      324.27      632.05      377.17      657.64\n",
      "      533.33      600.49      573.44      651.67      554.67      623.52      646.83      707.11      672.43      570.64      710.83      604.76      713.39      553.58       742.4      583.43      770.56      533.96      807.25      565.52      777.39      559.55      827.73      582.58]\n",
      "\u001b[34m\u001b[1mtrain: \u001b[0mWARNING ⚠️ /home/vrs/train/lp_seg/data/detect/vids/images/train/033bc25d5f672d9e.jpg: ignoring corrupt image/label: non-normalized or out of bounds coordinates [     280.96      116.48       761.6      624.64]\n",
      "\u001b[34m\u001b[1mtrain: \u001b[0mWARNING ⚠️ /home/vrs/train/lp_seg/data/detect/vids/images/train/034ba3ab9005da81.jpg: ignoring corrupt image/label: non-normalized or out of bounds coordinates [     194.14      391.68      549.73      896.64       627.9      194.56      682.36      315.52]\n",
      "\u001b[34m\u001b[1mtrain: \u001b[0mWARNING ⚠️ /home/vrs/train/lp_seg/data/detect/vids/images/train/04071852274d18c2.jpg: ignoring corrupt image/label: non-normalized or out of bounds coordinates [       1.28      332.16       27.52      375.04        2.56      303.36       32.64      335.36        8.96      332.16       63.36      371.84       49.92       329.6      113.28      389.12        83.2      295.68      113.28      308.48       88.32      344.32      222.08       483.2      109.44      341.76\n",
      "      145.28      382.72      109.44      333.44       166.4      353.28      110.72      296.96      146.56      309.76      119.04      333.44      170.88      344.32      154.24       291.2         176       307.2      163.84      304.64      183.68      321.92      200.96      299.52       220.8      318.08\n",
      "      203.52      330.88      245.76         384      229.76      336.64      273.28       390.4       265.6      336.64       310.4       377.6      298.88      303.36      328.96      321.92      302.72      330.88      343.68      365.44      338.56      299.52      367.36      325.76      346.88      330.88\n",
      "       374.4      365.44      354.56      344.32       380.8         368      362.24      327.04      407.04      371.84      368.64       300.8       387.2       323.2      388.48      304.64      410.88      324.48      401.92       345.6      498.56      481.92      411.52      325.76      447.36      346.88\n",
      "      498.56      335.36      559.36      382.72         608      327.04      661.12      364.16      760.32      328.32      801.28      366.72      823.68      333.44       867.2      378.88      922.88      335.36       982.4      371.84      984.96       329.6      1023.4      365.44]\n",
      "\u001b[34m\u001b[1mtrain: \u001b[0mWARNING ⚠️ /home/vrs/train/lp_seg/data/detect/vids/images/train/043aa217f212fb86.jpg: ignoring corrupt image/label: non-normalized or out of bounds coordinates [      91.52      419.45      250.24      508.46      209.28      441.86         464      557.13      437.76      361.17       582.4      504.62      593.92      422.01      747.52       512.3      670.08      434.82      853.76      529.59      868.48      428.41         960       512.3]\n",
      "\u001b[34m\u001b[1mtrain: \u001b[0mWARNING ⚠️ /home/vrs/train/lp_seg/data/detect/vids/images/train/0475a6ced72b172e.jpg: ignoring corrupt image/label: non-normalized or out of bounds coordinates [     211.63       493.8      284.16      533.03      369.49      446.04      412.16      473.33      395.09      497.21      441.17       526.2      440.32      442.63      476.16      469.06      498.35      488.68       550.4      521.94      505.17       435.8      540.16      457.12      580.27         510\n",
      "      670.72      558.61      680.96      483.56      741.55       526.2      785.07       435.8      827.73      458.83      990.72      438.36      1022.3      457.12]\n",
      "\u001b[34m\u001b[1mtrain: \u001b[0mWARNING ⚠️ /home/vrs/train/lp_seg/data/detect/vids/images/train/04fc27d5a1205d68.jpg: ignoring corrupt image/label: non-normalized or out of bounds coordinates [      537.6      222.72      940.16      443.52]\n",
      "\u001b[34m\u001b[1mtrain: \u001b[0mWARNING ⚠️ /home/vrs/train/lp_seg/data/detect/vids/images/train/0566a4b5c6e2faf6.jpg: ignoring corrupt image/label: non-normalized or out of bounds coordinates [     272.64      253.45      772.48       597.8]\n",
      "\u001b[34m\u001b[1mtrain: \u001b[0mWARNING ⚠️ /home/vrs/train/lp_seg/data/detect/vids/images/train/059aefc0da21e534.jpg: ignoring corrupt image/label: non-normalized or out of bounds coordinates [     245.76      342.18      303.79      372.23      323.58      338.08      380.24      388.63      776.88      335.35      878.59      415.26         953      340.82      987.14      379.07]\n",
      "\u001b[34m\u001b[1mtrain: \u001b[0mWARNING ⚠️ /home/vrs/train/lp_seg/data/detect/vids/images/train/05c06faedbf36b46.jpg: ignoring corrupt image/label: non-normalized or out of bounds coordinates [      195.2         344       358.4       578.4       274.4         216         548        12.8       274.4        66.4       330.4         232       322.4         384         440       270.4       225.6         696       342.4         340       386.4       521.6       581.6       426.4       321.6       506.4\n",
      "       394.4       457.6       374.4       633.6         576         744       250.4      1023.2         548]\n",
      "\u001b[34m\u001b[1mtrain: \u001b[0mWARNING ⚠️ /home/vrs/train/lp_seg/data/detect/vids/images/train/05d1af1355d52892.jpg: ignoring corrupt image/label: non-normalized or out of bounds coordinates [        160         520         312       627.2       652.8       524.8       886.4      1022.4]\n",
      "\u001b[34m\u001b[1mtrain: \u001b[0mWARNING ⚠️ /home/vrs/train/lp_seg/data/detect/vids/images/train/05f7e9995475ed9b.jpg: ignoring corrupt image/label: non-normalized or out of bounds coordinates [      10.24      208.64      136.32      177.92       26.24       435.2      229.76       201.6       451.2        89.6      295.04      127.36      1023.4      575.36       435.2      522.24      151.04]\n",
      "\u001b[34m\u001b[1mtrain: \u001b[0mWARNING ⚠️ /home/vrs/train/lp_seg/data/detect/vids/images/train/069ec0283e558c3a.jpg: ignoring corrupt image/label: non-normalized or out of bounds coordinates [     162.56      328.96      567.04      696.32]\n",
      "\u001b[34m\u001b[1mtrain: \u001b[0mWARNING ⚠️ /home/vrs/train/lp_seg/data/detect/vids/images/train/0752cdc6cb766878.jpg: ignoring corrupt image/label: non-normalized or out of bounds coordinates [        196      1023.2       597.6]\n",
      "\u001b[34m\u001b[1mtrain: \u001b[0mWARNING ⚠️ /home/vrs/train/lp_seg/data/detect/vids/images/train/07b2986bd890136f.jpg: ignoring corrupt image/label: non-normalized or out of bounds coordinates [     469.76      334.83      666.24      462.23]\n",
      "\u001b[34m\u001b[1mtrain: \u001b[0mWARNING ⚠️ /home/vrs/train/lp_seg/data/detect/vids/images/train/088eaf74c179d4aa.jpg: ignoring corrupt image/label: non-normalized or out of bounds coordinates [     158.72      481.36      391.68      604.26       409.6      523.61       595.2      560.73      675.84      96.016      929.28      554.33      688.64      418.63       825.6      524.89      798.72      389.18      1022.7      531.29]\n",
      "\u001b[34m\u001b[1mtrain: \u001b[0mWARNING ⚠️ /home/vrs/train/lp_seg/data/detect/vids/images/train/08bc92b604f5e873.jpg: ignoring corrupt image/label: non-normalized or out of bounds coordinates [         64      410.24      609.92      704.64      659.84       441.6         800      533.12         784      478.72      831.36      526.08      805.12       473.6       905.6      526.08]\n",
      "\u001b[34m\u001b[1mtrain: \u001b[0mWARNING ⚠️ /home/vrs/train/lp_seg/data/detect/vids/images/train/09c063ba7192afa0.jpg: ignoring corrupt image/label: non-normalized or out of bounds coordinates [     257.28      437.76       377.6      621.44      325.12      444.16      481.28       646.4       377.6      462.72      549.76      653.44      437.76      455.68      814.72      693.76         448       412.8        1017      762.88      490.88      571.52      622.08      668.16]\n",
      "\u001b[34m\u001b[1mtrain: \u001b[0mWARNING ⚠️ /home/vrs/train/lp_seg/data/detect/vids/images/train/09d2748d4780ab60.jpg: ignoring corrupt image/label: non-normalized or out of bounds coordinates [        335         351         552         560         301          64         441         570         220         632         268         622         212         653         263         628         191         653         215         644         215         668         261         663         230         686\n",
      "         260         672         246         698         296         692         229         741         293         713         219         744         262         750         245         867         358         837         335        1023         470         944         233         998         299         996\n",
      "         234        1023         308]\n",
      "\u001b[34m\u001b[1mtrain: \u001b[0mWARNING ⚠️ /home/vrs/train/lp_seg/data/detect/vids/images/train/09e06de9963532c0.jpg: ignoring corrupt image/label: non-normalized or out of bounds coordinates [      66.56      32.631      922.24      705.73]\n",
      "\u001b[34m\u001b[1mtrain: \u001b[0mWARNING ⚠️ /home/vrs/train/lp_seg/data/detect/vids/images/train/0a036c2bd1b5a4d4.jpg: ignoring corrupt image/label: non-normalized or out of bounds coordinates [       44.8       472.8        92.8       519.2        92.8       464.8       187.2       521.6       281.6       453.6       316.8       505.6       434.4       453.6       509.6       517.6       438.4       466.4         460       497.6       450.4         448       506.4       494.4       473.6       445.6\n",
      "       530.4       481.6         576       450.4       629.6         512       626.4       441.6         680         488         680       445.6       693.6       482.4         688       461.6       726.4       481.6         692         436         720       461.6       705.6       429.6         792         484\n",
      "         784         452         816         476         792       430.4       866.4       470.4       801.6         444       857.6         480       813.6         464       874.4         504         860       430.4       914.4       462.4       862.4         436       965.6         496       922.4       429.6\n",
      "       986.4       465.6]\n",
      "\u001b[34m\u001b[1mtrain: \u001b[0mWARNING ⚠️ /home/vrs/train/lp_seg/data/detect/vids/images/train/0a12aad70c5c6310.jpg: ignoring corrupt image/label: non-normalized or out of bounds coordinates [     106.88      533.12      352.64      631.04      126.72      323.84      151.68      338.56      266.88         448      471.68      632.32       278.4         320         288      330.88      548.48      445.44      664.96      632.32      718.08      522.24      952.96      626.56      956.16      325.12\n",
      "      978.56      343.68       988.8      321.28        1001      339.84]\n",
      "\u001b[34m\u001b[1mtrain: \u001b[0mWARNING ⚠️ /home/vrs/train/lp_seg/data/detect/vids/images/train/0a3ceda0ccb026a5.jpg: ignoring corrupt image/label: non-normalized or out of bounds coordinates [      390.4      201.03      702.08      832.93      477.44      122.92      608.64      327.16]\n",
      "\u001b[34m\u001b[1mtrain: \u001b[0mWARNING ⚠️ /home/vrs/train/lp_seg/data/detect/vids/images/train/0a5c8e8d9ef62186.jpg: ignoring corrupt image/label: non-normalized or out of bounds coordinates [     112.64      464.52      347.52      657.37      571.52      470.92      718.72      608.68      645.12      498.47      817.28      647.12      725.12      477.33      897.28      606.11]\n",
      "\u001b[34m\u001b[1mtrain: \u001b[0mWARNING ⚠️ /home/vrs/train/lp_seg/data/detect/vids/images/train/0afb99fc2ce00355.jpg: ignoring corrupt image/label: non-normalized or out of bounds coordinates [       3.84      194.11       65.28      425.38         6.4      176.82      309.12      418.98        99.2      226.79      296.32      459.34      165.12      269.07      259.84      468.95      226.56      182.58      386.56      508.03      461.44      211.41         880      463.18      504.96      194.11\n",
      "       902.4      429.23]\n",
      "\u001b[34m\u001b[1mtrain: \u001b[0mWARNING ⚠️ /home/vrs/train/lp_seg/data/detect/vids/images/train/0b1307eed0934fdb.jpg: ignoring corrupt image/label: non-normalized or out of bounds coordinates [     344.81      21.389      393.81      79.318      351.94      293.21      465.98      335.09      247.69      465.21      422.32      372.53         286      625.63      517.66      712.08      259.27      932.21      451.73]\n",
      "\u001b[34m\u001b[1mtrain: \u001b[0mWARNING ⚠️ /home/vrs/train/lp_seg/data/detect/vids/images/train/0bb22bf977396515.jpg: ignoring corrupt image/label: non-normalized or out of bounds coordinates [     121.74      232.96      285.12       425.6]\n",
      "\u001b[34m\u001b[1mtrain: \u001b[0mWARNING ⚠️ /home/vrs/train/lp_seg/data/detect/vids/images/train/0c2bc555f68e6062.jpg: ignoring corrupt image/label: non-normalized or out of bounds coordinates [      99.84      186.88       579.2      699.52      901.76       220.8      1023.4      555.52]\n",
      "\u001b[34m\u001b[1mtrain: \u001b[0mWARNING ⚠️ /home/vrs/train/lp_seg/data/detect/vids/images/train/0c371dca7005366f.jpg: ignoring corrupt image/label: non-normalized or out of bounds coordinates [      306.2       724.5      396.55      893.49       655.9      135.53      913.57       205.8      644.18      322.93      891.82      463.48      684.34      573.91      898.51       555.5      696.05      650.88      901.86      972.13       674.3      1022.3       818.2]\n",
      "\u001b[34m\u001b[1mtrain: \u001b[0mWARNING ⚠️ /home/vrs/train/lp_seg/data/detect/vids/images/train/0c54a5dc9cc261c6.jpg: ignoring corrupt image/label: non-normalized or out of bounds coordinates [      249.6      239.36      951.04      692.48]\n",
      "\u001b[34m\u001b[1mtrain: \u001b[0mWARNING ⚠️ /home/vrs/train/lp_seg/data/detect/vids/images/train/0cd4daed6ebb4e3c.jpg: ignoring corrupt image/label: non-normalized or out of bounds coordinates [     390.64      421.31       897.2         728]\n",
      "\u001b[34m\u001b[1mtrain: \u001b[0mWARNING ⚠️ /home/vrs/train/lp_seg/data/detect/vids/images/train/0d1a56096a3ef5a9.jpg: ignoring corrupt image/label: non-normalized or out of bounds coordinates [     229.76      213.12       739.2      580.48]\n",
      "\u001b[34m\u001b[1mtrain: \u001b[0mWARNING ⚠️ /home/vrs/train/lp_seg/data/detect/vids/images/train/0d5e31a5bdc3d885.jpg: ignoring corrupt image/label: non-normalized or out of bounds coordinates [      262.4       17.28      328.32       268.8       71.68      328.32      321.92      141.44      533.76        1.28      267.52       88.96      459.52       49.28      270.08      133.76      309.76       63.36      315.52      386.56      545.28        83.2      272.64      189.44      503.04        86.4\n",
      "      283.52         192      350.72      177.28      296.96       214.4      336.64      178.56      267.52      391.68      330.88         192      296.96      433.92      456.96      199.68      266.24      235.52      299.52      223.36      275.84      337.28      308.48      231.68      341.76      349.44\n",
      "      603.52      267.52      299.52      350.72      332.16      304.64       262.4      385.28      305.92       380.8      312.32      474.88      492.16      392.96      267.52      449.92      308.48      431.36      267.52      673.28      325.76      431.36      267.52      689.28      398.72      464.64\n",
      "      319.36      707.84      529.28      510.72      261.12      580.48      277.12      548.48      322.56      803.84      606.08      623.36      293.76      844.16      480.64       665.6      257.28      856.96      312.32      669.44      257.28      766.08      275.84      705.28      315.52       969.6\n",
      "      563.84      835.84      263.68      960.64      529.28       841.6      257.28      899.84      280.96]\n",
      "\u001b[34m\u001b[1mtrain: \u001b[0mWARNING ⚠️ /home/vrs/train/lp_seg/data/detect/vids/images/train/0e0824e86ca67fe8.jpg: ignoring corrupt image/label: non-normalized or out of bounds coordinates [     240.64      615.04      460.16      885.12       96.64       649.6      323.84       854.4      196.48      588.16      227.84       630.4       556.8      644.48       611.2      796.16      635.52      664.96      787.84      881.92      719.36      597.12      759.68       630.4]\n",
      "\u001b[34m\u001b[1mtrain: \u001b[0mWARNING ⚠️ /home/vrs/train/lp_seg/data/detect/vids/images/train/0e5552c95c5ab290.jpg: ignoring corrupt image/label: non-normalized or out of bounds coordinates [        159         345         253         391         205         383         328         442         263         329         314         341         268         329         340         366         298         322         372         362         443         428         569         504         785         360\n",
      "         877         399]\n",
      "\u001b[34m\u001b[1mtrain: \u001b[0mWARNING ⚠️ /home/vrs/train/lp_seg/data/detect/vids/images/train/0e6f69eb586c9b10.jpg: ignoring corrupt image/label: non-normalized or out of bounds coordinates [     164.08      423.58      258.72      604.73      257.36      425.62      342.47      613.58      262.13      377.27      288.68      423.58      285.96      377.27      301.62      407.24      285.96      377.27         352      428.35      315.23      420.86      369.02      569.32      343.83      350.03\n",
      "      369.02      371.83      358.13       365.7      383.32      390.21      359.49      384.08      425.53      514.16      397.62      343.22      417.36      377.27      400.34       419.5      488.17      584.98      407.15      386.81      446.64      424.94         416      370.46      452.77      414.05\n",
      "      877.62      398.39      977.02      514.16]\n",
      "\u001b[34m\u001b[1mtrain: \u001b[0mWARNING ⚠️ /home/vrs/train/lp_seg/data/detect/vids/images/train/0ecd8f5d7bb3d8b9.jpg: ignoring corrupt image/label: non-normalized or out of bounds coordinates [      58.88      452.69       96.64      482.79      191.36      451.41      218.88      515.44      264.32      451.41      285.44      509.68      846.08      457.82      883.84      514.16      876.16      461.66      904.96      519.92]\n",
      "\u001b[34m\u001b[1mtrain: \u001b[0mWARNING ⚠️ /home/vrs/train/lp_seg/data/detect/vids/images/train/0f361abd356d1680.jpg: ignoring corrupt image/label: non-normalized or out of bounds coordinates [      857.6      180.35      1011.2      342.79]\n",
      "\u001b[34m\u001b[1mtrain: \u001b[0mWARNING ⚠️ /home/vrs/train/lp_seg/data/detect/vids/images/train/1002f332f414f09c.jpg: ignoring corrupt image/label: non-normalized or out of bounds coordinates [      297.6      298.59       585.6      461.99      619.52      308.85      779.52      542.72      771.84      280.01      965.76      466.47      951.68      289.62      1023.4       457.5]\n",
      "\u001b[34m\u001b[1mtrain: \u001b[0mWARNING ⚠️ /home/vrs/train/lp_seg/data/detect/vids/images/train/103eaceb33088b37.jpg: ignoring corrupt image/label: non-normalized or out of bounds coordinates [     668.16       438.4      727.04      595.84      381.44        22.4      433.28        22.4      371.84        44.8      433.28       55.68      382.72       87.68      449.92      117.76      371.84      152.32      433.28      394.24      403.84      431.36      506.88      465.92      410.24      498.56\n",
      "      533.76      497.28      397.44      547.84      542.72      568.96      405.12      615.04      557.44         640      410.24       678.4      542.72      766.08      407.68         816      561.28      829.44      418.56      882.56      593.28      903.68      411.52      957.44      538.88      968.32\n",
      "      431.36      1023.4      661.76]\n",
      "\u001b[34m\u001b[1mtrain: \u001b[0mWARNING ⚠️ /home/vrs/train/lp_seg/data/detect/vids/images/train/10577b66d93ef116.jpg: ignoring corrupt image/label: non-normalized or out of bounds coordinates [      82.56      279.35      237.44      548.45      176.64      313.31      272.64      438.25      212.48      274.23      382.72      529.87      287.36      258.21      599.68      554.86      483.84      254.36         720      552.93      643.84      309.46      865.92       503.6      830.08      354.31\n",
      "      945.92      443.37]\n",
      "\u001b[34m\u001b[1mtrain: \u001b[0mWARNING ⚠️ /home/vrs/train/lp_seg/data/detect/vids/images/train/1060bd289f27b4da.jpg: ignoring corrupt image/label: non-normalized or out of bounds coordinates [      11.52      557.44          80       678.4        41.6      676.48      142.08      767.36       85.76      213.12      139.52       345.6      119.68       550.4       166.4      666.88      122.24      202.88       166.4      303.36       134.4      220.16       201.6      341.76       188.8      541.44\n",
      "      229.76       627.2      247.04      526.72         272      600.96      280.96         544      334.08      680.32      344.96      529.28      384.64      654.08      391.04      538.88      440.96      676.48      430.72      510.72      458.24      613.12      434.56       537.6      469.12      628.48\n",
      "      469.12      525.44      490.24      628.48      485.12      524.16      510.08       611.2      511.36      522.88      540.16      613.12      625.28         544      679.04       675.2      672.64      535.04       707.2      663.04      687.36      525.44      740.48      690.56         736      531.84\n",
      "      880.64      702.72]\n",
      "\u001b[34m\u001b[1mtrain: \u001b[0mWARNING ⚠️ /home/vrs/train/lp_seg/data/detect/vids/images/train/10922bc7c48b4f2f.jpg: ignoring corrupt image/label: non-normalized or out of bounds coordinates [     330.61      145.28       517.7      111.36      336.37      168.96      501.68      111.36      360.08      213.76       517.7      190.08      369.05       326.4      533.07      235.52      350.47      331.52      495.27      302.72      353.03         448      530.51       316.8      337.66       390.4\n",
      "      518.98       406.4       355.6      532.48       489.5       515.2      353.67      727.68      513.21       601.6      356.88       761.6      508.09      728.96      356.88      803.84      488.22]\n",
      "\u001b[34m\u001b[1mtrain: \u001b[0mWARNING ⚠️ /home/vrs/train/lp_seg/data/detect/vids/images/train/110912166a3ba0fe.jpg: ignoring corrupt image/label: non-normalized or out of bounds coordinates [     46.933      197.12      362.67      745.81]\n",
      "\u001b[34m\u001b[1mtrain: \u001b[0mWARNING ⚠️ /home/vrs/train/lp_seg/data/detect/vids/images/train/116c10f0f77f7316.jpg: ignoring corrupt image/label: non-normalized or out of bounds coordinates [     114.56      215.68        74.9      344.96      94.744      816.64      729.79      446.72      689.92      52.494]\n",
      "\u001b[34m\u001b[1mtrain: \u001b[0mWARNING ⚠️ /home/vrs/train/lp_seg/data/detect/vids/images/train/122c0d05a63d5f56.jpg: ignoring corrupt image/label: non-normalized or out of bounds coordinates [     120.96       110.2       844.8      574.08      149.29       201.6      419.67]\n",
      "\u001b[34m\u001b[1mtrain: \u001b[0mWARNING ⚠️ /home/vrs/train/lp_seg/data/detect/vids/images/train/129ee88e8b4b94c0.jpg: ignoring corrupt image/label: non-normalized or out of bounds coordinates [        361         322         447         417         356          46         414         120         349         170         406         168         366         268         455         200         292         211         306         235         290         256         308         389         290         402\n",
      "         304         392         306         433         333         468         314         492         337         492         304         539         334         549         304         575         325         602         288         636         309         639         288         658         305]\n",
      "\u001b[34m\u001b[1mtrain: \u001b[0mWARNING ⚠️ /home/vrs/train/lp_seg/data/detect/vids/images/train/130e338f2287fd6c.jpg: ignoring corrupt image/label: non-normalized or out of bounds coordinates [        448      410.24      632.96      526.08]\n",
      "\u001b[34m\u001b[1mtrain: \u001b[0mWARNING ⚠️ /home/vrs/train/lp_seg/data/detect/vids/images/train/136.png: corrupt JPEG restored and saved\n",
      "\u001b[34m\u001b[1mtrain: \u001b[0mWARNING ⚠️ /home/vrs/train/lp_seg/data/detect/vids/images/train/137.png: corrupt JPEG restored and saved\n",
      "\u001b[34m\u001b[1mtrain: \u001b[0mWARNING ⚠️ /home/vrs/train/lp_seg/data/detect/vids/images/train/138.png: corrupt JPEG restored and saved\n",
      "\u001b[34m\u001b[1mtrain: \u001b[0mWARNING ⚠️ /home/vrs/train/lp_seg/data/detect/vids/images/train/139.png: corrupt JPEG restored and saved\n",
      "\u001b[34m\u001b[1mtrain: \u001b[0mWARNING ⚠️ /home/vrs/train/lp_seg/data/detect/vids/images/train/143.png: corrupt JPEG restored and saved\n",
      "\u001b[34m\u001b[1mtrain: \u001b[0mWARNING ⚠️ /home/vrs/train/lp_seg/data/detect/vids/images/train/145.png: corrupt JPEG restored and saved\n",
      "\u001b[34m\u001b[1mtrain: \u001b[0mWARNING ⚠️ /home/vrs/train/lp_seg/data/detect/vids/images/train/146.png: corrupt JPEG restored and saved\n",
      "\u001b[34m\u001b[1mtrain: \u001b[0mWARNING ⚠️ /home/vrs/train/lp_seg/data/detect/vids/images/train/147.png: corrupt JPEG restored and saved\n",
      "\u001b[34m\u001b[1mtrain: \u001b[0mWARNING ⚠️ /home/vrs/train/lp_seg/data/detect/vids/images/train/149.png: corrupt JPEG restored and saved\n",
      "\u001b[34m\u001b[1mtrain: \u001b[0mWARNING ⚠️ /home/vrs/train/lp_seg/data/detect/vids/images/train/14b6cb84472d49b2.jpg: ignoring corrupt image/label: non-normalized or out of bounds coordinates [     687.36      410.06      917.12      614.44]\n",
      "\u001b[34m\u001b[1mtrain: \u001b[0mWARNING ⚠️ /home/vrs/train/lp_seg/data/detect/vids/images/train/150.png: corrupt JPEG restored and saved\n",
      "\u001b[34m\u001b[1mtrain: \u001b[0mWARNING ⚠️ /home/vrs/train/lp_seg/data/detect/vids/images/train/152.png: corrupt JPEG restored and saved\n",
      "\u001b[34m\u001b[1mtrain: \u001b[0mWARNING ⚠️ /home/vrs/train/lp_seg/data/detect/vids/images/train/154.png: corrupt JPEG restored and saved\n",
      "\u001b[34m\u001b[1mtrain: \u001b[0mWARNING ⚠️ /home/vrs/train/lp_seg/data/detect/vids/images/train/156.png: corrupt JPEG restored and saved\n",
      "\u001b[34m\u001b[1mtrain: \u001b[0mWARNING ⚠️ /home/vrs/train/lp_seg/data/detect/vids/images/train/157.png: corrupt JPEG restored and saved\n",
      "\u001b[34m\u001b[1mtrain: \u001b[0mWARNING ⚠️ /home/vrs/train/lp_seg/data/detect/vids/images/train/158.png: corrupt JPEG restored and saved\n",
      "\u001b[34m\u001b[1mtrain: \u001b[0mWARNING ⚠️ /home/vrs/train/lp_seg/data/detect/vids/images/train/161.png: corrupt JPEG restored and saved\n",
      "\u001b[34m\u001b[1mtrain: \u001b[0mWARNING ⚠️ /home/vrs/train/lp_seg/data/detect/vids/images/train/163.png: corrupt JPEG restored and saved\n",
      "\u001b[34m\u001b[1mtrain: \u001b[0mWARNING ⚠️ /home/vrs/train/lp_seg/data/detect/vids/images/train/166.png: corrupt JPEG restored and saved\n",
      "\u001b[34m\u001b[1mtrain: \u001b[0mWARNING ⚠️ /home/vrs/train/lp_seg/data/detect/vids/images/train/168.png: corrupt JPEG restored and saved\n",
      "\u001b[34m\u001b[1mtrain: \u001b[0mWARNING ⚠️ /home/vrs/train/lp_seg/data/detect/vids/images/train/171.png: corrupt JPEG restored and saved\n",
      "\u001b[34m\u001b[1mtrain: \u001b[0mWARNING ⚠️ /home/vrs/train/lp_seg/data/detect/vids/images/train/185a8ea2de8cbc71.jpg: ignoring corrupt image/label: non-normalized or out of bounds coordinates [     272.64      81.968      974.08      664.07]\n",
      "\u001b[34m\u001b[1mtrain: \u001b[0mWARNING ⚠️ /home/vrs/train/lp_seg/data/detect/vids/images/train/19a5e51ef03e8fa6.jpg: ignoring corrupt image/label: non-normalized or out of bounds coordinates [      43.52      471.04       233.6      568.96       55.04      453.76      253.44      558.08]\n",
      "\u001b[34m\u001b[1mtrain: \u001b[0mWARNING ⚠️ /home/vrs/train/lp_seg/data/detect/vids/images/train/1aab7cab1a1dd5ae.jpg: ignoring corrupt image/label: non-normalized or out of bounds coordinates [        624      488.22      701.44      549.73]\n",
      "\u001b[34m\u001b[1mtrain: \u001b[0mWARNING ⚠️ /home/vrs/train/lp_seg/data/detect/vids/images/train/1abd28dfb0dddc27.jpg: ignoring corrupt image/label: non-normalized or out of bounds coordinates [     75.604      311.04      488.22      277.76      151.85      338.56      304.34         320      116.61      440.32      317.15      359.04      123.02      507.52      390.84      433.92      103.15      632.32      409.42      588.16      71.119      999.04       434.4      917.12      109.56      1023.4\n",
      "      299.21]\n",
      "\u001b[34m\u001b[1mtrain: \u001b[0mWARNING ⚠️ /home/vrs/train/lp_seg/data/detect/vids/images/train/1b1887c60323e6cf.jpg: ignoring corrupt image/label: non-normalized or out of bounds coordinates [     216.32      358.17      341.12      489.29      968.32      524.46      1023.4      587.14]\n",
      "\u001b[34m\u001b[1mtrain: \u001b[0mWARNING ⚠️ /home/vrs/train/lp_seg/data/detect/vids/images/train/1b31bb12c2535500.jpg: ignoring corrupt image/label: non-normalized or out of bounds coordinates [      11.52      217.46      526.08      447.07       68.48      319.79      639.36      588.42       217.6      195.07      328.96      226.41      389.76      189.96      557.44      222.58      442.24      189.96      798.72      571.15      533.76      192.52      994.56      585.86       675.2      399.74\n",
      "      1023.4      667.09      807.68      557.08      1023.4      684.36      837.12      238.57      1023.4       626.8]\n",
      "\u001b[34m\u001b[1mtrain: \u001b[0mWARNING ⚠️ /home/vrs/train/lp_seg/data/detect/vids/images/train/1d70580aae44d5f5.jpg: ignoring corrupt image/label: non-normalized or out of bounds coordinates [     615.68      326.76      705.92       379.3      631.68      280.63      699.52      344.06      704.64      317.79      845.44      431.84]\n",
      "\u001b[34m\u001b[1mtrain: \u001b[0mWARNING ⚠️ /home/vrs/train/lp_seg/data/detect/vids/images/train/1e8eef83fcdf9f80.jpg: ignoring corrupt image/label: non-normalized or out of bounds coordinates [     698.88      346.88      913.28      721.28      132.48      363.52      200.32      494.72      206.08      417.28      291.84      595.84]\n",
      "\u001b[34m\u001b[1mtrain: \u001b[0mWARNING ⚠️ /home/vrs/train/lp_seg/data/detect/vids/images/train/1f92c35156253802.jpg: ignoring corrupt image/label: non-normalized or out of bounds coordinates [      39.68       223.4      155.52       556.9      296.37       39.04      528.73      116.48      151.71      191.36      338.62      676.48      211.24      878.72      622.83      819.84      193.95         960      620.27]\n",
      "\u001b[34m\u001b[1mtrain: \u001b[0mWARNING ⚠️ /home/vrs/train/lp_seg/data/detect/vids/images/train/1fbf812f90edbff5.jpg: ignoring corrupt image/label: non-normalized or out of bounds coordinates [        390         342         637         518]\n",
      "\u001b[34m\u001b[1mtrain: \u001b[0mWARNING ⚠️ /home/vrs/train/lp_seg/data/detect/vids/images/train/1fc5d37b4f8620c3.jpg: ignoring corrupt image/label: non-normalized or out of bounds coordinates [     689.92      346.88       828.8      446.72      362.24      337.28      371.84      353.28       419.2      337.28      440.32      349.44      430.08      391.68       534.4         480      433.92         368         544      458.88      471.04         336      488.32      348.16      586.24      337.28\n",
      "       595.2      346.88       588.8      330.88      606.08      341.12      628.48      330.88       643.2      341.12      664.32      327.04      670.72      338.56      673.28      328.32      682.88         336      685.44      325.12      707.84      338.56      711.68      327.04      721.28         336\n",
      "      731.52      325.12      736.64         336      775.04      322.56      785.92      338.56       793.6      350.72      867.84      423.04]\n",
      "\u001b[34m\u001b[1mtrain: \u001b[0mWARNING ⚠️ /home/vrs/train/lp_seg/data/detect/vids/images/train/1fffa8f7d2cb9ed7.jpg: ignoring corrupt image/label: non-normalized or out of bounds coordinates [     198.49      365.44      271.48       10.24      201.69       75.52      253.55       74.24      199.13      142.72      256.11      161.28      201.69      228.48      256.11      225.92      466.76         656      756.17      236.16      199.13      303.36      253.55      280.32      199.13      367.36\n",
      "      261.87      315.52      438.59         480      754.89      439.68      176.72      634.24      288.76      444.16      398.89       598.4      498.78      621.44      191.44      798.72      302.85      772.48      224.74      815.36      256.11      798.72      191.44      904.96      248.43      849.28\n",
      "      229.22      903.68      257.39      892.16      192.72      980.48      318.86]\n",
      "\u001b[34m\u001b[1mtrain: \u001b[0mWARNING ⚠️ /home/vrs/train/lp_seg/data/detect/vids/images/train/20c066acf3db4a2b.jpg: ignoring corrupt image/label: non-normalized or out of bounds coordinates [      451.7      789.12      515.13      974.08]\n",
      "\u001b[34m\u001b[1mtrain: \u001b[0mWARNING ⚠️ /home/vrs/train/lp_seg/data/detect/vids/images/train/20eea6205729133f.jpg: ignoring corrupt image/label: non-normalized or out of bounds coordinates [     229.68      451.58       608.9      665.71]\n",
      "\u001b[34m\u001b[1mtrain: \u001b[0mWARNING ⚠️ /home/vrs/train/lp_seg/data/detect/vids/images/train/20f8e684c3c20153.jpg: ignoring corrupt image/label: non-normalized or out of bounds coordinates [     567.04      198.62      840.32      447.86]\n",
      "\u001b[34m\u001b[1mtrain: \u001b[0mWARNING ⚠️ /home/vrs/train/lp_seg/data/detect/vids/images/train/21bfe1f9f70b7edd.jpg: ignoring corrupt image/label: non-normalized or out of bounds coordinates [     396.89      457.78      574.85      565.17]\n",
      "\u001b[34m\u001b[1mtrain: \u001b[0mWARNING ⚠️ /home/vrs/train/lp_seg/data/detect/vids/images/train/21c007106be9ec04.jpg: ignoring corrupt image/label: non-normalized or out of bounds coordinates [     184.32       287.9      231.68      381.31      206.08      317.33         256      359.55       262.4      296.86      436.48      403.06      421.12      289.18       595.2      417.13       569.6      305.81      803.84      488.79      788.48      296.86      898.56      399.22]\n",
      "\u001b[34m\u001b[1mtrain: \u001b[0mWARNING ⚠️ /home/vrs/train/lp_seg/data/detect/vids/images/train/22325d75f614a4bc.jpg: ignoring corrupt image/label: non-normalized or out of bounds coordinates [     395.52         176      657.92      560.64]\n",
      "\u001b[34m\u001b[1mtrain: \u001b[0mWARNING ⚠️ /home/vrs/train/lp_seg/data/detect/vids/images/train/23308a25404327ef.jpg: ignoring corrupt image/label: non-normalized or out of bounds coordinates [     526.72      347.72       588.8      462.35      328.32      1.2808      332.16      8.9656      333.44      228.61       345.6      263.83      357.12      48.669      363.52      61.476      369.28      69.801      373.12      82.609       396.8      102.46      405.76      127.43      404.48      96.056\n",
      "       409.6      107.58       467.2      105.02       483.2      117.19       505.6      353.49      545.92      450.18]\n",
      "\u001b[34m\u001b[1mtrain: \u001b[0mWARNING ⚠️ /home/vrs/train/lp_seg/data/detect/vids/images/train/2431a803c8c5f774.jpg: ignoring corrupt image/label: non-normalized or out of bounds coordinates [     278.76      78.484      925.01      435.64]\n",
      "\u001b[34m\u001b[1mtrain: \u001b[0mWARNING ⚠️ /home/vrs/train/lp_seg/data/detect/vids/images/train/2470edf55278c05e.jpg: ignoring corrupt image/label: non-normalized or out of bounds coordinates [     343.68      152.32      778.88      664.96]\n",
      "\u001b[34m\u001b[1mtrain: \u001b[0mWARNING ⚠️ /home/vrs/train/lp_seg/data/detect/vids/images/train/24eee01ea4013d6f.jpg: ignoring corrupt image/label: non-normalized or out of bounds coordinates [      441.6      329.69       684.8      512.13      232.53      336.09      401.07      520.67]\n",
      "\u001b[34m\u001b[1mtrain: \u001b[0mWARNING ⚠️ /home/vrs/train/lp_seg/data/detect/vids/images/train/2639b6ee4d21cf81.jpg: ignoring corrupt image/label: non-normalized or out of bounds coordinates [     719.36      338.72       857.6      552.58      113.28      297.74      270.72      455.25      159.36      308.63      304.64      473.82      165.76      291.34      208.64         340      222.08      323.99      350.72      558.98      277.12      295.18      405.76      361.13      312.32      367.53\n",
      "      420.48      583.95         352      312.47       438.4      388.66      398.08      375.22      611.84      608.93         416      302.22      504.32       376.5      458.24      334.88      567.04       416.2      500.48      317.59      554.24      395.07      551.68      331.04         592      356.01\n",
      "      551.68      347.68      656.64      521.21      583.04      311.19      641.92      373.94      631.68       333.6       729.6      530.17      679.68      318.87      775.68      503.92]\n",
      "\u001b[34m\u001b[1mtrain: \u001b[0mWARNING ⚠️ /home/vrs/train/lp_seg/data/detect/vids/images/train/27986bb84f938d10.jpg: ignoring corrupt image/label: non-normalized or out of bounds coordinates [     186.31       787.2      602.45]\n",
      "\u001b[34m\u001b[1mtrain: \u001b[0mWARNING ⚠️ /home/vrs/train/lp_seg/data/detect/vids/images/train/27e5c64bbfc6dc04.jpg: ignoring corrupt image/label: non-normalized or out of bounds coordinates [     340.05      847.93      455.32      915.77      499.51      829.37      683.95      939.44]\n",
      "\u001b[34m\u001b[1mtrain: \u001b[0mWARNING ⚠️ /home/vrs/train/lp_seg/data/detect/vids/images/train/28d78ca738d910df.jpg: ignoring corrupt image/label: non-normalized or out of bounds coordinates [        194         443         291         534         264         331         313         452         357         410         423         610         383         330         437         436         480         443         560         528         575         427         648         518         600         366\n",
      "         660         464         637         468         757         707         670         303         722         406         709         394         788         497]\n",
      "\u001b[34m\u001b[1mtrain: \u001b[0mWARNING ⚠️ /home/vrs/train/lp_seg/data/detect/vids/images/train/2a470da9213eeba0.jpg: ignoring corrupt image/label: non-normalized or out of bounds coordinates [     392.03      249.75      951.16      604.56]\n",
      "\u001b[34m\u001b[1mtrain: \u001b[0mWARNING ⚠️ /home/vrs/train/lp_seg/data/detect/vids/images/train/2a9d65391a2484b2.jpg: ignoring corrupt image/label: non-normalized or out of bounds coordinates [      29.44      385.28       84.48      475.52      210.56       374.4      291.84      458.88      303.36      373.12      391.04       470.4       358.4      369.28      394.24      424.32       505.6      369.28      554.24      465.28      558.08       374.4      616.96       454.4      564.48      365.44\n",
      "      589.44      376.96      631.68      366.72      740.48      462.72]\n",
      "\u001b[34m\u001b[1mtrain: \u001b[0mWARNING ⚠️ /home/vrs/train/lp_seg/data/detect/vids/images/train/2aa9e34fd5ebaa4a.jpg: ignoring corrupt image/label: non-normalized or out of bounds coordinates [     474.24      649.51      616.32      871.14      548.48      647.59      746.24      924.95]\n",
      "\u001b[34m\u001b[1mtrain: \u001b[0mWARNING ⚠️ /home/vrs/train/lp_seg/data/detect/vids/images/train/2af5e8db68cbb95f.jpg: ignoring corrupt image/label: non-normalized or out of bounds coordinates [     343.04      700.16      423.68       870.4       56.32      655.36      130.56       947.2       262.4      651.52      766.72      1022.7]\n",
      "\u001b[34m\u001b[1mtrain: \u001b[0mWARNING ⚠️ /home/vrs/train/lp_seg/data/detect/vids/images/train/2c04475810ae6ad8.jpg: ignoring corrupt image/label: non-normalized or out of bounds coordinates [     791.43      353.05      975.48      617.41      93.699      607.37      277.75      716.13      408.26       555.5      505.31      600.68      493.59      396.55      746.25      722.82      615.74      394.88      774.69      592.31       742.9      391.53      813.18      523.71]\n",
      "\u001b[34m\u001b[1mtrain: \u001b[0mWARNING ⚠️ /home/vrs/train/lp_seg/data/detect/vids/images/train/2cbdebd56f6a1320.jpg: ignoring corrupt image/label: non-normalized or out of bounds coordinates [        112       377.6      277.12      504.32       265.6      328.96      435.84      440.96       812.8      254.72      926.72      369.92]\n",
      "\u001b[34m\u001b[1mtrain: \u001b[0mWARNING ⚠️ /home/vrs/train/lp_seg/data/detect/vids/images/train/2ea605a570f0bd73.jpg: ignoring corrupt image/label: non-normalized or out of bounds coordinates [     633.36      113.41      693.55      275.51      601.98      131.99      624.39      187.09       730.7      125.58      789.61      274.87      772.32      138.39      796.02      221.05      788.33      128.14      848.53      298.57      831.88      125.58      881.19      298.57      858.14      110.84\n",
      "      939.47      307.54      879.91      117.25      952.27      311.39      991.98      147.36      1023.4      319.72]\n",
      "\u001b[34m\u001b[1mtrain: \u001b[0mWARNING ⚠️ /home/vrs/train/lp_seg/data/detect/vids/images/train/2f1359935ac11963.jpg: ignoring corrupt image/label: non-normalized or out of bounds coordinates [     586.41      357.21      694.96      547.08      731.14      367.45      829.44      569.62]\n",
      "\u001b[34m\u001b[1mtrain: \u001b[0mWARNING ⚠️ /home/vrs/train/lp_seg/data/detect/vids/images/train/31a4fe0e364cd5f4.jpg: ignoring corrupt image/label: non-normalized or out of bounds coordinates [     172.16       182.4      892.16      616.32]\n",
      "\u001b[34m\u001b[1mtrain: \u001b[0mWARNING ⚠️ /home/vrs/train/lp_seg/data/detect/vids/images/train/3238e52ef6290e5c.jpg: ignoring corrupt image/label: non-normalized or out of bounds coordinates [         32      212.75         200       769.4]\n",
      "\u001b[34m\u001b[1mtrain: \u001b[0mWARNING ⚠️ /home/vrs/train/lp_seg/data/detect/vids/images/train/3242bc87f2497003.jpg: ignoring corrupt image/label: non-normalized or out of bounds coordinates [     133.12      250.88      715.52      666.88]\n",
      "\u001b[34m\u001b[1mtrain: \u001b[0mWARNING ⚠️ /home/vrs/train/lp_seg/data/detect/vids/images/train/3265ae3c875be7f0.jpg: ignoring corrupt image/label: non-normalized or out of bounds coordinates [      11.52      454.67          80      559.05       67.84      490.53      161.28      636.53      171.52      496.93       211.2      605.15      227.84      446.34      465.28      587.86      620.16      434.17         960      632.69]\n",
      "\u001b[34m\u001b[1mtrain: \u001b[0mWARNING ⚠️ /home/vrs/train/lp_seg/data/detect/vids/images/train/329f50080f0d8147.jpg: ignoring corrupt image/label: non-normalized or out of bounds coordinates [     362.88      448.05      497.28      576.07       67.84      439.09      162.56      551.75      167.68      349.48      293.76      400.69       361.6      432.05      430.08      514.62      802.56      494.14      928.64      602.95]\n",
      "\u001b[34m\u001b[1mtrain: \u001b[0mWARNING ⚠️ /home/vrs/train/lp_seg/data/detect/vids/images/train/32b4066fdae3ba4e.jpg: ignoring corrupt image/label: non-normalized or out of bounds coordinates [     608.64      345.34        1001      681.08      307.84      260.13       697.6      682.36]\n",
      "\u001b[34m\u001b[1mtrain: \u001b[0mWARNING ⚠️ /home/vrs/train/lp_seg/data/detect/vids/images/train/33215f9d1abfead2.jpg: ignoring corrupt image/label: non-normalized or out of bounds coordinates [      95.36      411.14      204.16      482.86      196.48      402.81      293.76      481.58       326.4      404.09      426.24      466.21      552.32      384.88      638.72      452.76]\n",
      "\u001b[34m\u001b[1mtrain: \u001b[0mWARNING ⚠️ /home/vrs/train/lp_seg/data/detect/vids/images/train/3344f12d0a7627a2.jpg: ignoring corrupt image/label: non-normalized or out of bounds coordinates [      55.68      274.56      254.08      549.76      223.36      284.16         464      501.12      372.48      327.68       614.4       524.8      552.32      306.56      721.92      526.08      620.16      271.36      892.16      510.72      824.96      355.84      1018.2      478.72      967.68      248.32\n",
      "      1023.4         512]\n",
      "\u001b[34m\u001b[1mtrain: \u001b[0mWARNING ⚠️ /home/vrs/train/lp_seg/data/detect/vids/images/train/33713ad9f21c1968.jpg: ignoring corrupt image/label: non-normalized or out of bounds coordinates [      588.8      487.84      666.24      563.39        73.6      377.08      110.72      395.65      128.64      349.56      168.32      407.81      245.76      345.71      318.08      423.18       313.6      368.12      348.16      429.58       409.6       428.3      493.44      525.61      440.96      414.22\n",
      "      577.92      471.84      480.64      443.03      610.56      530.74      661.76      420.62      743.04       496.8      698.24      393.09      784.64      465.43      895.36      504.49      971.52      578.11]\n",
      "\u001b[34m\u001b[1mtrain: \u001b[0mWARNING ⚠️ /home/vrs/train/lp_seg/data/detect/vids/images/train/33aa1a2904b5ea6f.jpg: ignoring corrupt image/label: non-normalized or out of bounds coordinates [     257.19        54.4      424.81       45.44      300.05       78.08      369.79       97.92      323.73      136.32      351.24      395.52      251.43      576.64      549.57      647.68       334.6      654.08      349.96       662.4      325.01      680.32      344.84      856.32      261.03         944\n",
      "      407.54       937.6      276.38      977.28      406.26       988.8      271.26      1017.6      402.42      1009.9      439.53      1023.4      449.76]\n",
      "\u001b[34m\u001b[1mtrain: \u001b[0mWARNING ⚠️ /home/vrs/train/lp_seg/data/detect/vids/images/train/349833822d0c6e68.jpg: ignoring corrupt image/label: non-normalized or out of bounds coordinates [     350.08      464.18      620.16      714.52]\n",
      "\u001b[34m\u001b[1mtrain: \u001b[0mWARNING ⚠️ /home/vrs/train/lp_seg/data/detect/vids/images/train/34bf49f609778c44.jpg: ignoring corrupt image/label: non-normalized or out of bounds coordinates [     289.42      405.82      388.98      634.67      393.03      54.755      622.59      159.29      394.45      233.96      622.59      252.44       404.4      319.29      612.64      415.29      454.86      487.82      506.03       825.6      456.99      883.91      572.84      865.42      413.64      894.58\n",
      "      487.55      883.91      419.32      942.93       517.4]\n",
      "\u001b[34m\u001b[1mtrain: \u001b[0mWARNING ⚠️ /home/vrs/train/lp_seg/data/detect/vids/images/train/34c5381a1aa44414.jpg: ignoring corrupt image/label: non-normalized or out of bounds coordinates [     325.76      21.144      719.36      577.92]\n",
      "\u001b[34m\u001b[1mtrain: \u001b[0mWARNING ⚠️ /home/vrs/train/lp_seg/data/detect/vids/images/train/35c79eac9096316a.jpg: ignoring corrupt image/label: non-normalized or out of bounds coordinates [     350.72      336.37      496.64      672.11      458.88      461.95      651.52      682.36]\n",
      "\u001b[34m\u001b[1mtrain: \u001b[0mWARNING ⚠️ /home/vrs/train/lp_seg/data/detect/vids/images/train/35d9ac58ba056c33.jpg: ignoring corrupt image/label: non-normalized or out of bounds coordinates [        192      159.36       291.2      424.96       252.8       163.2      403.84      519.04      317.44      161.92      360.96       230.4      408.96      122.24         528      516.48      476.16      145.92      514.56      194.56      501.12      159.36      563.84      336.64      554.24      145.92\n",
      "      612.48      344.32]\n",
      "\u001b[34m\u001b[1mtrain: \u001b[0mWARNING ⚠️ /home/vrs/train/lp_seg/data/detect/vids/images/train/35e31a820f1e34eb.jpg: ignoring corrupt image/label: non-normalized or out of bounds coordinates [     418.56      607.36      449.92      686.08      469.12       595.2      509.44      686.08]\n",
      "\u001b[34m\u001b[1mtrain: \u001b[0mWARNING ⚠️ /home/vrs/train/lp_seg/data/detect/vids/images/train/3641d9effde692e9.jpg: ignoring corrupt image/label: non-normalized or out of bounds coordinates [     356.69      303.93      745.81       625.8]\n",
      "\u001b[34m\u001b[1mtrain: \u001b[0mWARNING ⚠️ /home/vrs/train/lp_seg/data/detect/vids/images/train/37edfdc6946074d0.jpg: ignoring corrupt image/label: non-normalized or out of bounds coordinates [     328.32      169.13      533.12      449.73      500.48      153.75      752.64      426.03]\n",
      "\u001b[34m\u001b[1mtrain: \u001b[0mWARNING ⚠️ /home/vrs/train/lp_seg/data/detect/vids/images/train/39fd959e90f4961b.jpg: ignoring corrupt image/label: non-normalized or out of bounds coordinates [     19.068      353.36      269.68      615.49]\n",
      "\u001b[34m\u001b[1mtrain: \u001b[0mWARNING ⚠️ /home/vrs/train/lp_seg/data/detect/vids/images/train/3a031a6df5917272.jpg: ignoring corrupt image/label: non-normalized or out of bounds coordinates [      204.8      99.257      686.08      656.38      638.72      274.72      958.72      697.36]\n",
      "\u001b[34m\u001b[1mtrain: \u001b[0mWARNING ⚠️ /home/vrs/train/lp_seg/data/detect/vids/images/train/3a0ac5666dc3fb35.jpg: ignoring corrupt image/label: non-normalized or out of bounds coordinates [      76.16      142.88      542.08      641.99]\n",
      "\u001b[34m\u001b[1mtrain: \u001b[0mWARNING ⚠️ /home/vrs/train/lp_seg/data/detect/vids/images/train/3a40d8633c6575f5.jpg: ignoring corrupt image/label: non-normalized or out of bounds coordinates [     113.92      576.64      186.24      744.32        3.84      490.88       15.36         528       23.68      501.76       46.08      547.84        44.8      463.36      1023.4      558.72        76.8      575.36      136.32      752.64      240.64      503.04      263.04      545.28      293.12      508.16\n",
      "      317.44      567.68      421.76      551.68      465.28      635.52       518.4      516.48      539.52      573.44      642.56      522.88       662.4      584.96       662.4      531.84      686.08      586.24      752.64       550.4      791.04      638.08      785.28      530.56      810.88      602.24\n",
      "      835.84      522.88      856.96      563.84        1001       537.6      1023.4      613.12]\n",
      "\u001b[34m\u001b[1mtrain: \u001b[0mWARNING ⚠️ /home/vrs/train/lp_seg/data/detect/vids/images/train/3b0241c516adb745.jpg: ignoring corrupt image/label: non-normalized or out of bounds coordinates [      224.1       169.3      493.19      565.14      25.354      166.03      207.74      475.18      499.73         229      824.43      507.89      551.26      230.64      717.29      546.33      794.17      194.65      964.29      559.41]\n",
      "\u001b[34m\u001b[1mtrain: \u001b[0mWARNING ⚠️ /home/vrs/train/lp_seg/data/detect/vids/images/train/3b4378072a032400.jpg: ignoring corrupt image/label: non-normalized or out of bounds coordinates [      473.6      331.95      666.24      684.36]\n",
      "\u001b[34m\u001b[1mtrain: \u001b[0mWARNING ⚠️ /home/vrs/train/lp_seg/data/detect/vids/images/train/3b68a9966d714d35.jpg: ignoring corrupt image/label: non-normalized or out of bounds coordinates [     522.24      169.79      837.76      493.35]\n",
      "\u001b[34m\u001b[1mtrain: \u001b[0mWARNING ⚠️ /home/vrs/train/lp_seg/data/detect/vids/images/train/3ba13fe149480550.jpg: ignoring corrupt image/label: non-normalized or out of bounds coordinates [     338.56      129.34      543.36      625.57]\n",
      "\u001b[34m\u001b[1mtrain: \u001b[0mWARNING ⚠️ /home/vrs/train/lp_seg/data/detect/vids/images/train/3c359a92e8aeb484.jpg: ignoring corrupt image/label: non-normalized or out of bounds coordinates [     753.66      532.53      891.56      656.79]\n",
      "\u001b[34m\u001b[1mtrain: \u001b[0mWARNING ⚠️ /home/vrs/train/lp_seg/data/detect/vids/images/train/3d074d6911c1f0de.jpg: ignoring corrupt image/label: non-normalized or out of bounds coordinates [      95.36      225.92      744.32         688      244.48      152.96      433.92      222.08      187.52      338.56       204.8       214.4       355.2       265.6      523.52      197.12      672.64      298.88]\n",
      "\u001b[34m\u001b[1mtrain: \u001b[0mWARNING ⚠️ /home/vrs/train/lp_seg/data/detect/vids/images/train/3d34516da505270b.jpg: ignoring corrupt image/label: non-normalized or out of bounds coordinates [        222       532.8       314.4         660       392.4       406.8       417.6       478.8]\n",
      "\u001b[34m\u001b[1mtrain: \u001b[0mWARNING ⚠️ /home/vrs/train/lp_seg/data/detect/vids/images/train/3d3e0ff3ab741c4a.jpg: ignoring corrupt image/label: non-normalized or out of bounds coordinates [     761.33         252         912         386      72.667      257.33      137.33      364.67         162      238.67         250         352         238      258.67         292      350.67]\n",
      "\u001b[34m\u001b[1mtrain: \u001b[0mWARNING ⚠️ /home/vrs/train/lp_seg/data/detect/vids/images/train/3d8878fbe10087b4.jpg: ignoring corrupt image/label: non-normalized or out of bounds coordinates [     216.32      439.04      284.16      499.84       294.4      436.48       377.6      499.84      417.28      437.76      503.68      493.44         432      465.28      469.12      504.96       492.8      460.16      527.36      490.88      507.52       451.2      551.04       489.6      568.32      469.76\n",
      "      602.88      499.84      651.52      456.32      714.88      510.72      708.48      478.72       745.6      510.72      740.48      472.32      797.44         512      868.48      483.84      900.48       518.4]\n",
      "\u001b[34m\u001b[1mtrain: \u001b[0mWARNING ⚠️ /home/vrs/train/lp_seg/data/detect/vids/images/train/3db041b6c9f55627.jpg: ignoring corrupt image/label: non-normalized or out of bounds coordinates [     722.56      208.54       812.8      414.52      111.95       10.24      169.52       10.24      83.161       36.48      144.57       42.88      128.58       79.36      209.18       46.72      90.837       66.56      148.41       67.84      101.07       83.84      150.97      110.08      118.34      140.16\n",
      "      194.47      149.12      153.53      183.04      252.04       166.4      135.62      192.64      210.46       188.8      154.81      226.56      249.48      263.04      154.81       297.6      236.69      271.36      236.69      328.96      374.22      277.76      124.74      314.24      213.02      314.24\n",
      "      193.19      364.16      307.06      357.76      215.58      410.24      344.16       371.2      174.64      423.68      233.49      476.16      275.71      568.96      501.52       550.4      262.92      626.56      438.19      592.64      265.48      684.16      404.29]\n",
      "\u001b[34m\u001b[1mtrain: \u001b[0mWARNING ⚠️ /home/vrs/train/lp_seg/data/detect/vids/images/train/3dfd59197bcf418d.jpg: ignoring corrupt image/label: non-normalized or out of bounds coordinates [      10.88      333.83       48.64      398.42        83.2      333.83      128.64      382.43      110.72      317.84       134.4      353.65       134.4      316.56      168.32      353.65      136.96      354.93       198.4       406.1      168.32      324.88      200.96      354.93       185.6      348.54\n",
      "      590.72      415.05      261.12      319.76       323.2      362.61      325.76      322.32      376.96      365.17]\n",
      "\u001b[34m\u001b[1mtrain: \u001b[0mWARNING ⚠️ /home/vrs/train/lp_seg/data/detect/vids/images/train/3e975eae81cf9800.jpg: ignoring corrupt image/label: non-normalized or out of bounds coordinates [     560.64      116.56      920.32      620.57]\n",
      "\u001b[34m\u001b[1mtrain: \u001b[0mWARNING ⚠️ /home/vrs/train/lp_seg/data/detect/vids/images/train/401623e3d3d7dcc7.jpg: ignoring corrupt image/label: non-normalized or out of bounds coordinates [     102.03      487.81      370.02      685.64      524.91      468.15      583.91      536.96      697.01      484.13      769.54      532.05]\n",
      "\u001b[34m\u001b[1mtrain: \u001b[0mWARNING ⚠️ /home/vrs/train/lp_seg/data/detect/vids/images/train/406d7c6aed2bcfbd.jpg: ignoring corrupt image/label: non-normalized or out of bounds coordinates [     379.52      308.56      844.16      725.31]\n",
      "\u001b[34m\u001b[1mtrain: \u001b[0mWARNING ⚠️ /home/vrs/train/lp_seg/data/detect/vids/images/train/4171548216692ec4.jpg: ignoring corrupt image/label: non-normalized or out of bounds coordinates [        240      260.13       419.2      387.63      356.48      260.13      513.92      385.07      482.56      258.85      570.24       382.5]\n",
      "\u001b[34m\u001b[1mtrain: \u001b[0mWARNING ⚠️ /home/vrs/train/lp_seg/data/detect/vids/images/train/41b3a9928abe14f2.jpg: ignoring corrupt image/label: non-normalized or out of bounds coordinates [        542          15         753         538         251         103         394         124         240         232         373         385         216         438         277         477         171         521         272         675         177        1023         228]\n",
      "\u001b[34m\u001b[1mtrain: \u001b[0mWARNING ⚠️ /home/vrs/train/lp_seg/data/detect/vids/images/train/4213aa947e58fa6c.jpg: ignoring corrupt image/label: non-normalized or out of bounds coordinates [     757.76      229.18      891.52      316.24        35.2      273.35       90.24       312.4       56.32      275.91      127.36      313.68        92.8      272.07      165.12      320.08      122.88      265.66      191.36      313.04      192.64      265.66      273.92       315.6       233.6      271.43\n",
      "      295.04      321.36      287.36      264.38       364.8       309.2      296.32      236.86      347.52      268.87         304      271.43      376.32      321.36       364.8      252.86      432.64       315.6      386.56      264.38      471.04      318.16      529.92      257.98      600.96      298.95\n",
      "      549.76      260.54      622.72      304.07      590.08       243.9      717.44      311.76       857.6      272.71      917.12      300.23      888.32       234.3      1013.8      302.79      893.44      255.42      977.28      306.63]\n",
      "\u001b[34m\u001b[1mtrain: \u001b[0mWARNING ⚠️ /home/vrs/train/lp_seg/data/detect/vids/images/train/434aef745c9e6f32.jpg: ignoring corrupt image/label: non-normalized or out of bounds coordinates [        232       589.6       394.4       767.2       454.4         628         856       767.2       661.6       570.4       930.4       767.2]\n",
      "\u001b[34m\u001b[1mtrain: \u001b[0mWARNING ⚠️ /home/vrs/train/lp_seg/data/detect/vids/images/train/434ef3ba49994af3.jpg: ignoring corrupt image/label: non-normalized or out of bounds coordinates [     222.72      283.84      346.88      421.59      642.56      280.63       787.2      386.99      733.44      258.21      760.96      280.63      827.52      239.63       886.4      300.49]\n",
      "\u001b[34m\u001b[1mtrain: \u001b[0mWARNING ⚠️ /home/vrs/train/lp_seg/data/detect/vids/images/train/440bc2843a602bb4.jpg: ignoring corrupt image/label: non-normalized or out of bounds coordinates [     186.36      193.28      294.58      292.48      295.22      199.04      415.62       265.6      329.17      251.52      457.89         288      382.96      202.88      500.79       294.4      514.24       236.8      595.57         288      689.71      225.28      724.29      298.24      718.53       214.4\n",
      "      769.76      298.24      753.11      219.52       860.7      293.12]\n",
      "\u001b[34m\u001b[1mtrain: \u001b[0mWARNING ⚠️ /home/vrs/train/lp_seg/data/detect/vids/images/train/441ad31fc57151ce.jpg: ignoring corrupt image/label: non-normalized or out of bounds coordinates [     179.84      565.68      237.44      644.48       268.8      574.01      347.52      657.94       470.4      539.42      615.68      670.11]\n",
      "\u001b[34m\u001b[1mtrain: \u001b[0mWARNING ⚠️ /home/vrs/train/lp_seg/data/detect/vids/images/train/442464d087067947.jpg: ignoring corrupt image/label: non-normalized or out of bounds coordinates [     125.44       337.5      204.16      568.69       230.4       377.2      286.72      542.43      235.52      333.66      285.44      511.05      284.16      414.99      312.96      517.46      757.12      347.74      773.76      395.14      773.76      349.03      789.76      390.65      955.52      344.54\n",
      "      981.76       424.6]\n",
      "\u001b[34m\u001b[1mtrain: \u001b[0mWARNING ⚠️ /home/vrs/train/lp_seg/data/detect/vids/images/train/44d71bd6ba77a6e5.jpg: ignoring corrupt image/label: non-normalized or out of bounds coordinates [     192.79      103.04      424.64      616.96]\n",
      "\u001b[34m\u001b[1mtrain: \u001b[0mWARNING ⚠️ /home/vrs/train/lp_seg/data/detect/vids/images/train/45b4b358a0057770.jpg: ignoring corrupt image/label: non-normalized or out of bounds coordinates [     647.24      512.62      834.82      641.37]\n",
      "\u001b[34m\u001b[1mtrain: \u001b[0mWARNING ⚠️ /home/vrs/train/lp_seg/data/detect/vids/images/train/460a613c96475ada.jpg: ignoring corrupt image/label: non-normalized or out of bounds coordinates [     677.76      367.77      995.84      629.82       11.52      250.52        35.2      275.51         496      249.24      529.92      276.79]\n",
      "\u001b[34m\u001b[1mtrain: \u001b[0mWARNING ⚠️ /home/vrs/train/lp_seg/data/detect/vids/images/train/46fbe1dbbddf882d.jpg: ignoring corrupt image/label: non-normalized or out of bounds coordinates [     760.32      135.68      855.04      252.16      186.88      257.28      259.84      391.68      220.16      304.64      459.52      687.36]\n",
      "\u001b[34m\u001b[1mtrain: \u001b[0mWARNING ⚠️ /home/vrs/train/lp_seg/data/detect/vids/images/train/483a5b0f8270e352.jpg: ignoring corrupt image/label: non-normalized or out of bounds coordinates [      99.84      445.01       217.6      548.74      330.24      453.33      451.84      530.17      668.16      452.05      727.68      525.05]\n",
      "\u001b[34m\u001b[1mtrain: \u001b[0mWARNING ⚠️ /home/vrs/train/lp_seg/data/detect/vids/images/train/492754ba76618fda.jpg: ignoring corrupt image/label: non-normalized or out of bounds coordinates [     296.32      284.29         448      451.41      468.48      265.72      634.88      455.25]\n",
      "\u001b[34m\u001b[1mtrain: \u001b[0mWARNING ⚠️ /home/vrs/train/lp_seg/data/detect/vids/images/train/494.png: corrupt JPEG restored and saved\n",
      "\u001b[34m\u001b[1mtrain: \u001b[0mWARNING ⚠️ /home/vrs/train/lp_seg/data/detect/vids/images/train/499.png: corrupt JPEG restored and saved\n",
      "\u001b[34m\u001b[1mtrain: \u001b[0mWARNING ⚠️ /home/vrs/train/lp_seg/data/detect/vids/images/train/49d65b35ddb5453a.jpg: ignoring corrupt image/label: non-normalized or out of bounds coordinates [     154.88      112.65       329.6      605.51      397.44      206.74      545.28      549.19      465.28      19.202      778.88      652.88]\n",
      "\u001b[34m\u001b[1mtrain: \u001b[0mWARNING ⚠️ /home/vrs/train/lp_seg/data/detect/vids/images/train/4a007a150f528c33.jpg: ignoring corrupt image/label: non-normalized or out of bounds coordinates [     295.68      89.059       809.6      438.25]\n",
      "\u001b[34m\u001b[1mtrain: \u001b[0mWARNING ⚠️ /home/vrs/train/lp_seg/data/detect/vids/images/train/4a74beaa506e9e18.jpg: ignoring corrupt image/label: non-normalized or out of bounds coordinates [     303.36       252.8       438.4      541.44      335.36      264.96      544.64       675.2      367.36      282.88      744.32       755.2      496.64      245.12       707.2      309.76      528.64       275.2       982.4      723.84      664.96      248.96       806.4      328.32]\n",
      "\u001b[34m\u001b[1mtrain: \u001b[0mWARNING ⚠️ /home/vrs/train/lp_seg/data/detect/vids/images/train/4b3232cc0d270de5.jpg: ignoring corrupt image/label: non-normalized or out of bounds coordinates [      53.76      343.11      378.88      553.06      378.88      358.47      583.68      547.94      547.84      373.83       691.2      542.82      727.04      366.15      962.56       524.9]\n",
      "\u001b[34m\u001b[1mtrain: \u001b[0mWARNING ⚠️ /home/vrs/train/lp_seg/data/detect/vids/images/train/4bd71b9e701a2479.jpg: ignoring corrupt image/label: non-normalized or out of bounds coordinates [      550.4      312.96       604.8      469.12       39.04      189.44      1007.4      575.36]\n",
      "\u001b[34m\u001b[1mtrain: \u001b[0mWARNING ⚠️ /home/vrs/train/lp_seg/data/detect/vids/images/train/4beba34760ea0d87.jpg: ignoring corrupt image/label: non-normalized or out of bounds coordinates [     901.76      356.57        1015      485.24       172.8      288.71      220.16      327.12       217.6      286.15      241.28      327.12      288.64      282.31      366.08       328.4      403.84      287.43      461.44       328.4       444.8      361.05         576      560.14      680.96      304.71\n",
      "      722.56      359.77      986.24      275.91      1023.4       328.4]\n",
      "\u001b[34m\u001b[1mtrain: \u001b[0mWARNING ⚠️ /home/vrs/train/lp_seg/data/detect/vids/images/train/4c224d2a47cee84f.jpg: ignoring corrupt image/label: non-normalized or out of bounds coordinates [     985.05       844.8      1605.4      1608.8       973.5       778.8      1476.7      529.65      823.35      691.35       980.1      826.65      826.65         957       999.9]\n",
      "\u001b[34m\u001b[1mtrain: \u001b[0mWARNING ⚠️ /home/vrs/train/lp_seg/data/detect/vids/images/train/4c358426f79958b7.jpg: ignoring corrupt image/label: non-normalized or out of bounds coordinates [     583.04       49.28      990.72      572.16         6.4       99.84       412.8      575.36]\n",
      "\u001b[34m\u001b[1mtrain: \u001b[0mWARNING ⚠️ /home/vrs/train/lp_seg/data/detect/vids/images/train/4cceab6698c5275b.jpg: ignoring corrupt image/label: non-normalized or out of bounds coordinates [      358.4      827.52      767.36      647.68       153.6      1023.4      415.36]\n",
      "\u001b[34m\u001b[1mtrain: \u001b[0mWARNING ⚠️ /home/vrs/train/lp_seg/data/detect/vids/images/train/4cd27b26734a8c8c.jpg: ignoring corrupt image/label: non-normalized or out of bounds coordinates [     296.56      309.12      431.71       55.04      305.53      503.68      551.49      117.12      361.26      631.68      685.36      535.04       270.3       764.8      336.92      540.16      310.65      965.12      619.39]\n",
      "\u001b[34m\u001b[1mtrain: \u001b[0mWARNING ⚠️ /home/vrs/train/lp_seg/data/detect/vids/images/train/4cd93afeaa4043c1.jpg: ignoring corrupt image/label: non-normalized or out of bounds coordinates [      374.4       13.44      823.68       732.8]\n",
      "\u001b[34m\u001b[1mtrain: \u001b[0mWARNING ⚠️ /home/vrs/train/lp_seg/data/detect/vids/images/train/4cf17c685f277042.jpg: ignoring corrupt image/label: non-normalized or out of bounds coordinates [     308.03      344.32      399.61      474.24      382.32       361.6      456.61       505.6      422.02      349.44      498.87      464.64      459.17      349.44      555.87       505.6      532.17      333.44      658.97      500.48       543.7      325.76      645.52      359.04      548.82      340.48\n",
      "      672.42      484.48      625.67      321.92      712.13      472.32]\n",
      "\u001b[34m\u001b[1mtrain: \u001b[0mWARNING ⚠️ /home/vrs/train/lp_seg/data/detect/vids/images/train/4dcffb75d1820f47.jpg: ignoring corrupt image/label: non-normalized or out of bounds coordinates [     151.68      449.12      381.44      656.41      288.64      266.79      335.36      310.29       937.6      184.26      954.88      209.21]\n",
      "\u001b[34m\u001b[1mtrain: \u001b[0mWARNING ⚠️ /home/vrs/train/lp_seg/data/detect/vids/images/train/4dff8951cb55d94e.jpg: ignoring corrupt image/label: non-normalized or out of bounds coordinates [        192      426.62      239.36      538.08]\n",
      "\u001b[34m\u001b[1mtrain: \u001b[0mWARNING ⚠️ /home/vrs/train/lp_seg/data/detect/vids/images/train/4ede2dc8734118da.jpg: ignoring corrupt image/label: non-normalized or out of bounds coordinates [      716.8      376.55      936.32      544.33        86.4      334.92       233.6      479.65      236.16      322.11      376.32      432.26      529.92      345.81      620.16      411.13]\n",
      "\u001b[34m\u001b[1mtrain: \u001b[0mWARNING ⚠️ /home/vrs/train/lp_seg/data/detect/vids/images/train/4ff56dcddf3532ad.jpg: ignoring corrupt image/label: non-normalized or out of bounds coordinates [      172.8      329.08      328.96      548.67         720      326.52      780.16      376.45      876.16      331.64      935.04      385.42]\n",
      "\u001b[34m\u001b[1mtrain: \u001b[0mWARNING ⚠️ /home/vrs/train/lp_seg/data/detect/vids/images/train/502.png: corrupt JPEG restored and saved\n",
      "\u001b[34m\u001b[1mtrain: \u001b[0mWARNING ⚠️ /home/vrs/train/lp_seg/data/detect/vids/images/train/503.png: corrupt JPEG restored and saved\n",
      "\u001b[34m\u001b[1mtrain: \u001b[0mWARNING ⚠️ /home/vrs/train/lp_seg/data/detect/vids/images/train/504bd1f6470bcf70.jpg: ignoring corrupt image/label: non-normalized or out of bounds coordinates [     650.24      74.943        1001      465.67       23.06      386.56      516.27      289.92      69.818      528.64       494.5      408.96      90.957      766.08      475.92]\n",
      "\u001b[34m\u001b[1mtrain: \u001b[0mWARNING ⚠️ /home/vrs/train/lp_seg/data/detect/vids/images/train/507.png: corrupt JPEG restored and saved\n",
      "\u001b[34m\u001b[1mtrain: \u001b[0mWARNING ⚠️ /home/vrs/train/lp_seg/data/detect/vids/images/train/50f74e2061a06504.jpg: ignoring corrupt image/label: non-normalized or out of bounds coordinates [     425.23      241.51      602.62      573.34]\n",
      "\u001b[34m\u001b[1mtrain: \u001b[0mWARNING ⚠️ /home/vrs/train/lp_seg/data/detect/vids/images/train/511.png: corrupt JPEG restored and saved\n",
      "\u001b[34m\u001b[1mtrain: \u001b[0mWARNING ⚠️ /home/vrs/train/lp_seg/data/detect/vids/images/train/51187f776de7d5f1.jpg: ignoring corrupt image/label: non-normalized or out of bounds coordinates [     622.08       194.7       870.4      484.18]\n",
      "\u001b[34m\u001b[1mtrain: \u001b[0mWARNING ⚠️ /home/vrs/train/lp_seg/data/detect/vids/images/train/512.png: corrupt JPEG restored and saved\n",
      "\u001b[34m\u001b[1mtrain: \u001b[0mWARNING ⚠️ /home/vrs/train/lp_seg/data/detect/vids/images/train/514.png: corrupt JPEG restored and saved\n",
      "\u001b[34m\u001b[1mtrain: \u001b[0mWARNING ⚠️ /home/vrs/train/lp_seg/data/detect/vids/images/train/515.png: corrupt JPEG restored and saved\n",
      "\u001b[34m\u001b[1mtrain: \u001b[0mWARNING ⚠️ /home/vrs/train/lp_seg/data/detect/vids/images/train/53017c4a46202544.jpg: ignoring corrupt image/label: non-normalized or out of bounds coordinates [     321.28      248.96      574.08      487.04]\n",
      "\u001b[34m\u001b[1mtrain: \u001b[0mWARNING ⚠️ /home/vrs/train/lp_seg/data/detect/vids/images/train/5312e211100e01a2.jpg: ignoring corrupt image/label: non-normalized or out of bounds coordinates [      184.7       130.9      381.46      869.89]\n",
      "\u001b[34m\u001b[1mtrain: \u001b[0mWARNING ⚠️ /home/vrs/train/lp_seg/data/detect/vids/images/train/538e99c33e79bbed.jpg: ignoring corrupt image/label: non-normalized or out of bounds coordinates [     128.11      45.026      846.55      622.57]\n",
      "\u001b[34m\u001b[1mtrain: \u001b[0mWARNING ⚠️ /home/vrs/train/lp_seg/data/detect/vids/images/train/5587d749eea54e3b.jpg: ignoring corrupt image/label: non-normalized or out of bounds coordinates [     81.331      325.92      536.66      663.36]\n",
      "\u001b[34m\u001b[1mtrain: \u001b[0mWARNING ⚠️ /home/vrs/train/lp_seg/data/detect/vids/images/train/55af11276d31903a.jpg: ignoring corrupt image/label: non-normalized or out of bounds coordinates [      644.1      153.83      991.23      319.97      808.96      297.41      861.18      319.97]\n",
      "\u001b[34m\u001b[1mtrain: \u001b[0mWARNING ⚠️ /home/vrs/train/lp_seg/data/detect/vids/images/train/572d0d63791d61b1.jpg: ignoring corrupt image/label: non-normalized or out of bounds coordinates [     373.76      9.6043      442.24      176.72      535.04      629.76      160.72]\n",
      "\u001b[34m\u001b[1mtrain: \u001b[0mWARNING ⚠️ /home/vrs/train/lp_seg/data/detect/vids/images/train/5b4098853173cbb7.jpg: ignoring corrupt image/label: non-normalized or out of bounds coordinates [        592      430.08      797.44      767.36]\n",
      "\u001b[34m\u001b[1mtrain: \u001b[0mWARNING ⚠️ /home/vrs/train/lp_seg/data/detect/vids/images/train/5bedca79b1bda155.jpg: ignoring corrupt image/label: non-normalized or out of bounds coordinates [     753.39       236.4      905.85      414.34      870.27      271.99      960.48      432.13]\n",
      "\u001b[34m\u001b[1mtrain: \u001b[0mWARNING ⚠️ /home/vrs/train/lp_seg/data/detect/vids/images/train/5bf7cfa804eb42b2.jpg: ignoring corrupt image/label: non-normalized or out of bounds coordinates [        592       217.6        1024      743.04]\n",
      "\u001b[34m\u001b[1mtrain: \u001b[0mWARNING ⚠️ /home/vrs/train/lp_seg/data/detect/vids/images/train/5c2bf6720a85682c.jpg: ignoring corrupt image/label: non-normalized or out of bounds coordinates [     183.68      349.44      504.96      575.36]\n",
      "\u001b[34m\u001b[1mtrain: \u001b[0mWARNING ⚠️ /home/vrs/train/lp_seg/data/detect/vids/images/train/5cd63ab41deb9d2e.jpg: ignoring corrupt image/label: non-normalized or out of bounds coordinates [     119.04      523.07       156.8      667.76      145.28      510.26      175.36      649.19      206.72      529.47       252.8      675.44         240      507.06      286.72      658.15      261.76      495.54      286.72      629.34      445.44      450.72      698.88       609.5      657.28      482.73\n",
      "      672.64      507.06      657.28      507.06      692.48      596.69      670.08      480.81      702.72      530.75      695.04      546.75      721.28      601.81      706.56      508.98         736      601.81      707.84      515.38         784      674.16       748.8      496.82      773.76      548.03\n",
      "       755.2      474.41      775.04      517.94      821.12      583.25       908.8      677.36      912.64      548.03      1023.4      675.44]\n",
      "\u001b[34m\u001b[1mtrain: \u001b[0mWARNING ⚠️ /home/vrs/train/lp_seg/data/detect/vids/images/train/5cef56afe7cd909d.jpg: ignoring corrupt image/label: non-normalized or out of bounds coordinates [        458         642         542         890]\n",
      "\u001b[34m\u001b[1mtrain: \u001b[0mWARNING ⚠️ /home/vrs/train/lp_seg/data/detect/vids/images/train/5d3eb64f7e1f4200.jpg: ignoring corrupt image/label: non-normalized or out of bounds coordinates [      74.88      267.64      464.64      546.81       758.4      40.339      973.44      355.36]\n",
      "\u001b[34m\u001b[1mtrain: \u001b[0mWARNING ⚠️ /home/vrs/train/lp_seg/data/detect/vids/images/train/5d8dfbf336db6370.jpg: ignoring corrupt image/label: non-normalized or out of bounds coordinates [      17.28      370.56          32       377.6       43.52      381.44        70.4      392.96      138.88      424.96      213.12       499.2      141.44      387.84      162.56       412.8      145.92       406.4       214.4      430.08      158.72      387.84         176      403.84      189.44      360.32\n",
      "      203.52      369.28      206.72      357.76      215.68         368      226.56      387.84      263.04      410.24      227.84      360.32      247.68      366.72      337.28      437.12      400.64      508.16       342.4      362.88         352      376.32      440.32       428.8         496      492.16\n",
      "      458.88      394.88         496       422.4      515.84         416      586.24       451.2      766.08      423.68         848      462.08      845.44      427.52      943.36      478.08]\n",
      "\u001b[34m\u001b[1mtrain: \u001b[0mWARNING ⚠️ /home/vrs/train/lp_seg/data/detect/vids/images/train/5dbea29b11789685.jpg: ignoring corrupt image/label: non-normalized or out of bounds coordinates [        584       652.8         720       780.8       225.6       646.4       265.6       689.6       371.2       649.6         392       697.6       494.4       649.6         512       683.2       580.8         656       617.6       678.4]\n",
      "\u001b[34m\u001b[1mtrain: \u001b[0mWARNING ⚠️ /home/vrs/train/lp_seg/data/detect/vids/images/train/5e0af0f943d58aab.jpg: ignoring corrupt image/label: non-normalized or out of bounds coordinates [     346.24      110.84      532.48      304.34         416      244.11      738.56      455.55]\n",
      "\u001b[34m\u001b[1mtrain: \u001b[0mWARNING ⚠️ /home/vrs/train/lp_seg/data/detect/vids/images/train/5ec0fbbbbd61e73e.jpg: ignoring corrupt image/label: non-normalized or out of bounds coordinates [     513.92      407.28      666.24      563.54]\n",
      "\u001b[34m\u001b[1mtrain: \u001b[0mWARNING ⚠️ /home/vrs/train/lp_seg/data/detect/vids/images/train/5ef8b548f973f3d4.jpg: ignoring corrupt image/label: non-normalized or out of bounds coordinates [      201.6      328.96      851.84      589.44       88.32      126.72      157.44      362.24       211.2       486.4      122.88       87.04      331.52      161.28      215.04       115.2       454.4      224.64       899.2        89.6      1022.1      145.28]\n",
      "\u001b[34m\u001b[1mtrain: \u001b[0mWARNING ⚠️ /home/vrs/train/lp_seg/data/detect/vids/images/train/5f7d0ecba4e6bcae.jpg: ignoring corrupt image/label: non-normalized or out of bounds coordinates [       51.2      209.92      574.72      600.96]\n",
      "\u001b[34m\u001b[1mtrain: \u001b[0mWARNING ⚠️ /home/vrs/train/lp_seg/data/detect/vids/images/train/6166bdecbf3d3e25.jpg: ignoring corrupt image/label: non-normalized or out of bounds coordinates [     62.401      17.601       387.2       507.2       134.4      46.401       515.2       134.4       499.2         328         616       500.8       467.2        92.8       828.8       444.8       891.2      1022.4       470.4]\n",
      "\u001b[34m\u001b[1mtrain: \u001b[0mWARNING ⚠️ /home/vrs/train/lp_seg/data/detect/vids/images/train/617e276ed6ba957b.jpg: ignoring corrupt image/label: non-normalized or out of bounds coordinates [     576.64      412.92      744.96      569.77      571.52       479.5      625.92       554.4]\n",
      "\u001b[34m\u001b[1mtrain: \u001b[0mWARNING ⚠️ /home/vrs/train/lp_seg/data/detect/vids/images/train/619d1d88a7010e5f.jpg: ignoring corrupt image/label: non-normalized or out of bounds coordinates [     346.02      339.29      717.71      739.83]\n",
      "\u001b[34m\u001b[1mtrain: \u001b[0mWARNING ⚠️ /home/vrs/train/lp_seg/data/detect/vids/images/train/61c42ccd8e668873.jpg: ignoring corrupt image/label: non-normalized or out of bounds coordinates [      457.6      330.88       489.6      392.96      698.24      251.52      862.72      618.24]\n",
      "\u001b[34m\u001b[1mtrain: \u001b[0mWARNING ⚠️ /home/vrs/train/lp_seg/data/detect/vids/images/train/621f172be6d61ced.jpg: ignoring corrupt image/label: non-normalized or out of bounds coordinates [     328.32       58.88      834.56      335.36]\n",
      "\u001b[34m\u001b[1mtrain: \u001b[0mWARNING ⚠️ /home/vrs/train/lp_seg/data/detect/vids/images/train/628ce4f79e9fdd63.jpg: ignoring corrupt image/label: non-normalized or out of bounds coordinates [     254.87      132.65      820.41      616.51]\n",
      "\u001b[34m\u001b[1mtrain: \u001b[0mWARNING ⚠️ /home/vrs/train/lp_seg/data/detect/vids/images/train/62abaece54b5292a.jpg: ignoring corrupt image/label: non-normalized or out of bounds coordinates [        376       281.6       487.2       407.2         176       285.6       261.6         380       230.4       297.6       330.4         400         368         288       426.4       374.4         428       282.4       497.6       326.4       525.6         284         584       366.4       553.6       306.4\n",
      "         628       385.6         640       309.6       714.4       414.4       669.6       229.6       709.6       270.4         768         304       826.4       398.4       781.6       285.6         824       318.4         792         240       826.4       266.4       794.4       258.4         824         292\n",
      "       805.6       218.4       854.4       269.6       818.4       249.6       846.4       306.4       930.4         268      1005.6         340       933.6       229.6       961.6       269.6       954.4       261.6       981.6         280       990.4       273.6      1021.6       318.4]\n",
      "\u001b[34m\u001b[1mtrain: \u001b[0mWARNING ⚠️ /home/vrs/train/lp_seg/data/detect/vids/images/train/63716163564c42fa.jpg: ignoring corrupt image/label: non-normalized or out of bounds coordinates [     349.44      439.04      421.76      622.08      385.28      167.04      557.44       201.6      430.08      267.52      556.16      225.28      302.08      1023.4      526.72      430.08      421.12      456.32      547.84      443.52      418.56      484.48      562.56      453.76      434.56      542.72\n",
      "      634.24      497.92      411.52      538.88      568.96      529.28      408.96       566.4      522.88      562.56      405.12      590.08      480.64      570.24       422.4      641.92      581.12      612.48      506.88      791.04      767.36       694.4      398.72      760.96      573.44      737.28\n",
      "      407.68      773.76      535.04      782.08      398.72      860.16      542.72]\n",
      "\u001b[34m\u001b[1mtrain: \u001b[0mWARNING ⚠️ /home/vrs/train/lp_seg/data/detect/vids/images/train/64596d8ac330aefd.jpg: ignoring corrupt image/label: non-normalized or out of bounds coordinates [      525.6       175.2       804.8       714.4       177.6       359.2       658.4       347.2       691.2       250.4]\n",
      "\u001b[34m\u001b[1mtrain: \u001b[0mWARNING ⚠️ /home/vrs/train/lp_seg/data/detect/vids/images/train/649409a44ee095c4.jpg: ignoring corrupt image/label: non-normalized or out of bounds coordinates [      182.4      222.53       425.6      384.23]\n",
      "\u001b[34m\u001b[1mtrain: \u001b[0mWARNING ⚠️ /home/vrs/train/lp_seg/data/detect/vids/images/train/650f938a8d6d0be4.jpg: ignoring corrupt image/label: non-normalized or out of bounds coordinates [      211.2      514.65      356.48      596.59       11.52      492.89      128.64       560.1      513.92      515.29      616.32      606.19      773.76      524.25      855.04      595.31      839.68      432.72      847.36      442.96      846.08      460.24      860.16      474.97      938.88      495.45\n",
      "      997.12      532.58      986.24      448.72       998.4      458.96]\n",
      "\u001b[34m\u001b[1mtrain: \u001b[0mWARNING ⚠️ /home/vrs/train/lp_seg/data/detect/vids/images/train/65383b54c794de0a.jpg: ignoring corrupt image/label: non-normalized or out of bounds coordinates [     808.96      374.74       966.4      507.34]\n",
      "\u001b[34m\u001b[1mtrain: \u001b[0mWARNING ⚠️ /home/vrs/train/lp_seg/data/detect/vids/images/train/665b816fdd042ccd.jpg: ignoring corrupt image/label: non-normalized or out of bounds coordinates [       60.8      272.64       87.68      305.28      455.04      271.36      478.72      288.64         512      271.36      535.68      288.64      571.52      270.08      596.48      296.32      753.92      261.76      894.08      497.28]\n",
      "\u001b[34m\u001b[1mtrain: \u001b[0mWARNING ⚠️ /home/vrs/train/lp_seg/data/detect/vids/images/train/688f6c008b2a9be4.jpg: ignoring corrupt image/label: non-normalized or out of bounds coordinates [     311.19       339.2       587.8      357.76      320.15      381.44      363.69       380.8      334.24      424.32      519.28      443.52      335.52      493.44      532.73      455.68      329.11      533.12      567.95      474.24      323.99       505.6      524.41      568.32      331.68       643.2\n",
      "      544.26       694.4      316.31      785.92      679.36       780.8      331.68      801.92      384.18      933.12      327.83      1015.7      599.32]\n",
      "\u001b[34m\u001b[1mtrain: \u001b[0mWARNING ⚠️ /home/vrs/train/lp_seg/data/detect/vids/images/train/6ac1dcb0b40a398f.jpg: ignoring corrupt image/label: non-normalized or out of bounds coordinates [       8.96      436.33       62.72      481.82       65.28      438.89       99.84      495.27       77.44      438.89      151.04      510.65      203.52      438.89      282.24      505.52      272.64      433.76      327.68      504.24      339.84      466.44      427.52      508.09       342.4      431.84\n",
      "       489.6      526.67      482.56      425.43       627.2      521.54       553.6      481.82      634.88      515.13       633.6      467.72       691.2       500.4      661.12      435.04      755.84      474.13      661.12      470.28       809.6      525.38      776.96      430.56      848.64      501.68\n",
      "      881.92      465.16      959.36      497.83       985.6         469      1023.4      515.13]\n",
      "\u001b[34m\u001b[1mtrain: \u001b[0mWARNING ⚠️ /home/vrs/train/lp_seg/data/detect/vids/images/train/6acd0ad35874b50c.jpg: ignoring corrupt image/label: non-normalized or out of bounds coordinates [      53.76      233.75      120.32      306.11       65.28      211.33       137.6      318.92      136.32      228.62      238.72      308.67      255.36      235.03      305.28       320.2      452.48      224.14      510.08      316.36      562.56      237.59       604.8      316.36      642.56      231.18\n",
      "      683.52      312.51]\n",
      "\u001b[34m\u001b[1mtrain: \u001b[0mWARNING ⚠️ /home/vrs/train/lp_seg/data/detect/vids/images/train/6b276a540b7af9e2.jpg: ignoring corrupt image/label: non-normalized or out of bounds coordinates [      9.044      201.79      45.913      235.19      34.782      199.01         112      306.86      66.782      201.79      584.35      773.77      141.22      221.97       192.7       250.5      198.26      203.18      241.39      256.76         288      196.23      378.43      227.54      406.96      181.61\n",
      "      917.57       734.1      657.39      193.44      750.61      219.19]\n",
      "\u001b[34m\u001b[1mtrain: \u001b[0mWARNING ⚠️ /home/vrs/train/lp_seg/data/detect/vids/images/train/6b605ae696d67bf5.jpg: ignoring corrupt image/label: non-normalized or out of bounds coordinates [     289.07       166.4      776.53      423.47]\n",
      "\u001b[34m\u001b[1mtrain: \u001b[0mWARNING ⚠️ /home/vrs/train/lp_seg/data/detect/vids/images/train/6bfbe02c1c01d086.jpg: ignoring corrupt image/label: non-normalized or out of bounds coordinates [     181.76       316.8      274.56      391.68       371.2      337.28      414.72      376.96      451.84      318.72      471.68      346.24      474.24      379.52      561.92      445.44]\n",
      "\u001b[34m\u001b[1mtrain: \u001b[0mWARNING ⚠️ /home/vrs/train/lp_seg/data/detect/vids/images/train/6c2de1649f7feca6.jpg: ignoring corrupt image/label: non-normalized or out of bounds coordinates [     261.41       21.76       341.5       15.36         255       71.68      365.21      487.68       269.1      500.48      307.54      604.16      262.69      618.88       324.2       889.6      251.16      965.76      421.59      970.88      263.97      1023.4      431.84]\n",
      "\u001b[34m\u001b[1mtrain: \u001b[0mWARNING ⚠️ /home/vrs/train/lp_seg/data/detect/vids/images/train/6c551361c305a63f.jpg: ignoring corrupt image/label: non-normalized or out of bounds coordinates [      761.6      393.71       873.6      464.14        35.2       356.9          80      401.72          80       358.5       115.2      416.12       635.2      372.91       659.2      392.11       662.4      372.91       670.4      390.51       667.2      371.31       683.2      387.31       681.6      376.11\n",
      "       697.6      392.11       729.6      374.51       750.4      392.11         768      374.51         800      400.12       964.8      428.93      1022.4      552.16]\n",
      "\u001b[34m\u001b[1mtrain: \u001b[0mWARNING ⚠️ /home/vrs/train/lp_seg/data/detect/vids/images/train/6c6b33cdafd279a4.jpg: ignoring corrupt image/label: non-normalized or out of bounds coordinates [      49.92      455.68      135.68      701.44]\n",
      "\u001b[34m\u001b[1mtrain: \u001b[0mWARNING ⚠️ /home/vrs/train/lp_seg/data/detect/vids/images/train/6d208ab56d88589a.jpg: ignoring corrupt image/label: non-normalized or out of bounds coordinates [     253.44      241.55       550.4      429.28]\n",
      "\u001b[34m\u001b[1mtrain: \u001b[0mWARNING ⚠️ /home/vrs/train/lp_seg/data/detect/vids/images/train/6d4116fd2f21d15e.jpg: ignoring corrupt image/label: non-normalized or out of bounds coordinates [      636.8      289.92      700.16      389.12      293.12      301.44      344.96      398.08       332.8      312.32      445.44      452.48      494.08       297.6      577.92      357.12]\n",
      "\u001b[34m\u001b[1mtrain: \u001b[0mWARNING ⚠️ /home/vrs/train/lp_seg/data/detect/vids/images/train/6d72253191e2113a.jpg: ignoring corrupt image/label: non-normalized or out of bounds coordinates [     239.36      355.84      324.48      484.48       310.4      373.12      366.08         448      360.96      376.96      405.76      426.88      413.44      378.24      465.28      440.32       508.8      379.52      556.16      415.36      545.92      371.84      611.84      432.64      605.44      371.84\n",
      "      643.84       425.6       614.4      276.48      878.08      597.76      635.52       374.4       662.4      404.48      872.32      368.64      919.04       396.8]\n",
      "\u001b[34m\u001b[1mtrain: \u001b[0mWARNING ⚠️ /home/vrs/train/lp_seg/data/detect/vids/images/train/6d97f958cd6abb8e.jpg: ignoring corrupt image/label: non-normalized or out of bounds coordinates [     532.48      248.96      959.36       630.4      172.16      240.64      612.48      124.16       441.6      238.72      590.08      197.76      126.72      725.76      767.36      824.96      240.64      979.84      605.44      931.84      298.88      1023.4       572.8]\n",
      "\u001b[34m\u001b[1mtrain: \u001b[0mWARNING ⚠️ /home/vrs/train/lp_seg/data/detect/vids/images/train/6e9f94aff829cd89.jpg: ignoring corrupt image/label: non-normalized or out of bounds coordinates [      67.25      88.503      681.27      1023.3]\n",
      "\u001b[34m\u001b[1mtrain: \u001b[0mWARNING ⚠️ /home/vrs/train/lp_seg/data/detect/vids/images/train/6ea94a4268865b65.jpg: ignoring corrupt image/label: non-normalized or out of bounds coordinates [      339.2        22.4       390.4      156.16      309.76       284.8      632.96      324.48      332.16      364.16      431.36      354.56      318.08      461.44      632.96      364.16       323.2       406.4      431.36      382.08      332.16      423.68      423.68      449.92      328.32      487.04\n",
      "      443.52      468.48      328.32      493.44      440.96      499.84       323.2       588.8         576]\n",
      "\u001b[34m\u001b[1mtrain: \u001b[0mWARNING ⚠️ /home/vrs/train/lp_seg/data/detect/vids/images/train/6f92b792e04e0a1b.jpg: ignoring corrupt image/label: non-normalized or out of bounds coordinates [      435.6      61.655      665.47      449.68]\n",
      "\u001b[34m\u001b[1mtrain: \u001b[0mWARNING ⚠️ /home/vrs/train/lp_seg/data/detect/vids/images/train/6fc1ea8f68ad8bd8.jpg: ignoring corrupt image/label: non-normalized or out of bounds coordinates [      302.4      183.31       543.2      401.04]\n",
      "\u001b[34m\u001b[1mtrain: \u001b[0mWARNING ⚠️ /home/vrs/train/lp_seg/data/detect/vids/images/train/70b1622f09482c7e.jpg: ignoring corrupt image/label: non-normalized or out of bounds coordinates [     569.34      437.26      857.09      731.16       61.44      1.0239       789.5      584.72]\n",
      "\u001b[34m\u001b[1mtrain: \u001b[0mWARNING ⚠️ /home/vrs/train/lp_seg/data/detect/vids/images/train/718b303d5bf84bc4.jpg: ignoring corrupt image/label: non-normalized or out of bounds coordinates [     277.76       88.32       780.8      699.52]\n",
      "\u001b[34m\u001b[1mtrain: \u001b[0mWARNING ⚠️ /home/vrs/train/lp_seg/data/detect/vids/images/train/719bfd4aba36850f.jpg: ignoring corrupt image/label: non-normalized or out of bounds coordinates [     343.68      338.56      627.84      626.56]\n",
      "\u001b[34m\u001b[1mtrain: \u001b[0mWARNING ⚠️ /home/vrs/train/lp_seg/data/detect/vids/images/train/71eb50cc0dcd288a.jpg: ignoring corrupt image/label: non-normalized or out of bounds coordinates [     585.62       717.8      789.75      865.05       649.2      1022.3       905.2      759.63      597.33      846.64      697.73]\n",
      "\u001b[34m\u001b[1mtrain: \u001b[0mWARNING ⚠️ /home/vrs/train/lp_seg/data/detect/vids/images/train/72319c7bbbea08e7.jpg: ignoring corrupt image/label: non-normalized or out of bounds coordinates [     222.72      64.011      544.64       576.1]\n",
      "\u001b[34m\u001b[1mtrain: \u001b[0mWARNING ⚠️ /home/vrs/train/lp_seg/data/detect/vids/images/train/7256ff747bdf495e.jpg: ignoring corrupt image/label: non-normalized or out of bounds coordinates [        271         364         418         469         133         352         250         462         444         357         568         502]\n",
      "\u001b[34m\u001b[1mtrain: \u001b[0mWARNING ⚠️ /home/vrs/train/lp_seg/data/detect/vids/images/train/7371d10fca9169f4.jpg: ignoring corrupt image/label: non-normalized or out of bounds coordinates [      345.6         296         640       491.2       444.8       278.4       470.4       300.8       561.6         272         592       299.2       580.8       382.4         856       555.2       644.8       377.6      1022.4       593.6       819.2       273.6      1022.4       467.2       838.4       260.8\n",
      "       875.2       294.4]\n",
      "\u001b[34m\u001b[1mtrain: \u001b[0mWARNING ⚠️ /home/vrs/train/lp_seg/data/detect/vids/images/train/73c122200c43d224.jpg: ignoring corrupt image/label: non-normalized or out of bounds coordinates [        400      89.059      734.72      682.36]\n",
      "\u001b[34m\u001b[1mtrain: \u001b[0mWARNING ⚠️ /home/vrs/train/lp_seg/data/detect/vids/images/train/742c67ede8cc02c7.jpg: ignoring corrupt image/label: non-normalized or out of bounds coordinates [     274.56       140.8       777.6       550.4]\n",
      "\u001b[34m\u001b[1mtrain: \u001b[0mWARNING ⚠️ /home/vrs/train/lp_seg/data/detect/vids/images/train/74390c08a2fbf986.jpg: ignoring corrupt image/label: non-normalized or out of bounds coordinates [     263.97      401.92      673.39      1015.7]\n",
      "\u001b[34m\u001b[1mtrain: \u001b[0mWARNING ⚠️ /home/vrs/train/lp_seg/data/detect/vids/images/train/746c320cf267e04a.jpg: ignoring corrupt image/label: non-normalized or out of bounds coordinates [     368.64      419.84      408.32       537.6      408.32      403.84      446.72       476.8      619.52      431.36      661.76      496.64]\n",
      "\u001b[34m\u001b[1mtrain: \u001b[0mWARNING ⚠️ /home/vrs/train/lp_seg/data/detect/vids/images/train/75c9167fcffbdf41.jpg: ignoring corrupt image/label: non-normalized or out of bounds coordinates [     526.72      497.83      735.36       645.2]\n",
      "\u001b[34m\u001b[1mtrain: \u001b[0mWARNING ⚠️ /home/vrs/train/lp_seg/data/detect/vids/images/train/7658c2f4df56d3b8.jpg: ignoring corrupt image/label: non-normalized or out of bounds coordinates [      252.8      43.569      1009.3      604.19]\n",
      "\u001b[34m\u001b[1mtrain: \u001b[0mWARNING ⚠️ /home/vrs/train/lp_seg/data/detect/vids/images/train/7689e2441baaa099.jpg: ignoring corrupt image/label: non-normalized or out of bounds coordinates [     616.32       394.8      762.24      485.66]\n",
      "\u001b[34m\u001b[1mtrain: \u001b[0mWARNING ⚠️ /home/vrs/train/lp_seg/data/detect/vids/images/train/769df41b63a4b9bb.jpg: ignoring corrupt image/label: non-normalized or out of bounds coordinates [      396.8      360.96      767.36]\n",
      "\u001b[34m\u001b[1mtrain: \u001b[0mWARNING ⚠️ /home/vrs/train/lp_seg/data/detect/vids/images/train/7839734d575d3856.jpg: ignoring corrupt image/label: non-normalized or out of bounds coordinates [     850.56      299.02      990.08       419.4      245.12      276.61      382.72      372.66      311.68      342.56      491.52      466.14      520.32      301.58       582.4      351.53      581.12      315.03      626.56      345.12      586.24      320.15      735.36      430.28       633.6      265.08\n",
      "      714.88      322.71      692.48      299.02      815.36      400.19      730.24       263.8      814.08      341.28      794.88       293.9       835.2       330.4      832.64       263.8      929.92      316.31       937.6      254.84      1008.6      283.65         944      274.05      1023.4      366.25]\n",
      "\u001b[34m\u001b[1mtrain: \u001b[0mWARNING ⚠️ /home/vrs/train/lp_seg/data/detect/vids/images/train/79673e3b5f708d0b.jpg: ignoring corrupt image/label: non-normalized or out of bounds coordinates [     253.44      385.78      337.28      608.43]\n",
      "\u001b[34m\u001b[1mtrain: \u001b[0mWARNING ⚠️ /home/vrs/train/lp_seg/data/detect/vids/images/train/79b8db7270281c1d.jpg: ignoring corrupt image/label: non-normalized or out of bounds coordinates [     224.64      374.82       585.6      578.56      234.88      325.48      1023.4      496.55      275.84      361.36      378.24      529.23      382.08      347.91      506.88      387.63      430.72      349.19      634.24      538.84      611.84      362.64      730.88      479.25      702.08      344.06\n",
      "      1023.4      561.91      871.68      354.96      1023.4      584.33]\n",
      "\u001b[34m\u001b[1mtrain: \u001b[0mWARNING ⚠️ /home/vrs/train/lp_seg/data/detect/vids/images/train/7aad5ba648887393.jpg: ignoring corrupt image/label: non-normalized or out of bounds coordinates [     300.16      300.49      431.36      401.73      558.72      290.24      592.64      345.34]\n",
      "\u001b[34m\u001b[1mtrain: \u001b[0mWARNING ⚠️ /home/vrs/train/lp_seg/data/detect/vids/images/train/7cd0949fabd5ffd9.jpg: ignoring corrupt image/label: non-normalized or out of bounds coordinates [     476.16      363.69      740.48]\n",
      "\u001b[34m\u001b[1mtrain: \u001b[0mWARNING ⚠️ /home/vrs/train/lp_seg/data/detect/vids/images/train/7d29280f0df9111f.jpg: ignoring corrupt image/label: non-normalized or out of bounds coordinates [     191.36      219.56      894.72      630.51]\n",
      "\u001b[34m\u001b[1mtrain: \u001b[0mWARNING ⚠️ /home/vrs/train/lp_seg/data/detect/vids/images/train/7d609f994b314aa8.jpg: ignoring corrupt image/label: non-normalized or out of bounds coordinates [     155.52      142.24      421.76      551.65]\n",
      "\u001b[34m\u001b[1mtrain: \u001b[0mWARNING ⚠️ /home/vrs/train/lp_seg/data/detect/vids/images/train/7ee7a4779dd1e70b.jpg: ignoring corrupt image/label: non-normalized or out of bounds coordinates [     288.64      273.58      618.88      521.54]\n",
      "\u001b[34m\u001b[1mtrain: \u001b[0mWARNING ⚠️ /home/vrs/train/lp_seg/data/detect/vids/images/train/80793b85090e3572.jpg: ignoring corrupt image/label: non-normalized or out of bounds coordinates [     191.36      164.55      325.12      266.99       297.6      222.17      461.44      379.68      382.72      309.89      497.28      433.46      556.16      185.04      641.28      287.48      741.12      110.77      885.12      224.74]\n",
      "\u001b[34m\u001b[1mtrain: \u001b[0mWARNING ⚠️ /home/vrs/train/lp_seg/data/detect/vids/images/train/8111a386cce760a1.jpg: ignoring corrupt image/label: non-normalized or out of bounds coordinates [     322.18      200.47      465.67      246.52      342.03      589.66      582.99]\n",
      "\u001b[34m\u001b[1mtrain: \u001b[0mWARNING ⚠️ /home/vrs/train/lp_seg/data/detect/vids/images/train/8145624df101fdff.jpg: ignoring corrupt image/label: non-normalized or out of bounds coordinates [        242         360         476         488         399         257         789         498         481         251         785         437]\n",
      "\u001b[34m\u001b[1mtrain: \u001b[0mWARNING ⚠️ /home/vrs/train/lp_seg/data/detect/vids/images/train/8179fd6718e00e51.jpg: ignoring corrupt image/label: non-normalized or out of bounds coordinates [     110.72      210.43      176.64       439.4      186.12       85.12      428.53       10.24      373.52       61.44      425.97      181.12      138.15      1023.4      599.29]\n",
      "\u001b[34m\u001b[1mtrain: \u001b[0mWARNING ⚠️ /home/vrs/train/lp_seg/data/detect/vids/images/train/826bf9d57b4d2dc6.jpg: ignoring corrupt image/label: non-normalized or out of bounds coordinates [     282.88      106.24      637.44      397.44      288.64      115.84       867.2      465.92]\n",
      "\u001b[34m\u001b[1mtrain: \u001b[0mWARNING ⚠️ /home/vrs/train/lp_seg/data/detect/vids/images/train/842b660fb81fa24a.jpg: ignoring corrupt image/label: non-normalized or out of bounds coordinates [     423.04      368.77      778.88      608.22        51.2      436.63      196.48      489.13       58.88      453.92      183.68      521.14       131.2      516.66      241.28      574.92       262.4      259.93       297.6      296.42      277.76       222.8      317.44      254.17      302.72      274.02\n",
      "       355.2      308.59       364.8      181.18      379.52      199.75      378.24      178.62      395.52      199.75         432      177.34       454.4      197.19      437.12      197.19      479.36      220.24       486.4       238.8      540.16      272.74      704.64      437.91      760.96      482.73\n",
      "       713.6      446.24      814.72      524.99       713.6      503.86      831.36      598.61]\n",
      "\u001b[34m\u001b[1mtrain: \u001b[0mWARNING ⚠️ /home/vrs/train/lp_seg/data/detect/vids/images/train/84318a05a5fafab7.jpg: ignoring corrupt image/label: non-normalized or out of bounds coordinates [     55.296       347.1      161.79      411.61      164.86      258.02      421.89      460.76      317.44       304.1      523.26      421.85       405.5      379.87      552.96      489.43      499.71      401.37      594.94      467.92      561.15      422.87      672.77      482.26      569.34      389.08\n",
      "      724.99      487.38      760.83      406.49      863.23      477.14]\n",
      "\u001b[34m\u001b[1mtrain: \u001b[0mWARNING ⚠️ /home/vrs/train/lp_seg/data/detect/vids/images/train/844ddba8f9d46f62.jpg: ignoring corrupt image/label: non-normalized or out of bounds coordinates [     105.72      149.12      451.06       63.36      316.51      459.52       596.5       435.2      92.262      813.44      501.68      455.68      118.53      707.84      658.01      618.88      86.496      877.44      465.16      783.36      106.36      1023.4      550.37]\n",
      "\u001b[34m\u001b[1mtrain: \u001b[0mWARNING ⚠️ /home/vrs/train/lp_seg/data/detect/vids/images/train/84589b94-8318-4062-be60-7aec562f6be8.jpg: corrupt JPEG restored and saved\n",
      "\u001b[34m\u001b[1mtrain: \u001b[0mWARNING ⚠️ /home/vrs/train/lp_seg/data/detect/vids/images/train/845b8a3e2d2fd320.jpg: ignoring corrupt image/label: non-normalized or out of bounds coordinates [       49.5      772.69         768]\n",
      "\u001b[34m\u001b[1mtrain: \u001b[0mWARNING ⚠️ /home/vrs/train/lp_seg/data/detect/vids/images/train/848bd6574317900f.jpg: ignoring corrupt image/label: non-normalized or out of bounds coordinates [      388.1      415.89       665.6      664.81]\n",
      "\u001b[34m\u001b[1mtrain: \u001b[0mWARNING ⚠️ /home/vrs/train/lp_seg/data/detect/vids/images/train/85ee2c820ded1740.jpg: ignoring corrupt image/label: non-normalized or out of bounds coordinates [     305.07      104.53      733.87      766.93         320      446.93      510.93      677.33      574.93      125.87       854.4      686.93      762.67      151.47      984.53       742.4]\n",
      "\u001b[34m\u001b[1mtrain: \u001b[0mWARNING ⚠️ /home/vrs/train/lp_seg/data/detect/vids/images/train/86d0cddeb5605c5f.jpg: ignoring corrupt image/label: non-normalized or out of bounds coordinates [     297.83      669.28      341.33      876.76      332.97      660.92      373.12      821.54      371.45      669.28      430.01      871.74      441.73      644.18      625.78      828.24       655.9      664.26      675.97      747.92      675.97      662.59      704.42      751.27]\n",
      "\u001b[34m\u001b[1mtrain: \u001b[0mWARNING ⚠️ /home/vrs/train/lp_seg/data/detect/vids/images/train/8717a483a0156955.jpg: ignoring corrupt image/label: non-normalized or out of bounds coordinates [     277.12      158.72      922.88      762.24]\n",
      "\u001b[34m\u001b[1mtrain: \u001b[0mWARNING ⚠️ /home/vrs/train/lp_seg/data/detect/vids/images/train/874a7054e7182673.jpg: ignoring corrupt image/label: non-normalized or out of bounds coordinates [      332.8      250.88      641.92      461.44      698.24      239.36       844.8       387.2]\n",
      "\u001b[34m\u001b[1mtrain: \u001b[0mWARNING ⚠️ /home/vrs/train/lp_seg/data/detect/vids/images/train/8810277281ceebd1.jpg: ignoring corrupt image/label: non-normalized or out of bounds coordinates [     56.001         272       459.2         608]\n",
      "\u001b[34m\u001b[1mtrain: \u001b[0mWARNING ⚠️ /home/vrs/train/lp_seg/data/detect/vids/images/train/88bd228285c5c68a.jpg: ignoring corrupt image/label: non-normalized or out of bounds coordinates [     366.35      261.59      720.85      531.09]\n",
      "\u001b[34m\u001b[1mtrain: \u001b[0mWARNING ⚠️ /home/vrs/train/lp_seg/data/detect/vids/images/train/89aba96c10b16d3b.jpg: ignoring corrupt image/label: non-normalized or out of bounds coordinates [     108.16      78.716       921.6      672.61]\n",
      "\u001b[34m\u001b[1mtrain: \u001b[0mWARNING ⚠️ /home/vrs/train/lp_seg/data/detect/vids/images/train/8a9929791c8f2278.jpg: ignoring corrupt image/label: non-normalized or out of bounds coordinates [     456.78      307.87      799.79       836.6      848.31      1022.3      853.33]\n",
      "\u001b[34m\u001b[1mtrain: \u001b[0mWARNING ⚠️ /home/vrs/train/lp_seg/data/detect/vids/images/train/8aba01550960b8ea.jpg: ignoring corrupt image/label: non-normalized or out of bounds coordinates [         96      270.08      437.12      519.04]\n",
      "\u001b[34m\u001b[1mtrain: \u001b[0mWARNING ⚠️ /home/vrs/train/lp_seg/data/detect/vids/images/train/8b3984f2a78777e8.jpg: ignoring corrupt image/label: non-normalized or out of bounds coordinates [     370.56      397.24       502.4      486.94      113.92      390.84      241.28      477.33      167.68      404.29       252.8      470.92      267.52      390.84      392.32      472.21      711.04      383.15      899.84      493.35]\n",
      "\u001b[34m\u001b[1mtrain: \u001b[0mWARNING ⚠️ /home/vrs/train/lp_seg/data/detect/vids/images/train/8bf39d9c60f55bd8.jpg: ignoring corrupt image/label: non-normalized or out of bounds coordinates [         96      413.78      337.28      618.75]\n",
      "\u001b[34m\u001b[1mtrain: \u001b[0mWARNING ⚠️ /home/vrs/train/lp_seg/data/detect/vids/images/train/8cc81b3295c2c0be.jpg: ignoring corrupt image/label: non-normalized or out of bounds coordinates [      639.2      309.51       876.8      482.26       344.8      238.33         472      383.09]\n",
      "\u001b[34m\u001b[1mtrain: \u001b[0mWARNING ⚠️ /home/vrs/train/lp_seg/data/detect/vids/images/train/8cd7dce5b1397778.jpg: ignoring corrupt image/label: non-normalized or out of bounds coordinates [     429.44      321.28      487.68       396.8         816       380.8       998.4      490.88]\n",
      "\u001b[34m\u001b[1mtrain: \u001b[0mWARNING ⚠️ /home/vrs/train/lp_seg/data/detect/vids/images/train/8d1d5ea3c3b6d628.jpg: ignoring corrupt image/label: non-normalized or out of bounds coordinates [     254.72      436.48      394.88      531.84      548.48      411.52      712.32      535.68]\n",
      "\u001b[34m\u001b[1mtrain: \u001b[0mWARNING ⚠️ /home/vrs/train/lp_seg/data/detect/vids/images/train/8d812647e8a5afde.jpg: ignoring corrupt image/label: non-normalized or out of bounds coordinates [        157         442         478         501         235         660         682]\n",
      "\u001b[34m\u001b[1mtrain: \u001b[0mWARNING ⚠️ /home/vrs/train/lp_seg/data/detect/vids/images/train/8d9e1d798d296d02.jpg: ignoring corrupt image/label: non-normalized or out of bounds coordinates [     23.694      384.28      105.03      456.65       47.39      404.77      176.75      504.68      157.54      438.08      248.48      513.01      194.68      401.57      247.19      442.56]\n",
      "\u001b[34m\u001b[1mtrain: \u001b[0mWARNING ⚠️ /home/vrs/train/lp_seg/data/detect/vids/images/train/8dc2cf2d716f3ce4.jpg: ignoring corrupt image/label: non-normalized or out of bounds coordinates [     288.96      174.08      374.18      289.28      238.99      490.24       451.7]\n",
      "\u001b[34m\u001b[1mtrain: \u001b[0mWARNING ⚠️ /home/vrs/train/lp_seg/data/detect/vids/images/train/8dc4b20169faafe9.jpg: ignoring corrupt image/label: non-normalized or out of bounds coordinates [     184.32      100.74      808.96      631.78]\n",
      "\u001b[34m\u001b[1mtrain: \u001b[0mWARNING ⚠️ /home/vrs/train/lp_seg/data/detect/vids/images/train/8e8787effa44a992.jpg: ignoring corrupt image/label: non-normalized or out of bounds coordinates [       12.8      366.93      78.933         432      71.467      350.93      114.13       422.4      200.53      357.33       233.6      418.13      241.07      360.53      353.07      417.07      260.27      340.27      340.27      442.67      397.87       329.6      493.87      397.87      514.13      362.67\n",
      "      589.87         432      670.93      410.67      872.53       553.6         928      366.93      1022.9      466.13]\n",
      "\u001b[34m\u001b[1mtrain: \u001b[0mWARNING ⚠️ /home/vrs/train/lp_seg/data/detect/vids/images/train/8e8f707ddc33980d.jpg: ignoring corrupt image/label: non-normalized or out of bounds coordinates [     372.48      255.64      394.88      284.48      381.44      309.46       444.8      364.57      487.68      337.66      565.76      402.37      490.24      274.23      557.44      315.87      622.72      243.47      671.36      272.94      671.36      225.53         720      254.36      705.92      272.94\n",
      "      766.08      309.46      723.84      288.32      750.08      325.48      865.92      276.79       924.8      314.59      885.12      269.74      932.48      303.06]\n",
      "\u001b[34m\u001b[1mtrain: \u001b[0mWARNING ⚠️ /home/vrs/train/lp_seg/data/detect/vids/images/train/8eae7f5aebc63ba5.jpg: ignoring corrupt image/label: non-normalized or out of bounds coordinates [     181.12       243.2      338.56      423.04      259.84         272      399.36      445.44       358.4         272      545.92      469.12      373.12      266.88      412.16      320.64      405.76      264.32      450.56       316.8      484.48      273.28      699.52      450.56      531.84      264.32\n",
      "      595.84      424.32]\n",
      "\u001b[34m\u001b[1mtrain: \u001b[0mWARNING ⚠️ /home/vrs/train/lp_seg/data/detect/vids/images/train/8ee86c686cabdf77.jpg: ignoring corrupt image/label: non-normalized or out of bounds coordinates [     330.88      428.53      408.96      644.07      397.18       88.96      684.36       69.12      434.92       172.8      683.08      231.04      420.85      289.92      619.76      728.32      450.91      767.36       562.2      846.08      459.86      903.68      630.63      943.36      440.68      1023.4\n",
      "      684.36]\n",
      "\u001b[34m\u001b[1mtrain: \u001b[0mWARNING ⚠️ /home/vrs/train/lp_seg/data/detect/vids/images/train/8f2b6716f2884c6d.jpg: ignoring corrupt image/label: non-normalized or out of bounds coordinates [      107.7       27.27      192.23      14.317       245.4       216.8      494.88      156.12      144.51      199.07      260.39      188.85       115.2      231.12      253.58      220.21      140.42      284.98      283.57      235.21      275.39      286.34      496.25       254.3      120.65      279.52\n",
      "      171.78      263.84      115.88      308.15      261.76      434.28      162.92      480.64      303.34      458.14      153.37      494.96      282.21      475.19      168.37      533.13      307.43      518.82      154.74      567.22      295.84]\n",
      "\u001b[34m\u001b[1mtrain: \u001b[0mWARNING ⚠️ /home/vrs/train/lp_seg/data/detect/vids/images/train/8f5e2b55b17c2c20.jpg: ignoring corrupt image/label: non-normalized or out of bounds coordinates [       5.76      277.76       473.6      670.72       502.4      388.48      776.32      616.32      789.12       97.92       873.6      140.16]\n",
      "\u001b[34m\u001b[1mtrain: \u001b[0mWARNING ⚠️ /home/vrs/train/lp_seg/data/detect/vids/images/train/90c8e83f6a5afbca.jpg: ignoring corrupt image/label: non-normalized or out of bounds coordinates [      105.6      124.16      767.36      559.36]\n",
      "\u001b[34m\u001b[1mtrain: \u001b[0mWARNING ⚠️ /home/vrs/train/lp_seg/data/detect/vids/images/train/9276edf77d9bd4ec.jpg: ignoring corrupt image/label: non-normalized or out of bounds coordinates [     220.02      340.41      659.37      572.89]\n",
      "\u001b[34m\u001b[1mtrain: \u001b[0mWARNING ⚠️ /home/vrs/train/lp_seg/data/detect/vids/images/train/9293185da7c705ca.jpg: ignoring corrupt image/label: non-normalized or out of bounds coordinates [      230.4      384.64      514.56      618.88       243.2      101.76      363.52       198.4      471.68         304      692.48      510.72      558.08      273.92       777.6      436.48      599.04      476.16      794.24      695.68]\n",
      "\u001b[34m\u001b[1mtrain: \u001b[0mWARNING ⚠️ /home/vrs/train/lp_seg/data/detect/vids/images/train/92bee0079168d224.jpg: ignoring corrupt image/label: non-normalized or out of bounds coordinates [      177.6       409.6       427.2       907.2]\n",
      "\u001b[34m\u001b[1mtrain: \u001b[0mWARNING ⚠️ /home/vrs/train/lp_seg/data/detect/vids/images/train/92df5fc50a017f49.jpg: ignoring corrupt image/label: non-normalized or out of bounds coordinates [     467.84      128.73      571.52      403.48]\n",
      "\u001b[34m\u001b[1mtrain: \u001b[0mWARNING ⚠️ /home/vrs/train/lp_seg/data/detect/vids/images/train/93254043014f7268.jpg: ignoring corrupt image/label: non-normalized or out of bounds coordinates [     188.16       75.52      541.44       39.68       156.8      194.56       515.2       108.8      193.28      239.36      516.48      190.72      138.24      497.28      702.72      447.36      196.48      519.68      571.52      513.28      133.76      752.64      718.72]\n",
      "\u001b[34m\u001b[1mtrain: \u001b[0mWARNING ⚠️ /home/vrs/train/lp_seg/data/detect/vids/images/train/93d59d62b3e9b81a.jpg: ignoring corrupt image/label: non-normalized or out of bounds coordinates [     190.08      359.45      364.16      533.42      352.41       13.44      449.63       39.68      291.01      129.92      378.64      122.24      298.69      174.72      354.97      128.64      317.24      190.72       408.7      184.32      287.18      258.56       374.8      225.92       347.3      304.64\n",
      "       473.3      244.48      298.69      275.84      344.74         256       313.4      334.72      376.08       300.8      321.07      399.36      454.75      353.28      287.18      383.36       313.4      355.84      308.28      437.12       402.3       438.4      294.85      479.36      360.73      464.64\n",
      "      331.95      559.36      410.62      539.52      321.07      702.08      436.84       729.6      338.34       876.8      449.63]\n",
      "\u001b[34m\u001b[1mtrain: \u001b[0mWARNING ⚠️ /home/vrs/train/lp_seg/data/detect/vids/images/train/93eebef8f8430964.jpg: ignoring corrupt image/label: non-normalized or out of bounds coordinates [         17         268          71         415         171         284         218         453         192         389         264         516         257         116         307         190         320         362         406         463         359         201         412         336         463         236\n",
      "         536         381         588         146         617         243         762         197         785         294]\n",
      "\u001b[34m\u001b[1mtrain: \u001b[0mWARNING ⚠️ /home/vrs/train/lp_seg/data/detect/vids/images/train/9462d651147b35c8.jpg: ignoring corrupt image/label: non-normalized or out of bounds coordinates [     452.48      222.83      688.64      539.13]\n",
      "\u001b[34m\u001b[1mtrain: \u001b[0mWARNING ⚠️ /home/vrs/train/lp_seg/data/detect/vids/images/train/94aec7f9d0fa0c3a.jpg: ignoring corrupt image/label: non-normalized or out of bounds coordinates [      150.4      500.68      215.04      597.36      191.36      498.12      232.96      583.27      423.04      531.41      456.96      597.36      423.04      505.16      462.08      586.48      627.84      372.63       668.8      462.91       668.8      377.75      705.28      437.94      671.36      425.77\n",
      "      702.72       505.8      706.56      409.12      731.52      503.24       710.4      356.62      764.16      427.69      759.04      387.36      796.16      473.79      938.88      376.47       972.8      448.82      965.12      359.18      996.48      441.78]\n",
      "\u001b[34m\u001b[1mtrain: \u001b[0mWARNING ⚠️ /home/vrs/train/lp_seg/data/detect/vids/images/train/9540364db039dcdc.jpg: ignoring corrupt image/label: non-normalized or out of bounds coordinates [     145.28      123.52         656       467.2]\n",
      "\u001b[34m\u001b[1mtrain: \u001b[0mWARNING ⚠️ /home/vrs/train/lp_seg/data/detect/vids/images/train/954d1e6175d3f422.jpg: ignoring corrupt image/label: non-normalized or out of bounds coordinates [     197.76      180.48       707.2      738.56]\n",
      "\u001b[34m\u001b[1mtrain: \u001b[0mWARNING ⚠️ /home/vrs/train/lp_seg/data/detect/vids/images/train/958389d3eb53ef0f.jpg: ignoring corrupt image/label: non-normalized or out of bounds coordinates [     261.76      284.97      362.88      484.76      154.88      293.93       198.4      382.94      239.36      292.65      289.28      385.51      449.28       272.8      572.16       472.6]\n",
      "\u001b[34m\u001b[1mtrain: \u001b[0mWARNING ⚠️ /home/vrs/train/lp_seg/data/detect/vids/images/train/959e95afbd4028a1.jpg: ignoring corrupt image/label: non-normalized or out of bounds coordinates [     341.76      352.71      417.92      559.48]\n",
      "\u001b[34m\u001b[1mtrain: \u001b[0mWARNING ⚠️ /home/vrs/train/lp_seg/data/detect/vids/images/train/963d75b4b5ebb65f.jpg: ignoring corrupt image/label: non-normalized or out of bounds coordinates [        162         107         741         564]\n",
      "\u001b[34m\u001b[1mtrain: \u001b[0mWARNING ⚠️ /home/vrs/train/lp_seg/data/detect/vids/images/train/966fc2e706d16645.jpg: ignoring corrupt image/label: non-normalized or out of bounds coordinates [     501.12      356.48       582.4      419.84         112      302.72      152.96         336      167.68      314.88       211.2       348.8      300.16      330.88      331.52       374.4      363.52         320      423.04      362.24      420.48         320      471.68      360.96       585.6      346.24\n",
      "         624      391.68      600.32      405.76      702.08      478.72      730.88       403.2      801.28      437.76      764.16       342.4      818.56      384.64]\n",
      "\u001b[34m\u001b[1mtrain: \u001b[0mWARNING ⚠️ /home/vrs/train/lp_seg/data/detect/vids/images/train/972c31dd9e4fdbf6.jpg: ignoring corrupt image/label: non-normalized or out of bounds coordinates [     133.12      269.74       236.8      439.53]\n",
      "\u001b[34m\u001b[1mtrain: \u001b[0mWARNING ⚠️ /home/vrs/train/lp_seg/data/detect/vids/images/train/9731d62bdc922dea.jpg: ignoring corrupt image/label: non-normalized or out of bounds coordinates [        128      179.81      696.32      570.16      512.64       253.4      888.32      490.81]\n",
      "\u001b[34m\u001b[1mtrain: \u001b[0mWARNING ⚠️ /home/vrs/train/lp_seg/data/detect/vids/images/train/986bc48ab1607b68.jpg: ignoring corrupt image/label: non-normalized or out of bounds coordinates [     551.04      152.96      972.16      497.28         112      184.96       419.2      490.88]\n",
      "\u001b[34m\u001b[1mtrain: \u001b[0mWARNING ⚠️ /home/vrs/train/lp_seg/data/detect/vids/images/train/989c3229b917240d.jpg: ignoring corrupt image/label: non-normalized or out of bounds coordinates [     186.24      408.96      356.48      517.12      551.04      341.12         768      519.68]\n",
      "\u001b[34m\u001b[1mtrain: \u001b[0mWARNING ⚠️ /home/vrs/train/lp_seg/data/detect/vids/images/train/9b71313bd2566c54.jpg: ignoring corrupt image/label: non-normalized or out of bounds coordinates [     138.24      314.88      604.16      767.36]\n",
      "\u001b[34m\u001b[1mtrain: \u001b[0mWARNING ⚠️ /home/vrs/train/lp_seg/data/detect/vids/images/train/9be028e8ab3367e8.jpg: ignoring corrupt image/label: non-normalized or out of bounds coordinates [     458.24       531.5      506.88      600.57       499.2      530.22      522.24      560.28      517.12      528.94         576      569.23      561.92      541.73      605.44      578.83      674.56      557.72      727.04      616.56]\n",
      "\u001b[34m\u001b[1mtrain: \u001b[0mWARNING ⚠️ /home/vrs/train/lp_seg/data/detect/vids/images/train/9bf4122210035833.jpg: ignoring corrupt image/label: non-normalized or out of bounds coordinates [      21.12      315.67      460.16      629.42       537.6      202.98         720      486.63]\n",
      "\u001b[34m\u001b[1mtrain: \u001b[0mWARNING ⚠️ /home/vrs/train/lp_seg/data/detect/vids/images/train/9cfd9a9937f6bb33.jpg: ignoring corrupt image/label: non-normalized or out of bounds coordinates [      355.2         296       900.8       691.2]\n",
      "\u001b[34m\u001b[1mtrain: \u001b[0mWARNING ⚠️ /home/vrs/train/lp_seg/data/detect/vids/images/train/9df9cba16807da63.jpg: ignoring corrupt image/label: non-normalized or out of bounds coordinates [     328.96      156.87      495.36      357.93       84.48      170.96      254.72      308.63      164.48      172.24      225.92      311.19      216.96       174.8      405.76      306.06       467.2      160.08      577.92      338.72      520.96      153.67      613.12      316.31       569.6      169.68\n",
      "      682.88      337.44      679.68      156.23      840.32      311.19      853.12      161.36      976.64      316.31]\n",
      "\u001b[34m\u001b[1mtrain: \u001b[0mWARNING ⚠️ /home/vrs/train/lp_seg/data/detect/vids/images/train/9e0d22368597a269.jpg: ignoring corrupt image/label: non-normalized or out of bounds coordinates [     173.87      183.47      645.33      685.87      8.5332       227.2      24.533      232.53      53.333       227.2        70.4      235.73      97.067       230.4      152.53       243.2]\n",
      "\u001b[34m\u001b[1mtrain: \u001b[0mWARNING ⚠️ /home/vrs/train/lp_seg/data/detect/vids/images/train/9f59e50ecef74436.jpg: ignoring corrupt image/label: non-normalized or out of bounds coordinates [        448         590         614         699]\n",
      "\u001b[34m\u001b[1mtrain: \u001b[0mWARNING ⚠️ /home/vrs/train/lp_seg/data/detect/vids/images/train/a0abf4ee8445e69f.jpg: ignoring corrupt image/label: non-normalized or out of bounds coordinates [     849.92         325      979.84      480.46      625.92       365.3      664.32      404.33]\n",
      "\u001b[34m\u001b[1mtrain: \u001b[0mWARNING ⚠️ /home/vrs/train/lp_seg/data/detect/vids/images/train/a1362ee7f8a7745c.jpg: ignoring corrupt image/label: non-normalized or out of bounds coordinates [     261.12      696.32      629.76       915.2]\n",
      "\u001b[34m\u001b[1mtrain: \u001b[0mWARNING ⚠️ /home/vrs/train/lp_seg/data/detect/vids/images/train/a2c5ab8e8fe6c2d6.jpg: ignoring corrupt image/label: non-normalized or out of bounds coordinates [     66.089      92.735      392.74      649.15       500.6      85.134      758.88      682.59]\n",
      "\u001b[34m\u001b[1mtrain: \u001b[0mWARNING ⚠️ /home/vrs/train/lp_seg/data/detect/vids/images/train/a56bf5b298701995.jpg: ignoring corrupt image/label: non-normalized or out of bounds coordinates [     396.29      700.42      604.16      987.14]\n",
      "\u001b[34m\u001b[1mtrain: \u001b[0mWARNING ⚠️ /home/vrs/train/lp_seg/data/detect/vids/images/train/a6cfa4f3ff7fd2c0.jpg: ignoring corrupt image/label: non-normalized or out of bounds coordinates [     186.88      371.84       268.8      509.44      538.24      366.72      602.24      525.44]\n",
      "\u001b[34m\u001b[1mtrain: \u001b[0mWARNING ⚠️ /home/vrs/train/lp_seg/data/detect/vids/images/train/a70f24ad6b12bc6a.jpg: ignoring corrupt image/label: non-normalized or out of bounds coordinates [        646         135         927         632         212         287         545         477]\n",
      "\u001b[34m\u001b[1mtrain: \u001b[0mWARNING ⚠️ /home/vrs/train/lp_seg/data/detect/vids/images/train/a78a4b0166a9b110.jpg: ignoring corrupt image/label: non-normalized or out of bounds coordinates [      492.8       279.7      545.28      396.18]\n",
      "\u001b[34m\u001b[1mtrain: \u001b[0mWARNING ⚠️ /home/vrs/train/lp_seg/data/detect/vids/images/train/a9168c91134052b0.jpg: ignoring corrupt image/label: non-normalized or out of bounds coordinates [     414.72      196.48      785.92      622.08]\n",
      "\u001b[34m\u001b[1mtrain: \u001b[0mWARNING ⚠️ /home/vrs/train/lp_seg/data/detect/vids/images/train/aa944d4e9c446997.jpg: ignoring corrupt image/label: non-normalized or out of bounds coordinates [      131.2      230.66      191.36      304.34      151.68      383.15      440.32      603.55      167.68      212.08       233.6      299.21      335.36      264.61      688.64      577.28      510.08      212.08      599.68      274.23      522.24      369.69      901.12      598.43      647.68      256.93\n",
      "      864.64      590.74      688.64      208.23      781.44      262.05      753.92      420.95      1023.4      603.55]\n",
      "\u001b[34m\u001b[1mtrain: \u001b[0mWARNING ⚠️ /home/vrs/train/lp_seg/data/detect/vids/images/train/aa9edea96ccbbd4f.jpg: ignoring corrupt image/label: non-normalized or out of bounds coordinates [     746.71      234.97      956.76       357.9      10.246      276.59      89.015      396.96      131.28      279.15      335.57      395.67      322.76      290.67      388.08      352.14       423.3      250.34      569.32      384.15      956.12       259.3      1023.4      306.68      983.65      270.83\n",
      "      1023.4      330.37]\n",
      "\u001b[34m\u001b[1mtrain: \u001b[0mWARNING ⚠️ /home/vrs/train/lp_seg/data/detect/vids/images/train/ab818552ce8577e5.jpg: ignoring corrupt image/label: non-normalized or out of bounds coordinates [     666.16         393      978.99         615]\n",
      "\u001b[34m\u001b[1mtrain: \u001b[0mWARNING ⚠️ /home/vrs/train/lp_seg/data/detect/vids/images/train/abe6d9e005c6c0d6.jpg: ignoring corrupt image/label: non-normalized or out of bounds coordinates [     536.96      186.15      1000.3      621.79      192.55      372.48      575.73]\n",
      "\u001b[34m\u001b[1mtrain: \u001b[0mWARNING ⚠️ /home/vrs/train/lp_seg/data/detect/vids/images/train/acb702975a36e991.jpg: ignoring corrupt image/label: non-normalized or out of bounds coordinates [     472.32      341.76       547.2      428.16      757.76       380.8      916.48       473.6      910.72      378.24      1023.4      467.84]\n",
      "\u001b[34m\u001b[1mtrain: \u001b[0mWARNING ⚠️ /home/vrs/train/lp_seg/data/detect/vids/images/train/aed6213c0fb64da4.jpg: ignoring corrupt image/label: non-normalized or out of bounds coordinates [     423.04       307.2      529.28      394.24       204.8      568.96      347.52      714.24         304      440.32       419.2      526.08      335.36      616.32       387.2      711.68      709.76      256.64      773.12      330.88      734.72      515.84      925.44       700.8      869.76      362.24\n",
      "      963.84      456.32]\n",
      "\u001b[34m\u001b[1mtrain: \u001b[0mWARNING ⚠️ /home/vrs/train/lp_seg/data/detect/vids/images/train/af5aea5561b8b193.jpg: ignoring corrupt image/label: non-normalized or out of bounds coordinates [      227.2      323.84      676.48      690.56      306.56      529.92      385.92      513.92      317.44      1023.4      531.84]\n",
      "\u001b[34m\u001b[1mtrain: \u001b[0mWARNING ⚠️ /home/vrs/train/lp_seg/data/detect/vids/images/train/b08d1b459454c20f.jpg: ignoring corrupt image/label: non-normalized or out of bounds coordinates [     431.36       259.2       969.6      741.12       47.36      369.92      503.68         480       486.4      767.36      126.72       33.28       678.4      526.08]\n",
      "\u001b[34m\u001b[1mtrain: \u001b[0mWARNING ⚠️ /home/vrs/train/lp_seg/data/detect/vids/images/train/b187b80ef4144fc4.jpg: ignoring corrupt image/label: non-normalized or out of bounds coordinates [      297.6      281.87      661.12      514.42]\n",
      "\u001b[34m\u001b[1mtrain: \u001b[0mWARNING ⚠️ /home/vrs/train/lp_seg/data/detect/vids/images/train/b23157738e1d1b2b.jpg: ignoring corrupt image/label: non-normalized or out of bounds coordinates [     296.96      259.84      446.72      439.68]\n",
      "\u001b[34m\u001b[1mtrain: \u001b[0mWARNING ⚠️ /home/vrs/train/lp_seg/data/detect/vids/images/train/b28401bb9cee6386.jpg: ignoring corrupt image/label: non-normalized or out of bounds coordinates [      14.08      397.44       65.92      430.08       56.96         400       90.88       422.4       64.64      402.56       88.32      426.24       74.88       412.8      129.28      463.36      284.16       406.4      325.12       438.4      446.72      414.72      501.12      446.08       534.4      403.84\n",
      "      616.32       467.2]\n",
      "\u001b[34m\u001b[1mtrain: \u001b[0mWARNING ⚠️ /home/vrs/train/lp_seg/data/detect/vids/images/train/b3088cd660aa629b.jpg: ignoring corrupt image/label: non-normalized or out of bounds coordinates [     221.44      145.92      642.56         576]\n",
      "\u001b[34m\u001b[1mtrain: \u001b[0mWARNING ⚠️ /home/vrs/train/lp_seg/data/detect/vids/images/train/b3196dabdba5a627.jpg: ignoring corrupt image/label: non-normalized or out of bounds coordinates [      438.4      235.33         856      497.87       217.6      304.17       425.6      523.49]\n",
      "\u001b[34m\u001b[1mtrain: \u001b[0mWARNING ⚠️ /home/vrs/train/lp_seg/data/detect/vids/images/train/b35a2863a22b643b.jpg: ignoring corrupt image/label: non-normalized or out of bounds coordinates [      108.8      359.04      328.96      679.04]\n",
      "\u001b[34m\u001b[1mtrain: \u001b[0mWARNING ⚠️ /home/vrs/train/lp_seg/data/detect/vids/images/train/b3b4a1fac46def7a.jpg: ignoring corrupt image/label: non-normalized or out of bounds coordinates [     247.04         480      371.84      600.32          96       23.68      146.56       55.68      498.56      362.24       563.2         480      554.88      157.44      622.72      197.12      568.32        92.8         624      141.44      626.56       252.8      699.52         320]\n",
      "\u001b[34m\u001b[1mtrain: \u001b[0mWARNING ⚠️ /home/vrs/train/lp_seg/data/detect/vids/images/train/b3c576ad833f4055.jpg: ignoring corrupt image/label: non-normalized or out of bounds coordinates [     5.0509      539.06      450.23      1000.9]\n",
      "\u001b[34m\u001b[1mtrain: \u001b[0mWARNING ⚠️ /home/vrs/train/lp_seg/data/detect/vids/images/train/b5089ddf811b5bd8.jpg: ignoring corrupt image/label: non-normalized or out of bounds coordinates [     352.64       88.96      797.44      718.72       84.48      139.52      222.08      664.96        60.8         752         176         752      119.04      947.84      282.88]\n",
      "\u001b[34m\u001b[1mtrain: \u001b[0mWARNING ⚠️ /home/vrs/train/lp_seg/data/detect/vids/images/train/b586a6f8bb814df6.jpg: ignoring corrupt image/label: non-normalized or out of bounds coordinates [     369.92         214      578.56      438.25      514.49      321.28      682.36      693.76      290.24      778.88      488.22]\n",
      "\u001b[34m\u001b[1mtrain: \u001b[0mWARNING ⚠️ /home/vrs/train/lp_seg/data/detect/vids/images/train/b5bf1c3ca02dd5d0.jpg: ignoring corrupt image/label: non-normalized or out of bounds coordinates [      611.2      414.08      993.92      648.96       42.24      423.68       147.2      520.32      200.96      423.68      321.28      501.76      308.48      431.36      408.96      562.56      357.12      421.12       390.4      465.92      458.88      430.08      616.32      624.64      468.48      421.12\n",
      "      501.12      471.04      508.16      423.68      551.68      465.92      593.92      426.24         672      484.48      691.84      421.12      709.12       454.4      725.12      410.24      756.48      449.92       755.2      418.56       771.2      437.12      773.76      414.72      792.32      439.68\n",
      "      797.44      414.72      826.88      439.68      824.32      418.56      842.88      431.36      845.44         416      855.68      435.84]\n",
      "\u001b[34m\u001b[1mtrain: \u001b[0mWARNING ⚠️ /home/vrs/train/lp_seg/data/detect/vids/images/train/b640b214a02d5792.jpg: ignoring corrupt image/label: non-normalized or out of bounds coordinates [     734.72      460.67      849.92       607.4]\n",
      "\u001b[34m\u001b[1mtrain: \u001b[0mWARNING ⚠️ /home/vrs/train/lp_seg/data/detect/vids/images/train/b6c4f164cd35dc87.jpg: ignoring corrupt image/label: non-normalized or out of bounds coordinates [     236.16         176      842.24      632.96]\n",
      "\u001b[34m\u001b[1mtrain: \u001b[0mWARNING ⚠️ /home/vrs/train/lp_seg/data/detect/vids/images/train/b7d05cb42eddde17.jpg: ignoring corrupt image/label: non-normalized or out of bounds coordinates [      515.2      257.23      872.32      587.42      303.95      366.08      517.67      267.52      284.11      350.08       322.5       364.8      202.84       633.6      558.62]\n",
      "\u001b[34m\u001b[1mtrain: \u001b[0mWARNING ⚠️ /home/vrs/train/lp_seg/data/detect/vids/images/train/b978b391da4b59f0.jpg: ignoring corrupt image/label: non-normalized or out of bounds coordinates [      140.8       87.68      615.68      999.68]\n",
      "\u001b[34m\u001b[1mtrain: \u001b[0mWARNING ⚠️ /home/vrs/train/lp_seg/data/detect/vids/images/train/b9b400aae380edbf.jpg: ignoring corrupt image/label: non-normalized or out of bounds coordinates [     184.32      89.642      637.44      378.24      347.04      798.08      37.138      186.24      74.275      222.72      68.512      218.88      113.97      311.68      100.53      225.92      151.11      360.96      151.11      203.52      210.66       278.4      199.77      184.32      238.19      322.56\n",
      "       220.9      206.72      270.21      273.28      243.95      187.52      354.09       483.2      301.58      194.56      354.09      389.12      348.96      196.48      416.84      392.32      409.79      224.64      480.23      287.36      480.23      210.56      553.22      337.92      562.18         352\n",
      "      679.36      523.52      614.69      203.52      662.07      299.52]\n",
      "\u001b[34m\u001b[1mtrain: \u001b[0mWARNING ⚠️ /home/vrs/train/lp_seg/data/detect/vids/images/train/bba099884fe53e9b.jpg: ignoring corrupt image/label: non-normalized or out of bounds coordinates [     776.32      145.29      963.84      650.92      179.84      316.82      197.12      424.34      224.64       295.7       278.4      412.82      328.32      138.25      961.92      679.08]\n",
      "\u001b[34m\u001b[1mtrain: \u001b[0mWARNING ⚠️ /home/vrs/train/lp_seg/data/detect/vids/images/train/bc1b0095f7b62f62.jpg: ignoring corrupt image/label: non-normalized or out of bounds coordinates [     151.03      704.64      774.36      337.92      29.438      995.84      707.16]\n",
      "\u001b[34m\u001b[1mtrain: \u001b[0mWARNING ⚠️ /home/vrs/train/lp_seg/data/detect/vids/images/train/bcfb1558acbea6a8.jpg: ignoring corrupt image/label: non-normalized or out of bounds coordinates [        149         613         373         960]\n",
      "\u001b[34m\u001b[1mtrain: \u001b[0mWARNING ⚠️ /home/vrs/train/lp_seg/data/detect/vids/images/train/bd8dfddc8327d150.jpg: ignoring corrupt image/label: non-normalized or out of bounds coordinates [     243.84      247.83      314.24      307.39      254.24        44.8      289.46       26.88      260.64       53.12       293.3       48.64      252.96       93.44      295.86       84.48      254.24      131.84      292.02      108.16       263.2      156.16      294.58       153.6      259.36      216.96\n",
      "      298.43      218.24       263.2      239.36      289.46       220.8       256.8      234.88       263.2       307.2       263.2         336      297.15      321.92      258.08      363.52      302.27      369.28      259.36       396.8      298.43       396.8      249.76      510.72      295.86       742.4\n",
      "      251.68      779.52      329.17      783.36      265.13         800      283.06      784.64      283.06         800      324.04      797.44      270.25         816       296.5      807.04      266.41      848.64      318.92]\n",
      "\u001b[34m\u001b[1mtrain: \u001b[0mWARNING ⚠️ /home/vrs/train/lp_seg/data/detect/vids/images/train/c104f0a11c84e479.jpg: ignoring corrupt image/label: non-normalized or out of bounds coordinates [      84.48      499.84      133.76      634.88      254.08      508.16       265.6      545.28      261.76      497.28       297.6       572.8      325.12      520.96      357.12       579.2      360.96      481.28       396.8       617.6      863.36      510.72       947.2      645.76]\n",
      "\u001b[34m\u001b[1mtrain: \u001b[0mWARNING ⚠️ /home/vrs/train/lp_seg/data/detect/vids/images/train/c145b2af3aa28caf.jpg: ignoring corrupt image/label: non-normalized or out of bounds coordinates [     648.32      216.56      840.32      405.57]\n",
      "\u001b[34m\u001b[1mtrain: \u001b[0mWARNING ⚠️ /home/vrs/train/lp_seg/data/detect/vids/images/train/c3d5a08e93b09715.jpg: ignoring corrupt image/label: non-normalized or out of bounds coordinates [     439.68      209.35      480.64      300.26       10.24      204.22       88.96      352.11       96.64      199.74       355.2      285.53      359.04      209.35         384      273.37      401.28      199.74      427.52      275.93      421.12      210.63      447.36      280.41      513.92      199.74\n",
      "      541.44      275.93      536.32      204.22      556.16      269.53      562.56      193.34      584.96      272.09       595.2      209.35       617.6      275.93      628.48      197.18      810.88      269.53      821.12      204.22      928.64       248.4]\n",
      "\u001b[34m\u001b[1mtrain: \u001b[0mWARNING ⚠️ /home/vrs/train/lp_seg/data/detect/vids/images/train/c40dea44c3ff129f.jpg: ignoring corrupt image/label: non-normalized or out of bounds coordinates [     509.37       17.28      533.07       26.88      509.37       55.68      530.51       84.48      497.19      101.12      517.06      165.76      515.77      235.52       541.4      194.56      486.94      216.96      509.37      197.12      473.49      224.64      493.35       220.8      485.66       243.2\n",
      "      513.21      344.32      493.35      353.28      509.37      371.84      493.35      388.48      511.93      404.48      523.46      433.28      543.32      433.28      513.21      480.64      545.89      479.36      499.76      535.68      530.51      490.88      509.37       540.8      539.48      543.36\n",
      "      490.79      572.16      514.49      564.48      495.91      605.44      533.07      599.68      504.24      645.76      526.03      605.44      492.07       630.4      499.76      652.16      511.93      685.44      531.79      808.32      499.76      862.08      527.95      920.32      509.37      947.84\n",
      "      523.46      974.08      492.07      1019.5      518.34]\n",
      "\u001b[34m\u001b[1mtrain: \u001b[0mWARNING ⚠️ /home/vrs/train/lp_seg/data/detect/vids/images/train/c4e91dc3b37da387.jpg: ignoring corrupt image/label: non-normalized or out of bounds coordinates [     635.52      619.23       787.2      730.54       81.92      587.88      109.44      606.44      165.12      589.16      178.56      606.44      184.96       586.6       195.2       599.4      444.16      573.17      455.68      589.16      491.52      571.89      503.68      584.05      504.96      569.33\n",
      "      523.52      585.33      545.92      610.27         576      668.49       691.2      582.13      700.16      605.16         704      575.73      721.28      598.12      727.04      594.28      771.84      640.34      748.16      621.79       857.6       726.7      808.96      573.17      839.04       599.4]\n",
      "\u001b[34m\u001b[1mtrain: \u001b[0mWARNING ⚠️ /home/vrs/train/lp_seg/data/detect/vids/images/train/c6f58f55b9420dad.jpg: ignoring corrupt image/label: non-normalized or out of bounds coordinates [     337.92      303.36      410.88      396.16      410.88      254.08      920.32      574.08]\n",
      "\u001b[34m\u001b[1mtrain: \u001b[0mWARNING ⚠️ /home/vrs/train/lp_seg/data/detect/vids/images/train/c70f2b63f2b12f80.jpg: ignoring corrupt image/label: non-normalized or out of bounds coordinates [     191.36      378.24       377.6      584.32       419.2      347.52      597.76       572.8      487.68      305.28      651.52      568.96      632.96      383.36       678.4      531.84      654.08       390.4      709.76      529.28      670.08       358.4      805.12       502.4      753.28      346.24\n",
      "      906.88      494.72      856.96      368.64      978.56      492.16]\n",
      "\u001b[34m\u001b[1mtrain: \u001b[0mWARNING ⚠️ /home/vrs/train/lp_seg/data/detect/vids/images/train/c73521a2a9680d51.jpg: ignoring corrupt image/label: non-normalized or out of bounds coordinates [     165.76      170.88      604.16       531.2]\n",
      "\u001b[34m\u001b[1mtrain: \u001b[0mWARNING ⚠️ /home/vrs/train/lp_seg/data/detect/vids/images/train/c92dff1c542ef9b8.jpg: ignoring corrupt image/label: non-normalized or out of bounds coordinates [     482.42      442.31      549.91      511.44       584.9      431.48      644.06      495.62]\n",
      "\u001b[34m\u001b[1mtrain: \u001b[0mWARNING ⚠️ /home/vrs/train/lp_seg/data/detect/vids/images/train/c932b3e6b72f4efb.jpg: ignoring corrupt image/label: non-normalized or out of bounds coordinates [     586.24      236.04      673.28      308.32      548.48      244.35      597.76      295.53]\n",
      "\u001b[34m\u001b[1mtrain: \u001b[0mWARNING ⚠️ /home/vrs/train/lp_seg/data/detect/vids/images/train/cac78f1fbc1e8040.jpg: ignoring corrupt image/label: non-normalized or out of bounds coordinates [     577.92      453.12      668.16      561.92]\n",
      "\u001b[34m\u001b[1mtrain: \u001b[0mWARNING ⚠️ /home/vrs/train/lp_seg/data/detect/vids/images/train/cb08c6eaa015ac24.jpg: ignoring corrupt image/label: non-normalized or out of bounds coordinates [     376.32      361.77      648.96      559.62       88.32      234.35      129.28      267.01      135.68      236.91      177.92      256.76      360.96      145.35      378.24      167.76]\n",
      "\u001b[34m\u001b[1mtrain: \u001b[0mWARNING ⚠️ /home/vrs/train/lp_seg/data/detect/vids/images/train/cbfade4c1c7e2cdd.jpg: ignoring corrupt image/label: non-normalized or out of bounds coordinates [     844.16      535.68      926.72      711.68       17.28      397.44       46.72         416      158.72      394.88      183.68      410.24      255.36      469.76      308.48       489.6      405.12      474.24       451.2      510.72         480       505.6         528      526.72         496      533.76\n",
      "      583.68      571.52      498.56       489.6      551.68      508.16      609.92      484.48      663.04      570.24      634.88      586.24       777.6       649.6      644.48      492.16      686.72         528      813.44      394.88       825.6      419.84       854.4      437.12      882.56      484.48\n",
      "      856.96      389.12       876.8      407.68       985.6      385.28      1018.9      405.12]\n",
      "\u001b[34m\u001b[1mtrain: \u001b[0mWARNING ⚠️ /home/vrs/train/lp_seg/data/detect/vids/images/train/ccb5fbd3a3bc9fe9.jpg: ignoring corrupt image/label: non-normalized or out of bounds coordinates [     318.08      264.32      510.08      643.84]\n",
      "\u001b[34m\u001b[1mtrain: \u001b[0mWARNING ⚠️ /home/vrs/train/lp_seg/data/detect/vids/images/train/cd9f1bf46f4db00f.jpg: ignoring corrupt image/label: non-normalized or out of bounds coordinates [     583.04      484.48      698.24      572.16       505.6      103.04      552.96      101.76       457.6         208         512      133.76      478.72      203.52      526.72       182.4      478.72       281.6       563.2      387.84       380.8      461.44       441.6      400.64      379.52      477.44\n",
      "      446.08      431.36      433.92      474.88      513.28       467.2      394.24      567.68         464      469.76      404.48      538.24         464      897.92      520.96      956.16       611.2]\n",
      "\u001b[34m\u001b[1mtrain: \u001b[0mWARNING ⚠️ /home/vrs/train/lp_seg/data/detect/vids/images/train/ce1838fb93ae72be.jpg: ignoring corrupt image/label: non-normalized or out of bounds coordinates [     280.32       231.3      920.32      433.12      351.36      171.07      757.76      291.52      375.04      121.09      747.52      203.75      465.28       62.79      728.96      132.63      477.44      601.63      626.56      656.73      503.68      529.23      621.44      567.67]\n",
      "\u001b[34m\u001b[1mtrain: \u001b[0mWARNING ⚠️ /home/vrs/train/lp_seg/data/detect/vids/images/train/ce98a6cb11eb15ae.jpg: ignoring corrupt image/label: non-normalized or out of bounds coordinates [      526.4       516.8       674.4       671.2       603.2       474.4       722.4       648.8]\n",
      "\u001b[34m\u001b[1mtrain: \u001b[0mWARNING ⚠️ /home/vrs/train/lp_seg/data/detect/vids/images/train/cf39408e340e7309.jpg: ignoring corrupt image/label: non-normalized or out of bounds coordinates [     472.96      246.49      917.76      664.56       97.92      195.27      346.24      342.52      307.84      181.18      423.68      295.14]\n",
      "\u001b[34m\u001b[1mtrain: \u001b[0mWARNING ⚠️ /home/vrs/train/lp_seg/data/detect/vids/images/train/cfa52f9ef83d9f0f.jpg: ignoring corrupt image/label: non-normalized or out of bounds coordinates [      188.8      546.53      293.76      679.16      518.98       953.6      682.36]\n",
      "\u001b[34m\u001b[1mtrain: \u001b[0mWARNING ⚠️ /home/vrs/train/lp_seg/data/detect/vids/images/train/cff147a12d6e8adf.jpg: ignoring corrupt image/label: non-normalized or out of bounds coordinates [     413.44      130.56      734.08      760.32]\n",
      "\u001b[34m\u001b[1mtrain: \u001b[0mWARNING ⚠️ /home/vrs/train/lp_seg/data/detect/vids/images/train/d0c6e0e12682b778.jpg: ignoring corrupt image/label: non-normalized or out of bounds coordinates [     350.72       19.84      360.32      357.76       24.96      387.84       59.52       345.6       74.88       361.6        67.2         352       92.16      376.32      146.56      353.28      168.96      370.56      202.24      353.28      318.72      386.56       332.8       355.2      842.24       406.4\n",
      "      839.04       374.4      890.88       396.8]\n",
      "\u001b[34m\u001b[1mtrain: \u001b[0mWARNING ⚠️ /home/vrs/train/lp_seg/data/detect/vids/images/train/d1bf546de81d2e52.jpg: ignoring corrupt image/label: non-normalized or out of bounds coordinates [     670.08        28.8      722.56      413.44       40.96       515.2          32      634.88        51.2      687.36       49.28      828.16       90.88         896       49.28      920.96       90.88      1004.8       53.12      620.16       65.92       668.8       56.96       630.4       76.16       681.6\n",
      "       65.28      549.12       79.36      586.24       66.56      847.36        89.6      903.04        73.6      862.72       97.92       915.2       75.52      894.72      101.76       966.4       79.36      542.08       95.36      587.52       93.44      417.28      115.84      478.08      119.04      391.68\n",
      "      206.72       492.8      175.36      613.76      767.36      1023.4       236.8      817.92      268.16       886.4]\n",
      "\u001b[34m\u001b[1mtrain: \u001b[0mWARNING ⚠️ /home/vrs/train/lp_seg/data/detect/vids/images/train/d23f4da6153cc0de.jpg: ignoring corrupt image/label: non-normalized or out of bounds coordinates [     80.499      201.32      703.82      859.68]\n",
      "\u001b[34m\u001b[1mtrain: \u001b[0mWARNING ⚠️ /home/vrs/train/lp_seg/data/detect/vids/images/train/d37b31af545450ad.jpg: ignoring corrupt image/label: non-normalized or out of bounds coordinates [     667.52      286.08      977.92      453.76]\n",
      "\u001b[34m\u001b[1mtrain: \u001b[0mWARNING ⚠️ /home/vrs/train/lp_seg/data/detect/vids/images/train/d43d8e61e6ada9fb.jpg: ignoring corrupt image/label: non-normalized or out of bounds coordinates [     226.56      350.81      558.72      620.32       534.4      241.34      1023.4      639.53]\n",
      "\u001b[34m\u001b[1mtrain: \u001b[0mWARNING ⚠️ /home/vrs/train/lp_seg/data/detect/vids/images/train/d4cd39c66badafd3.jpg: ignoring corrupt image/label: non-normalized or out of bounds coordinates [     225.92      500.19      357.12      587.29       262.4      511.08      298.88      589.85       278.4      508.52      338.56      588.57      330.88      512.36       428.8      594.98       393.6      507.24       444.8      610.99      437.12      503.39      490.88      602.66      471.04      511.08\n",
      "      522.24       600.1      490.88      500.19      680.96      586.01      494.72      508.52      558.72      612.27      510.08      518.76      602.24      612.27      599.68      522.61      675.84      616.11       662.4      503.39      757.12      609.71      666.24       516.2      725.76      627.64\n",
      "      849.92      488.66      887.04      530.93]\n",
      "\u001b[34m\u001b[1mtrain: \u001b[0mWARNING ⚠️ /home/vrs/train/lp_seg/data/detect/vids/images/train/d53aa6b46c2bd84f.jpg: ignoring corrupt image/label: non-normalized or out of bounds coordinates [      650.4       227.2       893.6         604]\n",
      "\u001b[34m\u001b[1mtrain: \u001b[0mWARNING ⚠️ /home/vrs/train/lp_seg/data/detect/vids/images/train/d5c1bbb4648c1387.jpg: ignoring corrupt image/label: non-normalized or out of bounds coordinates [      71.68      217.04      600.06      682.84]\n",
      "\u001b[34m\u001b[1mtrain: \u001b[0mWARNING ⚠️ /home/vrs/train/lp_seg/data/detect/vids/images/train/d6841c708c70a43a.jpg: ignoring corrupt image/label: non-normalized or out of bounds coordinates [      87.68      161.29      488.96      553.63]\n",
      "\u001b[34m\u001b[1mtrain: \u001b[0mWARNING ⚠️ /home/vrs/train/lp_seg/data/detect/vids/images/train/d71026747b172ac5.jpg: ignoring corrupt image/label: non-normalized or out of bounds coordinates [     712.96      170.43      786.56      338.94      192.64      89.059      923.52      677.87]\n",
      "\u001b[34m\u001b[1mtrain: \u001b[0mWARNING ⚠️ /home/vrs/train/lp_seg/data/detect/vids/images/train/d762eda1c6c5c8bf.jpg: ignoring corrupt image/label: non-normalized or out of bounds coordinates [     885.76      292.38      1011.8      462.56      309.65       460.8      598.19]\n",
      "\u001b[34m\u001b[1mtrain: \u001b[0mWARNING ⚠️ /home/vrs/train/lp_seg/data/detect/vids/images/train/d9109d1de6281d3b.jpg: ignoring corrupt image/label: non-normalized or out of bounds coordinates [      460.8      148.39      644.48      526.39]\n",
      "\u001b[34m\u001b[1mtrain: \u001b[0mWARNING ⚠️ /home/vrs/train/lp_seg/data/detect/vids/images/train/da20174eba9eee43.jpg: ignoring corrupt image/label: non-normalized or out of bounds coordinates [        274         185         360         526]\n",
      "\u001b[34m\u001b[1mtrain: \u001b[0mWARNING ⚠️ /home/vrs/train/lp_seg/data/detect/vids/images/train/dadf711d61448100.jpg: ignoring corrupt image/label: non-normalized or out of bounds coordinates [     520.96      183.93       761.6       691.5      501.12      336.46         640       600.5      679.68      380.68      732.16      585.76       742.4      260.19      818.56      469.12      842.24      306.34       902.4      466.55]\n",
      "\u001b[34m\u001b[1mtrain: \u001b[0mWARNING ⚠️ /home/vrs/train/lp_seg/data/detect/vids/images/train/db00b50e6a1a92f4.jpg: ignoring corrupt image/label: non-normalized or out of bounds coordinates [     392.12      800.64      502.96      968.96]\n",
      "\u001b[34m\u001b[1mtrain: \u001b[0mWARNING ⚠️ /home/vrs/train/lp_seg/data/detect/vids/images/train/ddff91a0b628f71f.jpg: ignoring corrupt image/label: non-normalized or out of bounds coordinates [     293.12      353.03      391.68      605.47      411.52      337.66       515.2      606.76      520.32      344.06      613.76      605.47      609.28      346.63      711.68      606.76]\n",
      "\u001b[34m\u001b[1mtrain: \u001b[0mWARNING ⚠️ /home/vrs/train/lp_seg/data/detect/vids/images/train/de40062ded8af6a1.jpg: ignoring corrupt image/label: non-normalized or out of bounds coordinates [      85.76      98.525      677.12      623.14]\n",
      "\u001b[34m\u001b[1mtrain: \u001b[0mWARNING ⚠️ /home/vrs/train/lp_seg/data/detect/vids/images/train/dea0ce2a5acb9837.jpg: ignoring corrupt image/label: non-normalized or out of bounds coordinates [      854.4      62.149      929.28      69.197      861.44      88.418      913.92      104.44      840.32      529.87      929.28      494.63       838.4      540.12      930.56      591.38      843.52      619.57      910.08      629.82      836.48      665.06      933.12      661.22      840.32      682.36\n",
      "      919.04]\n",
      "\u001b[34m\u001b[1mtrain: \u001b[0mWARNING ⚠️ /home/vrs/train/lp_seg/data/detect/vids/images/train/dea800fd05a6cf88.jpg: ignoring corrupt image/label: non-normalized or out of bounds coordinates [      637.6      322.21       713.6      390.17      303.82        54.4      358.99          52      315.02        82.4         347       131.2      322.21         156      350.99       177.6      308.62         204      353.39       206.4      314.22       263.2      354.99       246.4      308.62       273.6\n",
      "         343         296      314.22         308         343         320      313.42         432      360.59       396.8      315.02       535.2      387.77       528.8       334.2       553.6      362.99       549.6       334.2       573.6      362.99         600      330.21       636.8      364.59         704\n",
      "         335         740      370.98       740.8      332.61       772.8      358.99       973.6         335      1022.4      390.97]\n",
      "\u001b[34m\u001b[1mtrain: \u001b[0mWARNING ⚠️ /home/vrs/train/lp_seg/data/detect/vids/images/train/e0fffcc4db3e897e.jpg: ignoring corrupt image/label: non-normalized or out of bounds coordinates [      87.68      250.88      526.72      608.64]\n",
      "\u001b[34m\u001b[1mtrain: \u001b[0mWARNING ⚠️ /home/vrs/train/lp_seg/data/detect/vids/images/train/e10f6c9dd3a7cda5.jpg: ignoring corrupt image/label: non-normalized or out of bounds coordinates [        143         271         332         573         572         147         623         190         592         290         797         537]\n",
      "\u001b[34m\u001b[1mtrain: \u001b[0mWARNING ⚠️ /home/vrs/train/lp_seg/data/detect/vids/images/train/e272603092d70034.jpg: ignoring corrupt image/label: non-normalized or out of bounds coordinates [        740      160.74       936.8      265.51          84      115.96       120.8      139.95]\n",
      "\u001b[34m\u001b[1mtrain: \u001b[0mWARNING ⚠️ /home/vrs/train/lp_seg/data/detect/vids/images/train/e46a781c51418bd7.jpg: ignoring corrupt image/label: non-normalized or out of bounds coordinates [     261.76      395.27      337.92      551.59]\n",
      "\u001b[34m\u001b[1mtrain: \u001b[0mWARNING ⚠️ /home/vrs/train/lp_seg/data/detect/vids/images/train/e5281753b91899d5.jpg: ignoring corrupt image/label: non-normalized or out of bounds coordinates [     124.16      179.25      189.44       234.3      125.44       240.7      961.28      724.67]\n",
      "\u001b[34m\u001b[1mtrain: \u001b[0mWARNING ⚠️ /home/vrs/train/lp_seg/data/detect/vids/images/train/e5d42db21e83c0d0.jpg: ignoring corrupt image/label: non-normalized or out of bounds coordinates [      44.16      443.52        86.4         544      205.44       467.2      267.52       649.6      263.68      468.48      336.64       643.2      321.28      461.44      334.72         496      352.64      466.56      362.24      483.84      404.48      463.36      450.56      639.36       470.4      463.36\n",
      "      528.64      638.08      559.36      468.48      616.32      654.08      949.12      234.24      977.92      302.08]\n",
      "\u001b[34m\u001b[1mtrain: \u001b[0mWARNING ⚠️ /home/vrs/train/lp_seg/data/detect/vids/images/train/e64c69f571009d48.jpg: ignoring corrupt image/label: non-normalized or out of bounds coordinates [       69.6      259.14       272.8      639.04       265.6      183.95       340.8      231.94       294.4      336.72       569.6      670.24       377.6      239.14       751.2       398.3       594.4      312.72         748      655.04       775.2      299.13       902.4      562.26       788.8      230.34\n",
      "       951.2      323.12]\n",
      "\u001b[34m\u001b[1mtrain: \u001b[0mWARNING ⚠️ /home/vrs/train/lp_seg/data/detect/vids/images/train/e6785983f816ccea.jpg: ignoring corrupt image/label: non-normalized or out of bounds coordinates [     206.72         368      510.08      538.88      305.28      474.88      445.44      522.24]\n",
      "\u001b[34m\u001b[1mtrain: \u001b[0mWARNING ⚠️ /home/vrs/train/lp_seg/data/detect/vids/images/train/e9384303e4b33033.jpg: ignoring corrupt image/label: non-normalized or out of bounds coordinates [     92.844       90.88      523.77      692.48      175.36      155.59      346.88      143.43       72.32      322.07      213.76]\n",
      "\u001b[34m\u001b[1mtrain: \u001b[0mWARNING ⚠️ /home/vrs/train/lp_seg/data/detect/vids/images/train/ea9876d222bedc34.jpg: ignoring corrupt image/label: non-normalized or out of bounds coordinates [      396.8      345.69      583.68      471.16       58.24      362.33       92.16      389.86       92.16      345.69      126.08      392.42       94.72      377.06      120.96      407.15      131.84      298.32      385.92      482.05      343.04      343.77      401.92      409.71      353.28      363.61\n",
      "      450.56      467.32      420.48      337.37      456.96      371.94      497.28      327.13      558.08      366.18      530.56      398.18      613.12      457.08      631.68      370.02      686.72      434.67      718.08      316.24      826.88      421.23      721.92      370.02      826.88      442.36\n",
      "      866.56       299.6       969.6      434.67]\n",
      "\u001b[34m\u001b[1mtrain: \u001b[0mWARNING ⚠️ /home/vrs/train/lp_seg/data/detect/vids/images/train/ec3bffb49de72965.jpg: ignoring corrupt image/label: non-normalized or out of bounds coordinates [      11.52      371.84      437.12      641.92]\n",
      "\u001b[34m\u001b[1mtrain: \u001b[0mWARNING ⚠️ /home/vrs/train/lp_seg/data/detect/vids/images/train/ed05c4f21ca34ee6.jpg: ignoring corrupt image/label: non-normalized or out of bounds coordinates [     487.04       410.7      596.48      592.66       211.2      374.18      347.52      577.92      237.44      412.62      355.84      605.47      267.52      521.54         336      664.42      273.92      267.82      316.16      378.02      303.36      449.14      362.24      601.63      318.72      295.37\n",
      "       358.4      382.51      334.72      283.84      366.08      321.64         336      554.22       387.2      682.36      339.84      287.68       409.6      419.03       342.4      415.18       438.4      589.46       364.8      266.54      389.76      288.96      372.48      353.03      435.84      433.76\n",
      "       377.6      253.72      414.72      283.84      389.76      307.54      448.64      347.91      401.28       269.1       438.4      288.96      419.84       341.5       502.4      412.62      437.12      446.58      482.56      589.46      443.52      372.25       723.2      553.58      449.92      277.43\n",
      "      493.44      333.81      458.88      258.85      506.24      299.21      463.36      307.54       502.4      332.53      498.56      299.21         560      356.24      499.84       341.5      568.32      404.29      511.36      263.97      574.72       303.7      572.16      332.53      624.64      388.91\n",
      "      608.64      480.53      677.12      618.93      609.92      378.02      757.12      583.05      619.52      266.54      750.72      397.88      644.48      441.45       684.8      570.23      692.48      399.16      792.32       627.9      724.48      279.99         752       324.2         736      270.38\n",
      "      775.68      386.35      767.36      317.79      805.76      387.63      785.92      399.16      893.44      641.99       803.2      282.55      847.36      381.22       851.2      515.13      914.56      660.58      927.36      372.89      1011.8      604.19      1004.8      388.91      1023.4      530.51]\n",
      "\u001b[34m\u001b[1mtrain: \u001b[0mWARNING ⚠️ /home/vrs/train/lp_seg/data/detect/vids/images/train/eea612d346744050.jpg: ignoring corrupt image/label: non-normalized or out of bounds coordinates [     106.28       276.3      241.26      600.73]\n",
      "\u001b[34m\u001b[1mtrain: \u001b[0mWARNING ⚠️ /home/vrs/train/lp_seg/data/detect/vids/images/train/ef2d497787e6a16b.jpg: ignoring corrupt image/label: non-normalized or out of bounds coordinates [      355.2      258.85      850.56      627.26]\n",
      "\u001b[34m\u001b[1mtrain: \u001b[0mWARNING ⚠️ /home/vrs/train/lp_seg/data/detect/vids/images/train/efa35e53670d5d63.jpg: ignoring corrupt image/label: non-normalized or out of bounds coordinates [      52.48      72.994       412.8         607      55.065        92.8      345.12       195.2      10.245      381.44      141.51      625.92      55.065      979.84      606.36]\n",
      "\u001b[34m\u001b[1mtrain: \u001b[0mWARNING ⚠️ /home/vrs/train/lp_seg/data/detect/vids/images/train/f137409b1732f591.jpg: ignoring corrupt image/label: non-normalized or out of bounds coordinates [     533.12      149.18       761.6      268.91      455.04      168.39       524.8      213.21      498.56      140.86         624      229.21]\n",
      "\u001b[34m\u001b[1mtrain: \u001b[0mWARNING ⚠️ /home/vrs/train/lp_seg/data/detect/vids/images/train/f13b6a356969f8bf.jpg: ignoring corrupt image/label: non-normalized or out of bounds coordinates [      793.6       578.7      928.71      718.05      110.93      575.86      180.62      652.64      275.91      580.12      368.36      656.91]\n",
      "\u001b[34m\u001b[1mtrain: \u001b[0mWARNING ⚠️ /home/vrs/train/lp_seg/data/detect/vids/images/train/f2eb05fb3fbbcba4.jpg: ignoring corrupt image/label: non-normalized or out of bounds coordinates [     464.64      346.88         480       380.8      468.48       390.4      493.44       441.6      508.16      316.16      525.44      350.72      531.84      349.44      575.36      417.92      533.12      316.16      547.84      354.56      542.72      404.48      574.08      478.72      546.56      322.56\n",
      "      574.08      343.68      554.24      325.12      575.36      357.12      574.08         320      592.64      333.44      574.08      330.88      607.36      363.52      574.08      359.68      615.04      446.08      580.48      322.56      609.92         336       588.8      332.16       643.2      448.64\n",
      "      620.16       329.6      652.16      346.88       633.6      362.24      685.44      458.88      653.44      337.28      691.84      432.64       678.4      346.88      737.92      452.48      691.84      343.68       739.2      448.64      712.96      362.24      763.52      468.48      744.96       358.4\n",
      "      784.64      444.16]\n",
      "\u001b[34m\u001b[1mtrain: \u001b[0mWARNING ⚠️ /home/vrs/train/lp_seg/data/detect/vids/images/train/f43c7dc47db00db7.jpg: ignoring corrupt image/label: non-normalized or out of bounds coordinates [     693.76      361.92      950.61      548.01]\n",
      "\u001b[34m\u001b[1mtrain: \u001b[0mWARNING ⚠️ /home/vrs/train/lp_seg/data/detect/vids/images/train/f4e3d349cd04c341.jpg: ignoring corrupt image/label: non-normalized or out of bounds coordinates [       10.4       354.4         176         452       105.6         364       237.6         456       245.6       402.4       381.6         464         328       346.4       469.6       457.6         468       342.4         676       453.6       498.4       398.4       637.6         456       581.6         340\n",
      "       821.6       445.6         592         340       773.6         448         704       337.6         864       446.4       837.6       354.4       894.4         448       878.4       354.4       957.6       445.6       906.4       346.4       994.4       437.6       909.6       345.6      1023.2         444]\n",
      "\u001b[34m\u001b[1mtrain: \u001b[0mWARNING ⚠️ /home/vrs/train/lp_seg/data/detect/vids/images/train/f6ed1d767cc2e263.jpg: ignoring corrupt image/label: non-normalized or out of bounds coordinates [     414.08      197.12       652.8      365.44]\n",
      "\u001b[34m\u001b[1mtrain: \u001b[0mWARNING ⚠️ /home/vrs/train/lp_seg/data/detect/vids/images/train/f7eeadb8eff9adf8.jpg: ignoring corrupt image/label: non-normalized or out of bounds coordinates [        396         276         581         515]\n",
      "\u001b[34m\u001b[1mtrain: \u001b[0mWARNING ⚠️ /home/vrs/train/lp_seg/data/detect/vids/images/train/f8fcbd83ed8749a9.jpg: ignoring corrupt image/label: non-normalized or out of bounds coordinates [     98.318      113.21      487.88      493.68      534.26      226.42      923.83      580.91]\n",
      "\u001b[34m\u001b[1mtrain: \u001b[0mWARNING ⚠️ /home/vrs/train/lp_seg/data/detect/vids/images/train/fa7ccc2881d70c0b.jpg: ignoring corrupt image/label: non-normalized or out of bounds coordinates [       38.4      152.39      510.08      642.22]\n",
      "\u001b[34m\u001b[1mtrain: \u001b[0mWARNING ⚠️ /home/vrs/train/lp_seg/data/detect/vids/images/train/fa9bf3c6ea04529a.jpg: ignoring corrupt image/label: non-normalized or out of bounds coordinates [     213.76      181.15       806.4      556.26      351.36      97.938      419.84      171.55      423.68      121.62       492.8      175.39      519.04      113.94      540.16      140.19]\n",
      "\u001b[34m\u001b[1mtrain: \u001b[0mWARNING ⚠️ /home/vrs/train/lp_seg/data/detect/vids/images/train/fb09732c086ec117.jpg: ignoring corrupt image/label: non-normalized or out of bounds coordinates [     270.08      390.36       473.6      785.85       147.2         407      271.36      632.26      244.48      395.48      296.96      550.35       262.4      391.64      341.76      581.06      439.04       381.4         512      596.42      500.48      383.96       627.2      675.78      564.48      357.09\n",
      "      899.84      542.67      890.88      353.25      1022.7      622.02]\n",
      "\u001b[34m\u001b[1mtrain: \u001b[0mWARNING ⚠️ /home/vrs/train/lp_seg/data/detect/vids/images/train/fb783e40456aaef4.jpg: ignoring corrupt image/label: non-normalized or out of bounds coordinates [        568       348.8       797.6       497.6       199.2       367.2       392.8       502.4]\n",
      "\u001b[34m\u001b[1mtrain: \u001b[0mWARNING ⚠️ /home/vrs/train/lp_seg/data/detect/vids/images/train/fbb0d732ad47cef3.jpg: ignoring corrupt image/label: non-normalized or out of bounds coordinates [     469.12      269.71      884.48       660.5]\n",
      "\u001b[34m\u001b[1mtrain: \u001b[0mWARNING ⚠️ /home/vrs/train/lp_seg/data/detect/vids/images/train/fbdaa5c07b8aa148.jpg: ignoring corrupt image/label: non-normalized or out of bounds coordinates [     175.93      475.54      462.89      658.24      434.71      465.29      567.09      643.73      667.86      465.29      807.93      659.95      782.31      451.63       897.6      578.84      866.86      463.59      947.99      595.06]\n",
      "\u001b[34m\u001b[1mtrain: \u001b[0mWARNING ⚠️ /home/vrs/train/lp_seg/data/detect/vids/images/train/fc11d7838d344b70.jpg: ignoring corrupt image/label: non-normalized or out of bounds coordinates [     244.48      172.16      549.76      568.96]\n",
      "\u001b[34m\u001b[1mtrain: \u001b[0mWARNING ⚠️ /home/vrs/train/lp_seg/data/detect/vids/images/train/fc995598e0211103.jpg: ignoring corrupt image/label: non-normalized or out of bounds coordinates [     545.28      384.22       617.6      495.64]\n",
      "\u001b[34m\u001b[1mtrain: \u001b[0mWARNING ⚠️ /home/vrs/train/lp_seg/data/detect/vids/images/train/fe90ab566f5caa2d.jpg: ignoring corrupt image/label: non-normalized or out of bounds coordinates [     110.72       417.4      154.88      537.76      149.76      405.24       182.4      531.36      184.32      418.68      254.72      539.68       236.8      414.84      305.92      530.07      290.56      451.33      333.44      548.64      315.52      435.97      366.08       557.6      341.76      422.52\n",
      "       380.8      439.81         352      450.05      421.76      571.05       380.8       423.8      450.56      565.93       419.2      391.79      519.04      585.13]\n",
      "\u001b[34m\u001b[1mtrain: \u001b[0mWARNING ⚠️ /home/vrs/train/lp_seg/data/detect/vids/images/train/test4_46.jpg: 5 duplicate labels removed\n",
      "\u001b[34m\u001b[1mtrain: \u001b[0mNew cache created: /home/vrs/train/lp_seg/data/detect/vids/labels/train.cache\n"
     ]
    },
    {
     "name": "stderr",
     "output_type": "stream",
     "text": [
      "\n",
      "\u001b[34m\u001b[1mval: \u001b[0mScanning /home/vrs/train/lp_seg/data/detect/vids/labels/val... 214 images, 0 backgrounds, 53 corrupt: 100%|██████████| 214/214 [00:00<00:00, 416.58it/s]"
     ]
    },
    {
     "name": "stdout",
     "output_type": "stream",
     "text": [
      "\u001b[34m\u001b[1mval: \u001b[0mWARNING ⚠️ /home/vrs/train/lp_seg/data/detect/vids/images/val/0085ab4b08abd96a.jpg: ignoring corrupt image/label: non-normalized or out of bounds coordinates [     214.39      743.04      486.37      948.48      341.74       707.2      401.26      747.52      359.66      721.28      436.45      757.76      464.61      749.44      646.36      920.96      481.89      724.48      508.13      759.68      522.21      733.44      586.84       764.8      591.96       742.4\n",
      "      646.36      864.64]\n",
      "\u001b[34m\u001b[1mval: \u001b[0mWARNING ⚠️ /home/vrs/train/lp_seg/data/detect/vids/images/val/019589feb5770a75.jpg: ignoring corrupt image/label: non-normalized or out of bounds coordinates [      276.8      278.32         432      433.47       486.4      275.12       625.6      425.47]\n",
      "\u001b[34m\u001b[1mval: \u001b[0mWARNING ⚠️ /home/vrs/train/lp_seg/data/detect/vids/images/val/03a241046025b7f9.jpg: ignoring corrupt image/label: non-normalized or out of bounds coordinates [      62.72      218.88      683.52       601.6      654.08       236.8      878.08      455.68]\n",
      "\u001b[34m\u001b[1mval: \u001b[0mWARNING ⚠️ /home/vrs/train/lp_seg/data/detect/vids/images/val/0561944865908d5e.jpg: ignoring corrupt image/label: non-normalized or out of bounds coordinates [        344       257.6       404.8         288       470.4       260.8       483.2         288         608       275.2       638.4       332.8         648       252.8         664         328       667.2       265.6       691.2       339.2         696       267.2       718.4       299.2       745.6       276.8\n",
      "       771.2       321.6]\n",
      "\u001b[34m\u001b[1mval: \u001b[0mWARNING ⚠️ /home/vrs/train/lp_seg/data/detect/vids/images/val/12e6389adff70768.jpg: ignoring corrupt image/label: non-normalized or out of bounds coordinates [      233.6      277.76       403.2      668.16       678.4      264.32      862.08      645.12]\n",
      "\u001b[34m\u001b[1mval: \u001b[0mWARNING ⚠️ /home/vrs/train/lp_seg/data/detect/vids/images/val/155.png: corrupt JPEG restored and saved\n",
      "\u001b[34m\u001b[1mval: \u001b[0mWARNING ⚠️ /home/vrs/train/lp_seg/data/detect/vids/images/val/165.png: corrupt JPEG restored and saved\n",
      "\u001b[34m\u001b[1mval: \u001b[0mWARNING ⚠️ /home/vrs/train/lp_seg/data/detect/vids/images/val/1686cb2579bede40.jpg: ignoring corrupt image/label: non-normalized or out of bounds coordinates [      47.36      568.96      175.36      1011.8      373.76      634.24      391.68      711.68      403.84      636.16      449.28      671.36      456.32       643.2       470.4      667.52      477.44      641.28      485.76      660.48      494.72      634.24      517.12      666.24      526.08      631.04\n",
      "      573.44      727.04      592.64         640      606.72      685.44      618.88      632.96      631.04      676.48      636.16       627.2      666.24      695.68      676.48       627.2      702.72      686.72      704.64      631.04         720       678.4]\n",
      "\u001b[34m\u001b[1mval: \u001b[0mWARNING ⚠️ /home/vrs/train/lp_seg/data/detect/vids/images/val/16adcc6c8a9b6c86.jpg: ignoring corrupt image/label: non-normalized or out of bounds coordinates [     163.87      661.12      447.44      947.84]\n",
      "\u001b[34m\u001b[1mval: \u001b[0mWARNING ⚠️ /home/vrs/train/lp_seg/data/detect/vids/images/val/186207e49b839196.jpg: ignoring corrupt image/label: non-normalized or out of bounds coordinates [        166         362         176         399         182         361         198         405         402         369         422         436         582         347         601         382         620         345         662         389         786         358         834         381         825         354\n",
      "         852         383         863         345         903         397]\n",
      "\u001b[34m\u001b[1mval: \u001b[0mWARNING ⚠️ /home/vrs/train/lp_seg/data/detect/vids/images/val/186f31890a83d7ae.jpg: ignoring corrupt image/label: non-normalized or out of bounds coordinates [     296.96      243.11      323.84      332.68       345.6      259.75      367.36      327.56      372.48      264.87      392.96      319.89      386.56      243.11      412.16      330.12]\n",
      "\u001b[34m\u001b[1mval: \u001b[0mWARNING ⚠️ /home/vrs/train/lp_seg/data/detect/vids/images/val/1d7be94d486ead2e.jpg: ignoring corrupt image/label: non-normalized or out of bounds coordinates [     109.44      358.46      229.76      545.37      207.36      371.26      293.76      480.72]\n",
      "\u001b[34m\u001b[1mval: \u001b[0mWARNING ⚠️ /home/vrs/train/lp_seg/data/detect/vids/images/val/1fc0f134284f8458.jpg: ignoring corrupt image/label: non-normalized or out of bounds coordinates [     512.64      411.98      807.68      619.57      271.36      429.28      592.64       624.7]\n",
      "\u001b[34m\u001b[1mval: \u001b[0mWARNING ⚠️ /home/vrs/train/lp_seg/data/detect/vids/images/val/269b8333f6ac4f65.jpg: ignoring corrupt image/label: non-normalized or out of bounds coordinates [     350.08      265.26         560      474.13]\n",
      "\u001b[34m\u001b[1mval: \u001b[0mWARNING ⚠️ /home/vrs/train/lp_seg/data/detect/vids/images/val/2a85bc8a9e9f0c73.jpg: ignoring corrupt image/label: non-normalized or out of bounds coordinates [     510.72       280.5      965.12      614.79]\n",
      "\u001b[34m\u001b[1mval: \u001b[0mWARNING ⚠️ /home/vrs/train/lp_seg/data/detect/vids/images/val/3aa1255fb7ee7eae.jpg: ignoring corrupt image/label: non-normalized or out of bounds coordinates [     181.76       236.2       556.8      497.36       566.4      229.16      609.28      257.32]\n",
      "\u001b[34m\u001b[1mval: \u001b[0mWARNING ⚠️ /home/vrs/train/lp_seg/data/detect/vids/images/val/3c79e6788cef4488.jpg: ignoring corrupt image/label: non-normalized or out of bounds coordinates [      10.88      317.44       23.68      354.56       23.68      317.44        38.4      355.84       37.12      340.48       96.64      381.44       50.56       326.4       64.64       342.4       97.92       355.2      113.28      378.88         144      348.16         176      391.68      160.64      312.32\n",
      "      236.16       483.2      268.16      347.52      277.76       355.2      276.48      336.64      284.16      350.08      284.16      347.52      291.84      357.76      290.56      346.24      302.72      359.04      311.68      352.64      318.72      359.04       326.4      352.64      331.52      360.32\n",
      "      360.96      343.04      369.92      371.84      391.04       345.6      398.08      365.44      408.32      350.08      418.56      368.64      450.56      353.28      455.04      376.32       486.4       377.6      501.12      418.56      504.96       361.6      513.28         384       531.2      365.44\n",
      "      548.48      401.28      554.24      375.04      559.36      385.92      564.48      373.12      576.64      403.84      580.48      368.64      584.32      380.16      605.44      372.48      622.72      382.72      627.84      376.32         640      396.16      641.28      383.36      645.12      391.04\n",
      "       649.6      389.12      668.16      439.68      739.84      401.28      755.84       412.8      1010.6      408.32      1023.4      419.84]\n",
      "\u001b[34m\u001b[1mval: \u001b[0mWARNING ⚠️ /home/vrs/train/lp_seg/data/detect/vids/images/val/531ecf816260cd7c.jpg: ignoring corrupt image/label: non-normalized or out of bounds coordinates [      694.4       74.88      962.56      408.96      133.76       102.4      554.88       24.96        89.6      187.52      418.56       85.12      3.8402      616.32      557.44      603.52      208.64      733.44      397.44]\n",
      "\u001b[34m\u001b[1mval: \u001b[0mWARNING ⚠️ /home/vrs/train/lp_seg/data/detect/vids/images/val/54922b86a648bcdd.jpg: ignoring corrupt image/label: non-normalized or out of bounds coordinates [     567.04      216.34      736.64      559.42]\n",
      "\u001b[34m\u001b[1mval: \u001b[0mWARNING ⚠️ /home/vrs/train/lp_seg/data/detect/vids/images/val/565f057d99c4ce61.jpg: ignoring corrupt image/label: non-normalized or out of bounds coordinates [     349.44      456.96      567.04      611.84]\n",
      "\u001b[34m\u001b[1mval: \u001b[0mWARNING ⚠️ /home/vrs/train/lp_seg/data/detect/vids/images/val/5c699046a5cf58e7.jpg: ignoring corrupt image/label: non-normalized or out of bounds coordinates [       1.28      155.05       172.8      301.14       355.2      84.574       969.6      560.62]\n",
      "\u001b[34m\u001b[1mval: \u001b[0mWARNING ⚠️ /home/vrs/train/lp_seg/data/detect/vids/images/val/6178c03cf9f222ee.jpg: ignoring corrupt image/label: non-normalized or out of bounds coordinates [     703.36      457.43      853.12      570.03      428.16      515.01      513.92      591.78      482.56      511.17      561.92      590.51]\n",
      "\u001b[34m\u001b[1mval: \u001b[0mWARNING ⚠️ /home/vrs/train/lp_seg/data/detect/vids/images/val/6569cf3fa1491940.jpg: ignoring corrupt image/label: non-normalized or out of bounds coordinates [      514.1      602.88      634.46      839.04]\n",
      "\u001b[34m\u001b[1mval: \u001b[0mWARNING ⚠️ /home/vrs/train/lp_seg/data/detect/vids/images/val/6c4a2342cda86c9c.jpg: ignoring corrupt image/label: non-normalized or out of bounds coordinates [     240.66       768.8      388.57      1023.2]\n",
      "\u001b[34m\u001b[1mval: \u001b[0mWARNING ⚠️ /home/vrs/train/lp_seg/data/detect/vids/images/val/6d0491f5399122c6.jpg: ignoring corrupt image/label: non-normalized or out of bounds coordinates [     133.12      151.21      573.44      682.36]\n",
      "\u001b[34m\u001b[1mval: \u001b[0mWARNING ⚠️ /home/vrs/train/lp_seg/data/detect/vids/images/val/6fcdc12ee73ed398.jpg: ignoring corrupt image/label: non-normalized or out of bounds coordinates [      24.96      148.49      103.68      400.66       249.6      142.09      375.68      582.43      325.12      168.33       377.6      264.34      398.72      182.41      465.92      399.38      542.08      181.13       598.4      399.38      594.56      183.69      658.56      403.22      733.44      161.93\n",
      "      833.28      476.83      767.36      164.49      981.12      478.11      804.48      194.57      914.56      478.11]\n",
      "\u001b[34m\u001b[1mval: \u001b[0mWARNING ⚠️ /home/vrs/train/lp_seg/data/detect/vids/images/val/71dee6fa2354ec01.jpg: ignoring corrupt image/label: non-normalized or out of bounds coordinates [      179.2      197.98       252.8      387.63      364.16      189.01      431.36      356.88      627.84      225.53      684.16      363.92]\n",
      "\u001b[34m\u001b[1mval: \u001b[0mWARNING ⚠️ /home/vrs/train/lp_seg/data/detect/vids/images/val/7a2cb96c4c7decec.jpg: ignoring corrupt image/label: non-normalized or out of bounds coordinates [     202.88      247.52      280.96      354.97       72.96      324.27      140.16      415.73]\n",
      "\u001b[34m\u001b[1mval: \u001b[0mWARNING ⚠️ /home/vrs/train/lp_seg/data/detect/vids/images/val/7bd2cf549563b543.jpg: ignoring corrupt image/label: non-normalized or out of bounds coordinates [     557.44      526.53      637.44       691.8          96      452.23      535.68      694.36      533.12      420.84      732.16      694.36      706.56      447.11      718.72      494.51      722.56       434.3      737.92      474.65      731.52      463.12      743.04      509.24      740.48      414.44\n",
      "      756.48      452.87      754.56      499.63      977.92      694.36      757.76       440.7      775.04      469.53         768      410.59      840.32      474.65       838.4      414.44      851.84      450.95      863.36      408.03      880.64      436.86       883.2      460.56      904.32      486.82\n",
      "      973.44      475.93      995.84      488.74      983.04      498.35      1023.4      694.36]\n",
      "\u001b[34m\u001b[1mval: \u001b[0mWARNING ⚠️ /home/vrs/train/lp_seg/data/detect/vids/images/val/8f99ff53f5673171.jpg: ignoring corrupt image/label: non-normalized or out of bounds coordinates [     328.96      389.12      408.32       492.8      151.04      373.12      188.16      410.24      170.88      373.12      239.36      455.68      181.12      369.28       230.4      392.96      186.88      391.68      267.52      465.92         192      370.56      256.64      402.56      314.88      328.32\n",
      "      350.72       345.6      325.76      391.68         368      419.84      325.76       339.2       374.4      356.48      330.88      299.52      362.24       316.8       358.4      386.56      394.24      452.48       390.4      376.32      430.08      414.72      405.12      366.72       444.8      394.88\n",
      "      426.24      353.28      455.04       377.6      447.36       345.6      485.76      365.44      448.64      348.16      478.72      381.44      481.28      359.04      526.72      378.88         528       339.2      574.08      360.32      533.12      396.16       588.8       451.2      551.68       323.2\n",
      "      575.36      340.48      552.96      417.28      607.36      459.52      555.52      386.56      609.92      423.68      599.04       345.6      625.92         368      602.24      387.84       665.6      431.36      638.72         384       665.6      405.12       649.6      402.56       710.4      430.08\n",
      "       678.4      378.88      737.92      414.72      698.24       355.2      737.92      381.44      707.84      340.48      753.92       361.6]\n",
      "\u001b[34m\u001b[1mval: \u001b[0mWARNING ⚠️ /home/vrs/train/lp_seg/data/detect/vids/images/val/92e72b57e955e158.jpg: ignoring corrupt image/label: non-normalized or out of bounds coordinates [     300.16       433.5      368.64      494.97]\n",
      "\u001b[34m\u001b[1mval: \u001b[0mWARNING ⚠️ /home/vrs/train/lp_seg/data/detect/vids/images/val/98a6d506d5a7ff03.jpg: ignoring corrupt image/label: non-normalized or out of bounds coordinates [       99.2         148      741.12      643.28]\n",
      "\u001b[34m\u001b[1mval: \u001b[0mWARNING ⚠️ /home/vrs/train/lp_seg/data/detect/vids/images/val/9b0abe6d7edd3d1f.jpg: ignoring corrupt image/label: non-normalized or out of bounds coordinates [     645.76      22.425         848      640.71       156.8      55.101       339.2      646.48      268.16      272.94      373.12      575.36      359.04      197.34      530.56      584.33      460.16      233.86      520.32      560.62]\n",
      "\u001b[34m\u001b[1mval: \u001b[0mWARNING ⚠️ /home/vrs/train/lp_seg/data/detect/vids/images/val/a0a79c92659308f2.jpg: ignoring corrupt image/label: non-normalized or out of bounds coordinates [      412.8       526.4       609.6       713.6]\n",
      "\u001b[34m\u001b[1mval: \u001b[0mWARNING ⚠️ /home/vrs/train/lp_seg/data/detect/vids/images/val/a1dd6f5af05d68f3.jpg: ignoring corrupt image/label: non-normalized or out of bounds coordinates [     369.28      200.87      561.28      470.82]\n",
      "\u001b[34m\u001b[1mval: \u001b[0mWARNING ⚠️ /home/vrs/train/lp_seg/data/detect/vids/images/val/a22a06ac60fabd1e.jpg: ignoring corrupt image/label: non-normalized or out of bounds coordinates [     739.84      407.04       844.8      494.72]\n",
      "\u001b[34m\u001b[1mval: \u001b[0mWARNING ⚠️ /home/vrs/train/lp_seg/data/detect/vids/images/val/aa13395a93900592.jpg: ignoring corrupt image/label: non-normalized or out of bounds coordinates [      388.7         310      823.19      865.42      531.96      178.48      632.95      317.05]\n",
      "\u001b[34m\u001b[1mval: \u001b[0mWARNING ⚠️ /home/vrs/train/lp_seg/data/detect/vids/images/val/abc84eac1b784b1a.jpg: ignoring corrupt image/label: non-normalized or out of bounds coordinates [     644.48      140.28      999.04      816.04]\n",
      "\u001b[34m\u001b[1mval: \u001b[0mWARNING ⚠️ /home/vrs/train/lp_seg/data/detect/vids/images/val/acd72912beed0c53.jpg: ignoring corrupt image/label: non-normalized or out of bounds coordinates [     516.48      231.68      862.08      661.76]\n",
      "\u001b[34m\u001b[1mval: \u001b[0mWARNING ⚠️ /home/vrs/train/lp_seg/data/detect/vids/images/val/b412c203226127f8.jpg: ignoring corrupt image/label: non-normalized or out of bounds coordinates [     491.52      48.034      904.96      609.07       95.36      80.697      392.32      626.36]\n",
      "\u001b[34m\u001b[1mval: \u001b[0mWARNING ⚠️ /home/vrs/train/lp_seg/data/detect/vids/images/val/c321877fd0cc4c1c.jpg: ignoring corrupt image/label: non-normalized or out of bounds coordinates [      45.44       283.8       62.72       297.9       97.92      275.48      110.08      285.08      120.96      345.31      235.52      510.59         144      278.04       153.6      287.65      176.64      249.21       188.8      257.54      197.76      290.21       211.2      296.62      199.04      251.77\n",
      "      209.92      257.54       217.6      265.22      225.28      271.63      282.88      350.43         384      411.93      411.52      271.63      432.64      279.32      430.08      352.99      529.92      445.24      542.72      279.32      554.88      291.49      797.44      287.65      819.84      299.18\n",
      "      833.92      312.63      853.76      329.29      853.76      261.38      865.92      275.48]\n",
      "\u001b[34m\u001b[1mval: \u001b[0mWARNING ⚠️ /home/vrs/train/lp_seg/data/detect/vids/images/val/c4b3d5a6033ca438.jpg: ignoring corrupt image/label: non-normalized or out of bounds coordinates [     622.72      47.418      846.08      404.97]\n",
      "\u001b[34m\u001b[1mval: \u001b[0mWARNING ⚠️ /home/vrs/train/lp_seg/data/detect/vids/images/val/c75e9a218e328d74.jpg: ignoring corrupt image/label: non-normalized or out of bounds coordinates [     577.25       306.2      935.32       306.2      548.81       998.9      952.05]\n",
      "\u001b[34m\u001b[1mval: \u001b[0mWARNING ⚠️ /home/vrs/train/lp_seg/data/detect/vids/images/val/cf1076053b2f258e.jpg: ignoring corrupt image/label: non-normalized or out of bounds coordinates [     326.27      373.12      1022.3      786.41]\n",
      "\u001b[34m\u001b[1mval: \u001b[0mWARNING ⚠️ /home/vrs/train/lp_seg/data/detect/vids/images/val/d15857a8b2b5dd00.jpg: ignoring corrupt image/label: non-normalized or out of bounds coordinates [      508.8      360.32      698.88      706.56      712.32      344.96      956.16       723.2]\n",
      "\u001b[34m\u001b[1mval: \u001b[0mWARNING ⚠️ /home/vrs/train/lp_seg/data/detect/vids/images/val/d1a95e7dd8e1b292.jpg: ignoring corrupt image/label: non-normalized or out of bounds coordinates [     581.12       35.88       809.6      494.63      162.56      96.748      538.88      490.79      498.56      304.34       582.4      378.02      734.72      293.45      792.32      372.25]\n",
      "\u001b[34m\u001b[1mval: \u001b[0mWARNING ⚠️ /home/vrs/train/lp_seg/data/detect/vids/images/val/db8e4fc475b72c01.jpg: ignoring corrupt image/label: non-normalized or out of bounds coordinates [      782.4         408       934.4       534.4]\n",
      "\u001b[34m\u001b[1mval: \u001b[0mWARNING ⚠️ /home/vrs/train/lp_seg/data/detect/vids/images/val/e13f338de3f3e96c.jpg: ignoring corrupt image/label: non-normalized or out of bounds coordinates [      94.08      417.72       131.2      457.44      715.52       422.2      912.64       579.8]\n",
      "\u001b[34m\u001b[1mval: \u001b[0mWARNING ⚠️ /home/vrs/train/lp_seg/data/detect/vids/images/val/e154ce9f0283a1aa.jpg: ignoring corrupt image/label: non-normalized or out of bounds coordinates [     365.44      46.748       700.8      676.24      54.432      423.68      566.09      177.38      440.32      630.77       10.24      38.423      251.52      81.968      607.36      142.16      796.16      576.98      737.28      188.27      1023.4      633.33]\n",
      "\u001b[34m\u001b[1mval: \u001b[0mWARNING ⚠️ /home/vrs/train/lp_seg/data/detect/vids/images/val/e3b86ccec774a7c1.jpg: ignoring corrupt image/label: non-normalized or out of bounds coordinates [      602.4      471.72       942.4      658.81       232.8      462.13         596       681.2       390.4      497.31       640.8      655.62]\n",
      "\u001b[34m\u001b[1mval: \u001b[0mWARNING ⚠️ /home/vrs/train/lp_seg/data/detect/vids/images/val/e7fa7c9a7e9ce686.jpg: ignoring corrupt image/label: non-normalized or out of bounds coordinates [     221.44      498.47      380.16      588.17]\n",
      "\u001b[34m\u001b[1mval: \u001b[0mWARNING ⚠️ /home/vrs/train/lp_seg/data/detect/vids/images/val/eab97e62566e67c5.jpg: ignoring corrupt image/label: non-normalized or out of bounds coordinates [     161.92      600.96      372.48      775.68      216.96      448.64      254.08      481.28       316.8      714.24      600.32      922.24]\n",
      "\u001b[34m\u001b[1mval: \u001b[0mWARNING ⚠️ /home/vrs/train/lp_seg/data/detect/vids/images/val/ecfebe6dd7a341bd.jpg: ignoring corrupt image/label: non-normalized or out of bounds coordinates [     879.36      210.56      1023.4      510.72      266.88       249.6      404.48      520.96      383.36      256.64      430.72      382.08      408.32      256.64      513.92      442.88      478.72      240.64      532.48      400.64      532.48      248.32      641.28      472.32]\n",
      "\u001b[34m\u001b[1mval: \u001b[0mWARNING ⚠️ /home/vrs/train/lp_seg/data/detect/vids/images/val/f55e436223ece6a3.jpg: ignoring corrupt image/label: non-normalized or out of bounds coordinates [     716.16      324.48      799.36      402.56      191.36      388.48       265.6       457.6      291.84      399.36       387.2      437.76]\n",
      "\u001b[34m\u001b[1mval: \u001b[0mWARNING ⚠️ /home/vrs/train/lp_seg/data/detect/vids/images/val/f6a0d254c8ae9ce9.jpg: ignoring corrupt image/label: non-normalized or out of bounds coordinates [     11.264      215.04      594.94      705.54      441.34      227.33       661.5      636.93      730.11      37.888        1023      766.98]\n",
      "\u001b[34m\u001b[1mval: \u001b[0mNew cache created: /home/vrs/train/lp_seg/data/detect/vids/labels/val.cache\n"
     ]
    },
    {
     "name": "stderr",
     "output_type": "stream",
     "text": [
      "\n",
      "Corrupt JPEG data: 4907 extraneous bytes before marker 0xc4\n",
      "Corrupt JPEG data: 4907 extraneous bytes before marker 0xc4\n",
      "Corrupt JPEG data: 4907 extraneous bytes before marker 0xc4\n",
      "Corrupt JPEG data: 4907 extraneous bytes before marker 0xc4\n"
     ]
    },
    {
     "name": "stdout",
     "output_type": "stream",
     "text": [
      "Plotting labels to runs/detect/train18/labels.jpg... \n",
      "\u001b[34m\u001b[1moptimizer:\u001b[0m 'optimizer=auto' found, ignoring 'lr0=0.01' and 'momentum=0.937' and determining best 'optimizer', 'lr0' and 'momentum' automatically... \n",
      "\u001b[34m\u001b[1moptimizer:\u001b[0m AdamW(lr=0.000909, momentum=0.9) with parameter groups 57 weight(decay=0.0), 64 weight(decay=0.00046875), 63 bias(decay=0.0)\n",
      "Image sizes 640 train, 640 val\n",
      "Using 8 dataloader workers\n",
      "Logging results to \u001b[1mruns/detect/train18\u001b[0m\n",
      "Starting training for 100 epochs...\n",
      "\n",
      "      Epoch    GPU_mem   box_loss   cls_loss   dfl_loss  Instances       Size\n"
     ]
    },
    {
     "name": "stderr",
     "output_type": "stream",
     "text": [
      "      1/100      1.96G      1.703      2.767      1.439         41        640: 100%|██████████| 102/102 [00:16<00:00,  6.02it/s]\n",
      "                 Class     Images  Instances      Box(P          R      mAP50  mAP50-95):   0%|          | 0/6 [00:00<?, ?it/s]Corrupt JPEG data: 4907 extraneous bytes before marker 0xc4\n",
      "                 Class     Images  Instances      Box(P          R      mAP50  mAP50-95): 100%|██████████| 6/6 [00:01<00:00,  5.74it/s]"
     ]
    },
    {
     "name": "stdout",
     "output_type": "stream",
     "text": [
      "                   all        161        508      0.596      0.371      0.427      0.221\n"
     ]
    },
    {
     "name": "stderr",
     "output_type": "stream",
     "text": [
      "\n"
     ]
    },
    {
     "name": "stdout",
     "output_type": "stream",
     "text": [
      "\n",
      "      Epoch    GPU_mem   box_loss   cls_loss   dfl_loss  Instances       Size\n"
     ]
    },
    {
     "name": "stderr",
     "output_type": "stream",
     "text": [
      "      2/100      1.97G      1.632      1.834      1.385         54        640: 100%|██████████| 102/102 [00:15<00:00,  6.47it/s]\n",
      "                 Class     Images  Instances      Box(P          R      mAP50  mAP50-95):  17%|█▋        | 1/6 [00:00<00:00,  8.66it/s]Corrupt JPEG data: 4907 extraneous bytes before marker 0xc4\n",
      "                 Class     Images  Instances      Box(P          R      mAP50  mAP50-95): 100%|██████████| 6/6 [00:00<00:00,  7.97it/s]"
     ]
    },
    {
     "name": "stdout",
     "output_type": "stream",
     "text": [
      "                   all        161        508      0.637       0.48      0.491      0.258\n"
     ]
    },
    {
     "name": "stderr",
     "output_type": "stream",
     "text": [
      "\n"
     ]
    },
    {
     "name": "stdout",
     "output_type": "stream",
     "text": [
      "\n",
      "      Epoch    GPU_mem   box_loss   cls_loss   dfl_loss  Instances       Size\n"
     ]
    },
    {
     "name": "stderr",
     "output_type": "stream",
     "text": [
      "      3/100      2.02G      1.635      1.777      1.412         20        640: 100%|██████████| 102/102 [00:15<00:00,  6.57it/s]\n",
      "                 Class     Images  Instances      Box(P          R      mAP50  mAP50-95):  17%|█▋        | 1/6 [00:00<00:00,  7.56it/s]Corrupt JPEG data: 4907 extraneous bytes before marker 0xc4\n",
      "                 Class     Images  Instances      Box(P          R      mAP50  mAP50-95): 100%|██████████| 6/6 [00:00<00:00,  8.05it/s]"
     ]
    },
    {
     "name": "stdout",
     "output_type": "stream",
     "text": [
      "                   all        161        508      0.572      0.503      0.444      0.213\n"
     ]
    },
    {
     "name": "stderr",
     "output_type": "stream",
     "text": [
      "\n"
     ]
    },
    {
     "name": "stdout",
     "output_type": "stream",
     "text": [
      "\n",
      "      Epoch    GPU_mem   box_loss   cls_loss   dfl_loss  Instances       Size\n"
     ]
    },
    {
     "name": "stderr",
     "output_type": "stream",
     "text": [
      "      4/100       2.1G      1.606      1.613      1.395         61        640: 100%|██████████| 102/102 [00:15<00:00,  6.58it/s]\n",
      "                 Class     Images  Instances      Box(P          R      mAP50  mAP50-95):   0%|          | 0/6 [00:00<?, ?it/s]Corrupt JPEG data: 4907 extraneous bytes before marker 0xc4\n",
      "                 Class     Images  Instances      Box(P          R      mAP50  mAP50-95): 100%|██████████| 6/6 [00:00<00:00,  7.63it/s]"
     ]
    },
    {
     "name": "stdout",
     "output_type": "stream",
     "text": [
      "                   all        161        508      0.734      0.514      0.552      0.305\n"
     ]
    },
    {
     "name": "stderr",
     "output_type": "stream",
     "text": [
      "\n"
     ]
    },
    {
     "name": "stdout",
     "output_type": "stream",
     "text": [
      "\n",
      "      Epoch    GPU_mem   box_loss   cls_loss   dfl_loss  Instances       Size\n"
     ]
    },
    {
     "name": "stderr",
     "output_type": "stream",
     "text": [
      "      5/100       2.1G      1.607      1.527      1.407         27        640: 100%|██████████| 102/102 [00:15<00:00,  6.56it/s]\n",
      "                 Class     Images  Instances      Box(P          R      mAP50  mAP50-95):  17%|█▋        | 1/6 [00:00<00:00,  9.74it/s]Corrupt JPEG data: 4907 extraneous bytes before marker 0xc4\n",
      "                 Class     Images  Instances      Box(P          R      mAP50  mAP50-95): 100%|██████████| 6/6 [00:00<00:00,  9.34it/s]"
     ]
    },
    {
     "name": "stdout",
     "output_type": "stream",
     "text": [
      "                   all        161        508      0.528      0.496      0.546      0.277\n"
     ]
    },
    {
     "name": "stderr",
     "output_type": "stream",
     "text": [
      "\n"
     ]
    },
    {
     "name": "stdout",
     "output_type": "stream",
     "text": [
      "\n",
      "      Epoch    GPU_mem   box_loss   cls_loss   dfl_loss  Instances       Size\n"
     ]
    },
    {
     "name": "stderr",
     "output_type": "stream",
     "text": [
      "      6/100       2.1G      1.588      1.451      1.377         40        640: 100%|██████████| 102/102 [00:15<00:00,  6.52it/s]\n",
      "                 Class     Images  Instances      Box(P          R      mAP50  mAP50-95):  17%|█▋        | 1/6 [00:00<00:00,  9.57it/s]Corrupt JPEG data: 4907 extraneous bytes before marker 0xc4\n",
      "                 Class     Images  Instances      Box(P          R      mAP50  mAP50-95): 100%|██████████| 6/6 [00:00<00:00,  9.22it/s]"
     ]
    },
    {
     "name": "stdout",
     "output_type": "stream",
     "text": [
      "                   all        161        508      0.713      0.558      0.546      0.305\n"
     ]
    },
    {
     "name": "stderr",
     "output_type": "stream",
     "text": [
      "\n"
     ]
    },
    {
     "name": "stdout",
     "output_type": "stream",
     "text": [
      "\n",
      "      Epoch    GPU_mem   box_loss   cls_loss   dfl_loss  Instances       Size\n"
     ]
    },
    {
     "name": "stderr",
     "output_type": "stream",
     "text": [
      "      7/100      2.01G      1.557      1.369      1.352         34        640: 100%|██████████| 102/102 [00:15<00:00,  6.56it/s]\n",
      "                 Class     Images  Instances      Box(P          R      mAP50  mAP50-95):  17%|█▋        | 1/6 [00:00<00:00,  9.57it/s]Corrupt JPEG data: 4907 extraneous bytes before marker 0xc4\n",
      "                 Class     Images  Instances      Box(P          R      mAP50  mAP50-95): 100%|██████████| 6/6 [00:00<00:00,  9.15it/s]"
     ]
    },
    {
     "name": "stdout",
     "output_type": "stream",
     "text": [
      "                   all        161        508      0.767      0.529      0.611       0.33\n"
     ]
    },
    {
     "name": "stderr",
     "output_type": "stream",
     "text": [
      "\n"
     ]
    },
    {
     "name": "stdout",
     "output_type": "stream",
     "text": [
      "\n",
      "      Epoch    GPU_mem   box_loss   cls_loss   dfl_loss  Instances       Size\n"
     ]
    },
    {
     "name": "stderr",
     "output_type": "stream",
     "text": [
      "      8/100      1.97G       1.53      1.291       1.34         39        640: 100%|██████████| 102/102 [00:15<00:00,  6.59it/s]\n",
      "                 Class     Images  Instances      Box(P          R      mAP50  mAP50-95):  17%|█▋        | 1/6 [00:00<00:00,  9.56it/s]Corrupt JPEG data: 4907 extraneous bytes before marker 0xc4\n",
      "                 Class     Images  Instances      Box(P          R      mAP50  mAP50-95): 100%|██████████| 6/6 [00:00<00:00,  8.49it/s]"
     ]
    },
    {
     "name": "stdout",
     "output_type": "stream",
     "text": [
      "                   all        161        508      0.602      0.564      0.607      0.341\n"
     ]
    },
    {
     "name": "stderr",
     "output_type": "stream",
     "text": [
      "\n"
     ]
    },
    {
     "name": "stdout",
     "output_type": "stream",
     "text": [
      "\n",
      "      Epoch    GPU_mem   box_loss   cls_loss   dfl_loss  Instances       Size\n"
     ]
    },
    {
     "name": "stderr",
     "output_type": "stream",
     "text": [
      "      9/100      1.97G      1.521      1.252      1.323         38        640: 100%|██████████| 102/102 [00:15<00:00,  6.59it/s]\n",
      "                 Class     Images  Instances      Box(P          R      mAP50  mAP50-95):  17%|█▋        | 1/6 [00:00<00:00,  9.33it/s]Corrupt JPEG data: 4907 extraneous bytes before marker 0xc4\n",
      "                 Class     Images  Instances      Box(P          R      mAP50  mAP50-95): 100%|██████████| 6/6 [00:00<00:00,  9.39it/s]\n"
     ]
    },
    {
     "name": "stdout",
     "output_type": "stream",
     "text": [
      "                   all        161        508      0.555      0.558      0.606      0.335\n",
      "\n",
      "      Epoch    GPU_mem   box_loss   cls_loss   dfl_loss  Instances       Size\n"
     ]
    },
    {
     "name": "stderr",
     "output_type": "stream",
     "text": [
      "     10/100      2.02G      1.507      1.234      1.338         22        640: 100%|██████████| 102/102 [00:15<00:00,  6.55it/s]\n",
      "                 Class     Images  Instances      Box(P          R      mAP50  mAP50-95):  17%|█▋        | 1/6 [00:00<00:00,  7.38it/s]Corrupt JPEG data: 4907 extraneous bytes before marker 0xc4\n",
      "                 Class     Images  Instances      Box(P          R      mAP50  mAP50-95): 100%|██████████| 6/6 [00:00<00:00,  8.46it/s]"
     ]
    },
    {
     "name": "stdout",
     "output_type": "stream",
     "text": [
      "                   all        161        508       0.63      0.674      0.677      0.383\n"
     ]
    },
    {
     "name": "stderr",
     "output_type": "stream",
     "text": [
      "\n"
     ]
    },
    {
     "name": "stdout",
     "output_type": "stream",
     "text": [
      "\n",
      "      Epoch    GPU_mem   box_loss   cls_loss   dfl_loss  Instances       Size\n"
     ]
    },
    {
     "name": "stderr",
     "output_type": "stream",
     "text": [
      "     11/100      2.01G      1.501      1.182      1.327         35        640: 100%|██████████| 102/102 [00:15<00:00,  6.55it/s]\n",
      "                 Class     Images  Instances      Box(P          R      mAP50  mAP50-95):  17%|█▋        | 1/6 [00:00<00:00,  8.74it/s]Corrupt JPEG data: 4907 extraneous bytes before marker 0xc4\n",
      "                 Class     Images  Instances      Box(P          R      mAP50  mAP50-95): 100%|██████████| 6/6 [00:00<00:00,  8.75it/s]"
     ]
    },
    {
     "name": "stdout",
     "output_type": "stream",
     "text": [
      "                   all        161        508      0.557      0.605      0.601      0.349\n"
     ]
    },
    {
     "name": "stderr",
     "output_type": "stream",
     "text": [
      "\n"
     ]
    },
    {
     "name": "stdout",
     "output_type": "stream",
     "text": [
      "\n",
      "      Epoch    GPU_mem   box_loss   cls_loss   dfl_loss  Instances       Size\n"
     ]
    },
    {
     "name": "stderr",
     "output_type": "stream",
     "text": [
      "     12/100      2.04G      1.472      1.169      1.322         33        640: 100%|██████████| 102/102 [00:15<00:00,  6.56it/s]\n",
      "                 Class     Images  Instances      Box(P          R      mAP50  mAP50-95):   0%|          | 0/6 [00:00<?, ?it/s]Corrupt JPEG data: 4907 extraneous bytes before marker 0xc4\n",
      "                 Class     Images  Instances      Box(P          R      mAP50  mAP50-95): 100%|██████████| 6/6 [00:00<00:00,  9.38it/s]"
     ]
    },
    {
     "name": "stdout",
     "output_type": "stream",
     "text": [
      "                   all        161        508      0.776      0.629      0.674      0.403\n"
     ]
    },
    {
     "name": "stderr",
     "output_type": "stream",
     "text": [
      "\n"
     ]
    },
    {
     "name": "stdout",
     "output_type": "stream",
     "text": [
      "\n",
      "      Epoch    GPU_mem   box_loss   cls_loss   dfl_loss  Instances       Size\n"
     ]
    },
    {
     "name": "stderr",
     "output_type": "stream",
     "text": [
      "     13/100      1.97G       1.49       1.14      1.322         19        640: 100%|██████████| 102/102 [00:15<00:00,  6.58it/s]\n",
      "                 Class     Images  Instances      Box(P          R      mAP50  mAP50-95):  17%|█▋        | 1/6 [00:00<00:00,  9.26it/s]Corrupt JPEG data: 4907 extraneous bytes before marker 0xc4\n",
      "                 Class     Images  Instances      Box(P          R      mAP50  mAP50-95): 100%|██████████| 6/6 [00:00<00:00,  9.67it/s]\n"
     ]
    },
    {
     "name": "stdout",
     "output_type": "stream",
     "text": [
      "                   all        161        508      0.741      0.608      0.673      0.404\n",
      "\n",
      "      Epoch    GPU_mem   box_loss   cls_loss   dfl_loss  Instances       Size\n"
     ]
    },
    {
     "name": "stderr",
     "output_type": "stream",
     "text": [
      "     14/100         2G       1.47      1.101      1.312         23        640: 100%|██████████| 102/102 [00:15<00:00,  6.56it/s]\n",
      "                 Class     Images  Instances      Box(P          R      mAP50  mAP50-95):  17%|█▋        | 1/6 [00:00<00:00,  7.77it/s]Corrupt JPEG data: 4907 extraneous bytes before marker 0xc4\n",
      "                 Class     Images  Instances      Box(P          R      mAP50  mAP50-95): 100%|██████████| 6/6 [00:00<00:00,  8.38it/s]"
     ]
    },
    {
     "name": "stdout",
     "output_type": "stream",
     "text": [
      "                   all        161        508      0.753      0.632      0.702      0.417\n"
     ]
    },
    {
     "name": "stderr",
     "output_type": "stream",
     "text": [
      "\n"
     ]
    },
    {
     "name": "stdout",
     "output_type": "stream",
     "text": [
      "\n",
      "      Epoch    GPU_mem   box_loss   cls_loss   dfl_loss  Instances       Size\n"
     ]
    },
    {
     "name": "stderr",
     "output_type": "stream",
     "text": [
      "     15/100       2.1G      1.465       1.13      1.317         41        640: 100%|██████████| 102/102 [00:15<00:00,  6.56it/s]\n",
      "                 Class     Images  Instances      Box(P          R      mAP50  mAP50-95):  17%|█▋        | 1/6 [00:00<00:00,  7.25it/s]Corrupt JPEG data: 4907 extraneous bytes before marker 0xc4\n",
      "                 Class     Images  Instances      Box(P          R      mAP50  mAP50-95): 100%|██████████| 6/6 [00:00<00:00,  8.89it/s]"
     ]
    },
    {
     "name": "stdout",
     "output_type": "stream",
     "text": [
      "                   all        161        508      0.599      0.643      0.671      0.393\n"
     ]
    },
    {
     "name": "stderr",
     "output_type": "stream",
     "text": [
      "\n"
     ]
    },
    {
     "name": "stdout",
     "output_type": "stream",
     "text": [
      "\n",
      "      Epoch    GPU_mem   box_loss   cls_loss   dfl_loss  Instances       Size\n"
     ]
    },
    {
     "name": "stderr",
     "output_type": "stream",
     "text": [
      "     16/100       2.1G      1.461       1.07       1.31         21        640: 100%|██████████| 102/102 [00:15<00:00,  6.63it/s]\n",
      "                 Class     Images  Instances      Box(P          R      mAP50  mAP50-95):  17%|█▋        | 1/6 [00:00<00:00,  9.46it/s]Corrupt JPEG data: 4907 extraneous bytes before marker 0xc4\n",
      "                 Class     Images  Instances      Box(P          R      mAP50  mAP50-95): 100%|██████████| 6/6 [00:00<00:00,  9.66it/s]\n"
     ]
    },
    {
     "name": "stdout",
     "output_type": "stream",
     "text": [
      "                   all        161        508      0.644      0.618      0.683      0.426\n",
      "\n",
      "      Epoch    GPU_mem   box_loss   cls_loss   dfl_loss  Instances       Size\n"
     ]
    },
    {
     "name": "stderr",
     "output_type": "stream",
     "text": [
      "     17/100      2.01G      1.471      1.068       1.31         29        640: 100%|██████████| 102/102 [00:15<00:00,  6.63it/s]\n",
      "                 Class     Images  Instances      Box(P          R      mAP50  mAP50-95):   0%|          | 0/6 [00:00<?, ?it/s]Corrupt JPEG data: 4907 extraneous bytes before marker 0xc4\n",
      "                 Class     Images  Instances      Box(P          R      mAP50  mAP50-95): 100%|██████████| 6/6 [00:00<00:00,  9.93it/s]\n"
     ]
    },
    {
     "name": "stdout",
     "output_type": "stream",
     "text": [
      "                   all        161        508      0.779      0.664      0.726      0.429\n",
      "\n",
      "      Epoch    GPU_mem   box_loss   cls_loss   dfl_loss  Instances       Size\n"
     ]
    },
    {
     "name": "stderr",
     "output_type": "stream",
     "text": [
      "     18/100      1.97G      1.424      1.042      1.283         15        640: 100%|██████████| 102/102 [00:15<00:00,  6.63it/s]\n",
      "                 Class     Images  Instances      Box(P          R      mAP50  mAP50-95):   0%|          | 0/6 [00:00<?, ?it/s]Corrupt JPEG data: 4907 extraneous bytes before marker 0xc4\n",
      "                 Class     Images  Instances      Box(P          R      mAP50  mAP50-95): 100%|██████████| 6/6 [00:00<00:00,  9.88it/s]\n"
     ]
    },
    {
     "name": "stdout",
     "output_type": "stream",
     "text": [
      "                   all        161        508      0.679      0.643      0.674      0.388\n",
      "\n",
      "      Epoch    GPU_mem   box_loss   cls_loss   dfl_loss  Instances       Size\n"
     ]
    },
    {
     "name": "stderr",
     "output_type": "stream",
     "text": [
      "     19/100      1.97G       1.45       1.03      1.299         30        640: 100%|██████████| 102/102 [00:15<00:00,  6.64it/s]\n",
      "                 Class     Images  Instances      Box(P          R      mAP50  mAP50-95):   0%|          | 0/6 [00:00<?, ?it/s]Corrupt JPEG data: 4907 extraneous bytes before marker 0xc4\n",
      "                 Class     Images  Instances      Box(P          R      mAP50  mAP50-95): 100%|██████████| 6/6 [00:00<00:00,  9.83it/s]\n"
     ]
    },
    {
     "name": "stdout",
     "output_type": "stream",
     "text": [
      "                   all        161        508      0.793      0.661      0.688      0.403\n",
      "\n",
      "      Epoch    GPU_mem   box_loss   cls_loss   dfl_loss  Instances       Size\n"
     ]
    },
    {
     "name": "stderr",
     "output_type": "stream",
     "text": [
      "     20/100      1.97G      1.427      1.014      1.286         29        640: 100%|██████████| 102/102 [00:15<00:00,  6.68it/s]\n",
      "                 Class     Images  Instances      Box(P          R      mAP50  mAP50-95):  17%|█▋        | 1/6 [00:00<00:00,  7.83it/s]Corrupt JPEG data: 4907 extraneous bytes before marker 0xc4\n",
      "                 Class     Images  Instances      Box(P          R      mAP50  mAP50-95): 100%|██████████| 6/6 [00:00<00:00,  9.03it/s]"
     ]
    },
    {
     "name": "stdout",
     "output_type": "stream",
     "text": [
      "                   all        161        508      0.709      0.651      0.713      0.434\n"
     ]
    },
    {
     "name": "stderr",
     "output_type": "stream",
     "text": [
      "\n"
     ]
    },
    {
     "name": "stdout",
     "output_type": "stream",
     "text": [
      "\n",
      "      Epoch    GPU_mem   box_loss   cls_loss   dfl_loss  Instances       Size\n"
     ]
    },
    {
     "name": "stderr",
     "output_type": "stream",
     "text": [
      "     21/100      1.97G      1.413     0.9778      1.289         36        640: 100%|██████████| 102/102 [00:15<00:00,  6.66it/s]\n",
      "                 Class     Images  Instances      Box(P          R      mAP50  mAP50-95):  17%|█▋        | 1/6 [00:00<00:00,  9.47it/s]Corrupt JPEG data: 4907 extraneous bytes before marker 0xc4\n",
      "                 Class     Images  Instances      Box(P          R      mAP50  mAP50-95): 100%|██████████| 6/6 [00:00<00:00,  9.50it/s]"
     ]
    },
    {
     "name": "stdout",
     "output_type": "stream",
     "text": [
      "                   all        161        508      0.826      0.651      0.703      0.418\n"
     ]
    },
    {
     "name": "stderr",
     "output_type": "stream",
     "text": [
      "\n"
     ]
    },
    {
     "name": "stdout",
     "output_type": "stream",
     "text": [
      "\n",
      "      Epoch    GPU_mem   box_loss   cls_loss   dfl_loss  Instances       Size\n"
     ]
    },
    {
     "name": "stderr",
     "output_type": "stream",
     "text": [
      "     22/100      1.97G      1.419     0.9853      1.277         54        640: 100%|██████████| 102/102 [00:15<00:00,  6.65it/s]\n",
      "                 Class     Images  Instances      Box(P          R      mAP50  mAP50-95):  17%|█▋        | 1/6 [00:00<00:00,  9.82it/s]Corrupt JPEG data: 4907 extraneous bytes before marker 0xc4\n",
      "                 Class     Images  Instances      Box(P          R      mAP50  mAP50-95): 100%|██████████| 6/6 [00:00<00:00,  9.48it/s]"
     ]
    },
    {
     "name": "stdout",
     "output_type": "stream",
     "text": [
      "                   all        161        508      0.659      0.719      0.709      0.437\n"
     ]
    },
    {
     "name": "stderr",
     "output_type": "stream",
     "text": [
      "\n"
     ]
    },
    {
     "name": "stdout",
     "output_type": "stream",
     "text": [
      "\n",
      "      Epoch    GPU_mem   box_loss   cls_loss   dfl_loss  Instances       Size\n"
     ]
    },
    {
     "name": "stderr",
     "output_type": "stream",
     "text": [
      "     23/100      1.97G      1.405     0.9753      1.275         27        640: 100%|██████████| 102/102 [00:15<00:00,  6.65it/s]\n",
      "                 Class     Images  Instances      Box(P          R      mAP50  mAP50-95):  17%|█▋        | 1/6 [00:00<00:00,  9.65it/s]Corrupt JPEG data: 4907 extraneous bytes before marker 0xc4\n",
      "                 Class     Images  Instances      Box(P          R      mAP50  mAP50-95): 100%|██████████| 6/6 [00:00<00:00,  9.78it/s]\n"
     ]
    },
    {
     "name": "stdout",
     "output_type": "stream",
     "text": [
      "                   all        161        508        0.8      0.628      0.691      0.412\n",
      "\n",
      "      Epoch    GPU_mem   box_loss   cls_loss   dfl_loss  Instances       Size\n"
     ]
    },
    {
     "name": "stderr",
     "output_type": "stream",
     "text": [
      "     24/100      1.97G      1.388     0.9341      1.272         21        640: 100%|██████████| 102/102 [00:15<00:00,  6.65it/s]\n",
      "                 Class     Images  Instances      Box(P          R      mAP50  mAP50-95):  17%|█▋        | 1/6 [00:00<00:00,  9.06it/s]Corrupt JPEG data: 4907 extraneous bytes before marker 0xc4\n",
      "                 Class     Images  Instances      Box(P          R      mAP50  mAP50-95): 100%|██████████| 6/6 [00:00<00:00,  9.53it/s]"
     ]
    },
    {
     "name": "stdout",
     "output_type": "stream",
     "text": [
      "                   all        161        508      0.837      0.669      0.751      0.465\n"
     ]
    },
    {
     "name": "stderr",
     "output_type": "stream",
     "text": [
      "\n"
     ]
    },
    {
     "name": "stdout",
     "output_type": "stream",
     "text": [
      "\n",
      "      Epoch    GPU_mem   box_loss   cls_loss   dfl_loss  Instances       Size\n"
     ]
    },
    {
     "name": "stderr",
     "output_type": "stream",
     "text": [
      "     25/100      1.97G      1.411     0.9492      1.271         28        640: 100%|██████████| 102/102 [00:15<00:00,  6.64it/s]\n",
      "                 Class     Images  Instances      Box(P          R      mAP50  mAP50-95):   0%|          | 0/6 [00:00<?, ?it/s]Corrupt JPEG data: 4907 extraneous bytes before marker 0xc4\n",
      "                 Class     Images  Instances      Box(P          R      mAP50  mAP50-95): 100%|██████████| 6/6 [00:00<00:00,  8.95it/s]"
     ]
    },
    {
     "name": "stdout",
     "output_type": "stream",
     "text": [
      "                   all        161        508      0.785      0.699       0.78      0.454\n"
     ]
    },
    {
     "name": "stderr",
     "output_type": "stream",
     "text": [
      "\n"
     ]
    },
    {
     "name": "stdout",
     "output_type": "stream",
     "text": [
      "\n",
      "      Epoch    GPU_mem   box_loss   cls_loss   dfl_loss  Instances       Size\n"
     ]
    },
    {
     "name": "stderr",
     "output_type": "stream",
     "text": [
      "     26/100      1.97G      1.367     0.9118      1.249         38        640: 100%|██████████| 102/102 [00:15<00:00,  6.63it/s]\n",
      "                 Class     Images  Instances      Box(P          R      mAP50  mAP50-95):   0%|          | 0/6 [00:00<?, ?it/s]Corrupt JPEG data: 4907 extraneous bytes before marker 0xc4\n",
      "                 Class     Images  Instances      Box(P          R      mAP50  mAP50-95): 100%|██████████| 6/6 [00:00<00:00,  9.76it/s]\n"
     ]
    },
    {
     "name": "stdout",
     "output_type": "stream",
     "text": [
      "                   all        161        508      0.739      0.715      0.745       0.45\n",
      "\n",
      "      Epoch    GPU_mem   box_loss   cls_loss   dfl_loss  Instances       Size\n"
     ]
    },
    {
     "name": "stderr",
     "output_type": "stream",
     "text": [
      "     27/100       2.1G      1.376     0.9365       1.26         20        640: 100%|██████████| 102/102 [00:15<00:00,  6.63it/s]\n",
      "                 Class     Images  Instances      Box(P          R      mAP50  mAP50-95):   0%|          | 0/6 [00:00<?, ?it/s]Corrupt JPEG data: 4907 extraneous bytes before marker 0xc4\n",
      "                 Class     Images  Instances      Box(P          R      mAP50  mAP50-95): 100%|██████████| 6/6 [00:00<00:00,  9.53it/s]"
     ]
    },
    {
     "name": "stdout",
     "output_type": "stream",
     "text": [
      "                   all        161        508      0.732      0.685      0.751      0.456\n"
     ]
    },
    {
     "name": "stderr",
     "output_type": "stream",
     "text": [
      "\n"
     ]
    },
    {
     "name": "stdout",
     "output_type": "stream",
     "text": [
      "\n",
      "      Epoch    GPU_mem   box_loss   cls_loss   dfl_loss  Instances       Size\n"
     ]
    },
    {
     "name": "stderr",
     "output_type": "stream",
     "text": [
      "     28/100      1.97G      1.386     0.9204      1.268         33        640: 100%|██████████| 102/102 [00:15<00:00,  6.61it/s]\n",
      "                 Class     Images  Instances      Box(P          R      mAP50  mAP50-95):   0%|          | 0/6 [00:00<?, ?it/s]Corrupt JPEG data: 4907 extraneous bytes before marker 0xc4\n",
      "                 Class     Images  Instances      Box(P          R      mAP50  mAP50-95): 100%|██████████| 6/6 [00:00<00:00,  9.68it/s]"
     ]
    },
    {
     "name": "stdout",
     "output_type": "stream",
     "text": [
      "                   all        161        508      0.662      0.692      0.723      0.451\n"
     ]
    },
    {
     "name": "stderr",
     "output_type": "stream",
     "text": [
      "\n"
     ]
    },
    {
     "name": "stdout",
     "output_type": "stream",
     "text": [
      "\n",
      "      Epoch    GPU_mem   box_loss   cls_loss   dfl_loss  Instances       Size\n"
     ]
    },
    {
     "name": "stderr",
     "output_type": "stream",
     "text": [
      "     29/100      1.97G      1.377     0.9021      1.252         26        640: 100%|██████████| 102/102 [00:15<00:00,  6.62it/s]\n",
      "                 Class     Images  Instances      Box(P          R      mAP50  mAP50-95):   0%|          | 0/6 [00:00<?, ?it/s]Corrupt JPEG data: 4907 extraneous bytes before marker 0xc4\n",
      "                 Class     Images  Instances      Box(P          R      mAP50  mAP50-95): 100%|██████████| 6/6 [00:00<00:00,  9.80it/s]\n"
     ]
    },
    {
     "name": "stdout",
     "output_type": "stream",
     "text": [
      "                   all        161        508      0.842      0.691      0.728      0.448\n",
      "\n",
      "      Epoch    GPU_mem   box_loss   cls_loss   dfl_loss  Instances       Size\n"
     ]
    },
    {
     "name": "stderr",
     "output_type": "stream",
     "text": [
      "     30/100      1.97G      1.373     0.8981      1.265         40        640: 100%|██████████| 102/102 [00:15<00:00,  6.62it/s]\n",
      "                 Class     Images  Instances      Box(P          R      mAP50  mAP50-95):  17%|█▋        | 1/6 [00:00<00:00,  8.41it/s]Corrupt JPEG data: 4907 extraneous bytes before marker 0xc4\n",
      "                 Class     Images  Instances      Box(P          R      mAP50  mAP50-95): 100%|██████████| 6/6 [00:00<00:00,  9.39it/s]"
     ]
    },
    {
     "name": "stdout",
     "output_type": "stream",
     "text": [
      "                   all        161        508      0.671      0.654      0.711      0.432\n"
     ]
    },
    {
     "name": "stderr",
     "output_type": "stream",
     "text": [
      "\n"
     ]
    },
    {
     "name": "stdout",
     "output_type": "stream",
     "text": [
      "\n",
      "      Epoch    GPU_mem   box_loss   cls_loss   dfl_loss  Instances       Size\n"
     ]
    },
    {
     "name": "stderr",
     "output_type": "stream",
     "text": [
      "     31/100       2.1G      1.347     0.8895      1.241         21        640: 100%|██████████| 102/102 [00:15<00:00,  6.61it/s]\n",
      "                 Class     Images  Instances      Box(P          R      mAP50  mAP50-95):   0%|          | 0/6 [00:00<?, ?it/s]Corrupt JPEG data: 4907 extraneous bytes before marker 0xc4\n",
      "                 Class     Images  Instances      Box(P          R      mAP50  mAP50-95): 100%|██████████| 6/6 [00:00<00:00,  9.32it/s]"
     ]
    },
    {
     "name": "stdout",
     "output_type": "stream",
     "text": [
      "                   all        161        508      0.769      0.718      0.746      0.465\n"
     ]
    },
    {
     "name": "stderr",
     "output_type": "stream",
     "text": [
      "\n"
     ]
    },
    {
     "name": "stdout",
     "output_type": "stream",
     "text": [
      "\n",
      "      Epoch    GPU_mem   box_loss   cls_loss   dfl_loss  Instances       Size\n"
     ]
    },
    {
     "name": "stderr",
     "output_type": "stream",
     "text": [
      "     32/100       2.1G      1.353     0.8834      1.245         33        640: 100%|██████████| 102/102 [00:15<00:00,  6.58it/s]\n",
      "                 Class     Images  Instances      Box(P          R      mAP50  mAP50-95):  17%|█▋        | 1/6 [00:00<00:00,  9.30it/s]Corrupt JPEG data: 4907 extraneous bytes before marker 0xc4\n",
      "                 Class     Images  Instances      Box(P          R      mAP50  mAP50-95): 100%|██████████| 6/6 [00:00<00:00,  8.90it/s]"
     ]
    },
    {
     "name": "stdout",
     "output_type": "stream",
     "text": [
      "                   all        161        508       0.75      0.717      0.744      0.472\n"
     ]
    },
    {
     "name": "stderr",
     "output_type": "stream",
     "text": [
      "\n"
     ]
    },
    {
     "name": "stdout",
     "output_type": "stream",
     "text": [
      "\n",
      "      Epoch    GPU_mem   box_loss   cls_loss   dfl_loss  Instances       Size\n"
     ]
    },
    {
     "name": "stderr",
     "output_type": "stream",
     "text": [
      "     33/100      1.97G      1.338     0.8746      1.224         50        640: 100%|██████████| 102/102 [00:15<00:00,  6.53it/s]\n",
      "                 Class     Images  Instances      Box(P          R      mAP50  mAP50-95):  17%|█▋        | 1/6 [00:00<00:00,  6.83it/s]Corrupt JPEG data: 4907 extraneous bytes before marker 0xc4\n",
      "                 Class     Images  Instances      Box(P          R      mAP50  mAP50-95): 100%|██████████| 6/6 [00:00<00:00,  7.47it/s]"
     ]
    },
    {
     "name": "stdout",
     "output_type": "stream",
     "text": [
      "                   all        161        508       0.69       0.72      0.726      0.463\n"
     ]
    },
    {
     "name": "stderr",
     "output_type": "stream",
     "text": [
      "\n"
     ]
    },
    {
     "name": "stdout",
     "output_type": "stream",
     "text": [
      "\n",
      "      Epoch    GPU_mem   box_loss   cls_loss   dfl_loss  Instances       Size\n"
     ]
    },
    {
     "name": "stderr",
     "output_type": "stream",
     "text": [
      "     34/100       2.1G      1.342       0.87       1.24         28        640: 100%|██████████| 102/102 [00:15<00:00,  6.53it/s]\n",
      "                 Class     Images  Instances      Box(P          R      mAP50  mAP50-95):  17%|█▋        | 1/6 [00:00<00:00,  9.77it/s]Corrupt JPEG data: 4907 extraneous bytes before marker 0xc4\n",
      "                 Class     Images  Instances      Box(P          R      mAP50  mAP50-95): 100%|██████████| 6/6 [00:00<00:00,  9.61it/s]\n"
     ]
    },
    {
     "name": "stdout",
     "output_type": "stream",
     "text": [
      "                   all        161        508      0.674      0.749      0.746      0.469\n",
      "\n",
      "      Epoch    GPU_mem   box_loss   cls_loss   dfl_loss  Instances       Size\n"
     ]
    },
    {
     "name": "stderr",
     "output_type": "stream",
     "text": [
      "     35/100      1.97G      1.336     0.8406      1.228         19        640: 100%|██████████| 102/102 [00:15<00:00,  6.59it/s]\n",
      "                 Class     Images  Instances      Box(P          R      mAP50  mAP50-95):  17%|█▋        | 1/6 [00:00<00:00,  9.78it/s]Corrupt JPEG data: 4907 extraneous bytes before marker 0xc4\n",
      "                 Class     Images  Instances      Box(P          R      mAP50  mAP50-95): 100%|██████████| 6/6 [00:00<00:00,  9.42it/s]"
     ]
    },
    {
     "name": "stdout",
     "output_type": "stream",
     "text": [
      "                   all        161        508      0.711      0.741      0.738      0.446\n"
     ]
    },
    {
     "name": "stderr",
     "output_type": "stream",
     "text": [
      "\n"
     ]
    },
    {
     "name": "stdout",
     "output_type": "stream",
     "text": [
      "\n",
      "      Epoch    GPU_mem   box_loss   cls_loss   dfl_loss  Instances       Size\n"
     ]
    },
    {
     "name": "stderr",
     "output_type": "stream",
     "text": [
      "     36/100       2.1G      1.304     0.8567      1.226         28        640: 100%|██████████| 102/102 [00:15<00:00,  6.60it/s]\n",
      "                 Class     Images  Instances      Box(P          R      mAP50  mAP50-95):   0%|          | 0/6 [00:00<?, ?it/s]Corrupt JPEG data: 4907 extraneous bytes before marker 0xc4\n",
      "                 Class     Images  Instances      Box(P          R      mAP50  mAP50-95): 100%|██████████| 6/6 [00:00<00:00,  8.60it/s]"
     ]
    },
    {
     "name": "stdout",
     "output_type": "stream",
     "text": [
      "                   all        161        508      0.646      0.795      0.751      0.479\n"
     ]
    },
    {
     "name": "stderr",
     "output_type": "stream",
     "text": [
      "\n"
     ]
    },
    {
     "name": "stdout",
     "output_type": "stream",
     "text": [
      "\n",
      "      Epoch    GPU_mem   box_loss   cls_loss   dfl_loss  Instances       Size\n"
     ]
    },
    {
     "name": "stderr",
     "output_type": "stream",
     "text": [
      "     37/100       2.1G      1.324     0.8404      1.228         19        640: 100%|██████████| 102/102 [00:15<00:00,  6.62it/s]\n",
      "                 Class     Images  Instances      Box(P          R      mAP50  mAP50-95):   0%|          | 0/6 [00:00<?, ?it/s]Corrupt JPEG data: 4907 extraneous bytes before marker 0xc4\n",
      "                 Class     Images  Instances      Box(P          R      mAP50  mAP50-95): 100%|██████████| 6/6 [00:00<00:00,  9.74it/s]"
     ]
    },
    {
     "name": "stdout",
     "output_type": "stream",
     "text": [
      "                   all        161        508      0.758      0.707      0.739      0.457\n"
     ]
    },
    {
     "name": "stderr",
     "output_type": "stream",
     "text": [
      "\n"
     ]
    },
    {
     "name": "stdout",
     "output_type": "stream",
     "text": [
      "\n",
      "      Epoch    GPU_mem   box_loss   cls_loss   dfl_loss  Instances       Size\n"
     ]
    },
    {
     "name": "stderr",
     "output_type": "stream",
     "text": [
      "     38/100      1.97G      1.319     0.8332      1.228         26        640: 100%|██████████| 102/102 [00:15<00:00,  6.61it/s]\n",
      "                 Class     Images  Instances      Box(P          R      mAP50  mAP50-95):  17%|█▋        | 1/6 [00:00<00:00,  9.97it/s]Corrupt JPEG data: 4907 extraneous bytes before marker 0xc4\n",
      "                 Class     Images  Instances      Box(P          R      mAP50  mAP50-95): 100%|██████████| 6/6 [00:00<00:00,  9.35it/s]"
     ]
    },
    {
     "name": "stdout",
     "output_type": "stream",
     "text": [
      "                   all        161        508      0.825      0.697      0.741      0.475\n"
     ]
    },
    {
     "name": "stderr",
     "output_type": "stream",
     "text": [
      "\n"
     ]
    },
    {
     "name": "stdout",
     "output_type": "stream",
     "text": [
      "\n",
      "      Epoch    GPU_mem   box_loss   cls_loss   dfl_loss  Instances       Size\n"
     ]
    },
    {
     "name": "stderr",
     "output_type": "stream",
     "text": [
      "     39/100      1.97G      1.332     0.8339      1.234         23        640: 100%|██████████| 102/102 [00:15<00:00,  6.62it/s]\n",
      "                 Class     Images  Instances      Box(P          R      mAP50  mAP50-95):   0%|          | 0/6 [00:00<?, ?it/s]Corrupt JPEG data: 4907 extraneous bytes before marker 0xc4\n",
      "                 Class     Images  Instances      Box(P          R      mAP50  mAP50-95): 100%|██████████| 6/6 [00:00<00:00,  9.90it/s]\n"
     ]
    },
    {
     "name": "stdout",
     "output_type": "stream",
     "text": [
      "                   all        161        508      0.713      0.753      0.741      0.472\n",
      "\n",
      "      Epoch    GPU_mem   box_loss   cls_loss   dfl_loss  Instances       Size\n"
     ]
    },
    {
     "name": "stderr",
     "output_type": "stream",
     "text": [
      "     40/100      1.97G      1.293     0.8083      1.208         26        640: 100%|██████████| 102/102 [00:15<00:00,  6.61it/s]\n",
      "                 Class     Images  Instances      Box(P          R      mAP50  mAP50-95):   0%|          | 0/6 [00:00<?, ?it/s]Corrupt JPEG data: 4907 extraneous bytes before marker 0xc4\n",
      "                 Class     Images  Instances      Box(P          R      mAP50  mAP50-95): 100%|██████████| 6/6 [00:00<00:00,  9.47it/s]\n"
     ]
    },
    {
     "name": "stdout",
     "output_type": "stream",
     "text": [
      "                   all        161        508      0.732      0.701      0.736      0.461\n",
      "\n",
      "      Epoch    GPU_mem   box_loss   cls_loss   dfl_loss  Instances       Size\n"
     ]
    },
    {
     "name": "stderr",
     "output_type": "stream",
     "text": [
      "     41/100       2.1G      1.301     0.8183      1.212         22        640: 100%|██████████| 102/102 [00:15<00:00,  6.62it/s]\n",
      "                 Class     Images  Instances      Box(P          R      mAP50  mAP50-95):   0%|          | 0/6 [00:00<?, ?it/s]Corrupt JPEG data: 4907 extraneous bytes before marker 0xc4\n",
      "                 Class     Images  Instances      Box(P          R      mAP50  mAP50-95): 100%|██████████| 6/6 [00:00<00:00,  9.95it/s]\n"
     ]
    },
    {
     "name": "stdout",
     "output_type": "stream",
     "text": [
      "                   all        161        508      0.839      0.717      0.766      0.493\n",
      "\n",
      "      Epoch    GPU_mem   box_loss   cls_loss   dfl_loss  Instances       Size\n"
     ]
    },
    {
     "name": "stderr",
     "output_type": "stream",
     "text": [
      "     42/100      2.05G      1.304     0.8091      1.208         40        640: 100%|██████████| 102/102 [00:15<00:00,  6.63it/s]\n",
      "                 Class     Images  Instances      Box(P          R      mAP50  mAP50-95):  17%|█▋        | 1/6 [00:00<00:00,  8.47it/s]Corrupt JPEG data: 4907 extraneous bytes before marker 0xc4\n",
      "                 Class     Images  Instances      Box(P          R      mAP50  mAP50-95): 100%|██████████| 6/6 [00:00<00:00,  9.20it/s]"
     ]
    },
    {
     "name": "stdout",
     "output_type": "stream",
     "text": [
      "                   all        161        508      0.685       0.73      0.758      0.479\n"
     ]
    },
    {
     "name": "stderr",
     "output_type": "stream",
     "text": [
      "\n"
     ]
    },
    {
     "name": "stdout",
     "output_type": "stream",
     "text": [
      "\n",
      "      Epoch    GPU_mem   box_loss   cls_loss   dfl_loss  Instances       Size\n"
     ]
    },
    {
     "name": "stderr",
     "output_type": "stream",
     "text": [
      "     43/100         2G      1.303     0.8105       1.23         49        640: 100%|██████████| 102/102 [00:15<00:00,  6.62it/s]\n",
      "                 Class     Images  Instances      Box(P          R      mAP50  mAP50-95):   0%|          | 0/6 [00:00<?, ?it/s]Corrupt JPEG data: 4907 extraneous bytes before marker 0xc4\n",
      "                 Class     Images  Instances      Box(P          R      mAP50  mAP50-95): 100%|██████████| 6/6 [00:00<00:00,  9.82it/s]\n"
     ]
    },
    {
     "name": "stdout",
     "output_type": "stream",
     "text": [
      "                   all        161        508      0.688      0.704      0.715      0.444\n",
      "\n",
      "      Epoch    GPU_mem   box_loss   cls_loss   dfl_loss  Instances       Size\n"
     ]
    },
    {
     "name": "stderr",
     "output_type": "stream",
     "text": [
      "     44/100      1.97G      1.285      0.813      1.214         31        640: 100%|██████████| 102/102 [00:15<00:00,  6.64it/s]\n",
      "                 Class     Images  Instances      Box(P          R      mAP50  mAP50-95):   0%|          | 0/6 [00:00<?, ?it/s]Corrupt JPEG data: 4907 extraneous bytes before marker 0xc4\n",
      "                 Class     Images  Instances      Box(P          R      mAP50  mAP50-95): 100%|██████████| 6/6 [00:00<00:00,  9.02it/s]"
     ]
    },
    {
     "name": "stdout",
     "output_type": "stream",
     "text": [
      "                   all        161        508      0.737      0.764      0.758       0.47\n"
     ]
    },
    {
     "name": "stderr",
     "output_type": "stream",
     "text": [
      "\n"
     ]
    },
    {
     "name": "stdout",
     "output_type": "stream",
     "text": [
      "\n",
      "      Epoch    GPU_mem   box_loss   cls_loss   dfl_loss  Instances       Size\n"
     ]
    },
    {
     "name": "stderr",
     "output_type": "stream",
     "text": [
      "     45/100      1.97G      1.286     0.7929      1.206         26        640: 100%|██████████| 102/102 [00:15<00:00,  6.63it/s]\n",
      "                 Class     Images  Instances      Box(P          R      mAP50  mAP50-95):   0%|          | 0/6 [00:00<?, ?it/s]Corrupt JPEG data: 4907 extraneous bytes before marker 0xc4\n",
      "                 Class     Images  Instances      Box(P          R      mAP50  mAP50-95): 100%|██████████| 6/6 [00:00<00:00,  9.78it/s]\n"
     ]
    },
    {
     "name": "stdout",
     "output_type": "stream",
     "text": [
      "                   all        161        508      0.726      0.779      0.752      0.461\n",
      "\n",
      "      Epoch    GPU_mem   box_loss   cls_loss   dfl_loss  Instances       Size\n"
     ]
    },
    {
     "name": "stderr",
     "output_type": "stream",
     "text": [
      "     46/100       2.1G      1.282     0.7682      1.201         41        640: 100%|██████████| 102/102 [00:15<00:00,  6.64it/s]\n",
      "                 Class     Images  Instances      Box(P          R      mAP50  mAP50-95):   0%|          | 0/6 [00:00<?, ?it/s]Corrupt JPEG data: 4907 extraneous bytes before marker 0xc4\n",
      "                 Class     Images  Instances      Box(P          R      mAP50  mAP50-95): 100%|██████████| 6/6 [00:00<00:00,  9.98it/s]"
     ]
    },
    {
     "name": "stdout",
     "output_type": "stream",
     "text": [
      "                   all        161        508       0.75      0.713      0.764      0.483\n"
     ]
    },
    {
     "name": "stderr",
     "output_type": "stream",
     "text": [
      "\n"
     ]
    },
    {
     "name": "stdout",
     "output_type": "stream",
     "text": [
      "\n",
      "      Epoch    GPU_mem   box_loss   cls_loss   dfl_loss  Instances       Size\n"
     ]
    },
    {
     "name": "stderr",
     "output_type": "stream",
     "text": [
      "     47/100      1.97G      1.254      0.769      1.194         18        640: 100%|██████████| 102/102 [00:15<00:00,  6.64it/s]\n",
      "                 Class     Images  Instances      Box(P          R      mAP50  mAP50-95):   0%|          | 0/6 [00:00<?, ?it/s]Corrupt JPEG data: 4907 extraneous bytes before marker 0xc4\n",
      "                 Class     Images  Instances      Box(P          R      mAP50  mAP50-95): 100%|██████████| 6/6 [00:00<00:00,  9.81it/s]\n"
     ]
    },
    {
     "name": "stdout",
     "output_type": "stream",
     "text": [
      "                   all        161        508       0.73      0.685      0.756      0.484\n",
      "\n",
      "      Epoch    GPU_mem   box_loss   cls_loss   dfl_loss  Instances       Size\n"
     ]
    },
    {
     "name": "stderr",
     "output_type": "stream",
     "text": [
      "     48/100       2.1G      1.272     0.7625      1.202         14        640: 100%|██████████| 102/102 [00:15<00:00,  6.62it/s]\n",
      "                 Class     Images  Instances      Box(P          R      mAP50  mAP50-95):   0%|          | 0/6 [00:00<?, ?it/s]Corrupt JPEG data: 4907 extraneous bytes before marker 0xc4\n",
      "                 Class     Images  Instances      Box(P          R      mAP50  mAP50-95): 100%|██████████| 6/6 [00:00<00:00,  9.73it/s]"
     ]
    },
    {
     "name": "stdout",
     "output_type": "stream",
     "text": [
      "                   all        161        508      0.743      0.762      0.762      0.489\n"
     ]
    },
    {
     "name": "stderr",
     "output_type": "stream",
     "text": [
      "\n"
     ]
    },
    {
     "name": "stdout",
     "output_type": "stream",
     "text": [
      "\n",
      "      Epoch    GPU_mem   box_loss   cls_loss   dfl_loss  Instances       Size\n"
     ]
    },
    {
     "name": "stderr",
     "output_type": "stream",
     "text": [
      "     49/100      2.01G      1.272     0.7659      1.203         30        640: 100%|██████████| 102/102 [00:15<00:00,  6.62it/s]\n",
      "                 Class     Images  Instances      Box(P          R      mAP50  mAP50-95):  17%|█▋        | 1/6 [00:00<00:00,  9.94it/s]Corrupt JPEG data: 4907 extraneous bytes before marker 0xc4\n",
      "                 Class     Images  Instances      Box(P          R      mAP50  mAP50-95): 100%|██████████| 6/6 [00:00<00:00,  9.80it/s]\n"
     ]
    },
    {
     "name": "stdout",
     "output_type": "stream",
     "text": [
      "                   all        161        508      0.747      0.696      0.748      0.471\n",
      "\n",
      "      Epoch    GPU_mem   box_loss   cls_loss   dfl_loss  Instances       Size\n"
     ]
    },
    {
     "name": "stderr",
     "output_type": "stream",
     "text": [
      "     50/100       2.1G      1.258       0.77      1.205         81        640: 100%|██████████| 102/102 [00:15<00:00,  6.63it/s]\n",
      "                 Class     Images  Instances      Box(P          R      mAP50  mAP50-95):   0%|          | 0/6 [00:00<?, ?it/s]Corrupt JPEG data: 4907 extraneous bytes before marker 0xc4\n",
      "                 Class     Images  Instances      Box(P          R      mAP50  mAP50-95): 100%|██████████| 6/6 [00:00<00:00,  9.73it/s]"
     ]
    },
    {
     "name": "stdout",
     "output_type": "stream",
     "text": [
      "                   all        161        508      0.704      0.797      0.793       0.48\n"
     ]
    },
    {
     "name": "stderr",
     "output_type": "stream",
     "text": [
      "\n"
     ]
    },
    {
     "name": "stdout",
     "output_type": "stream",
     "text": [
      "\n",
      "      Epoch    GPU_mem   box_loss   cls_loss   dfl_loss  Instances       Size\n"
     ]
    },
    {
     "name": "stderr",
     "output_type": "stream",
     "text": [
      "     51/100      1.97G      1.247     0.7705      1.194         29        640: 100%|██████████| 102/102 [00:15<00:00,  6.62it/s]\n",
      "                 Class     Images  Instances      Box(P          R      mAP50  mAP50-95):  17%|█▋        | 1/6 [00:00<00:00,  8.86it/s]Corrupt JPEG data: 4907 extraneous bytes before marker 0xc4\n",
      "                 Class     Images  Instances      Box(P          R      mAP50  mAP50-95): 100%|██████████| 6/6 [00:00<00:00,  9.23it/s]"
     ]
    },
    {
     "name": "stdout",
     "output_type": "stream",
     "text": [
      "                   all        161        508      0.754      0.716      0.763      0.487\n"
     ]
    },
    {
     "name": "stderr",
     "output_type": "stream",
     "text": [
      "\n"
     ]
    },
    {
     "name": "stdout",
     "output_type": "stream",
     "text": [
      "\n",
      "      Epoch    GPU_mem   box_loss   cls_loss   dfl_loss  Instances       Size\n"
     ]
    },
    {
     "name": "stderr",
     "output_type": "stream",
     "text": [
      "     52/100      1.97G      1.244       0.75      1.184         25        640: 100%|██████████| 102/102 [00:15<00:00,  6.63it/s]\n",
      "                 Class     Images  Instances      Box(P          R      mAP50  mAP50-95):  17%|█▋        | 1/6 [00:00<00:00,  9.90it/s]Corrupt JPEG data: 4907 extraneous bytes before marker 0xc4\n",
      "                 Class     Images  Instances      Box(P          R      mAP50  mAP50-95): 100%|██████████| 6/6 [00:00<00:00,  9.60it/s]"
     ]
    },
    {
     "name": "stdout",
     "output_type": "stream",
     "text": [
      "                   all        161        508      0.751       0.76      0.767       0.49\n"
     ]
    },
    {
     "name": "stderr",
     "output_type": "stream",
     "text": [
      "\n"
     ]
    },
    {
     "name": "stdout",
     "output_type": "stream",
     "text": [
      "\n",
      "      Epoch    GPU_mem   box_loss   cls_loss   dfl_loss  Instances       Size\n"
     ]
    },
    {
     "name": "stderr",
     "output_type": "stream",
     "text": [
      "     53/100      1.97G      1.241     0.7458       1.18         30        640: 100%|██████████| 102/102 [00:15<00:00,  6.63it/s]\n",
      "                 Class     Images  Instances      Box(P          R      mAP50  mAP50-95):  17%|█▋        | 1/6 [00:00<00:00,  9.99it/s]Corrupt JPEG data: 4907 extraneous bytes before marker 0xc4\n",
      "                 Class     Images  Instances      Box(P          R      mAP50  mAP50-95): 100%|██████████| 6/6 [00:00<00:00,  9.74it/s]"
     ]
    },
    {
     "name": "stdout",
     "output_type": "stream",
     "text": [
      "                   all        161        508      0.724      0.744      0.731      0.461\n"
     ]
    },
    {
     "name": "stderr",
     "output_type": "stream",
     "text": [
      "\n"
     ]
    },
    {
     "name": "stdout",
     "output_type": "stream",
     "text": [
      "\n",
      "      Epoch    GPU_mem   box_loss   cls_loss   dfl_loss  Instances       Size\n"
     ]
    },
    {
     "name": "stderr",
     "output_type": "stream",
     "text": [
      "     54/100       2.1G      1.234     0.7345      1.176         23        640: 100%|██████████| 102/102 [00:15<00:00,  6.64it/s]\n",
      "                 Class     Images  Instances      Box(P          R      mAP50  mAP50-95):  17%|█▋        | 1/6 [00:00<00:00,  9.35it/s]Corrupt JPEG data: 4907 extraneous bytes before marker 0xc4\n",
      "                 Class     Images  Instances      Box(P          R      mAP50  mAP50-95): 100%|██████████| 6/6 [00:00<00:00,  9.59it/s]"
     ]
    },
    {
     "name": "stdout",
     "output_type": "stream",
     "text": [
      "                   all        161        508      0.763      0.718      0.745      0.471\n"
     ]
    },
    {
     "name": "stderr",
     "output_type": "stream",
     "text": [
      "\n"
     ]
    },
    {
     "name": "stdout",
     "output_type": "stream",
     "text": [
      "\n",
      "      Epoch    GPU_mem   box_loss   cls_loss   dfl_loss  Instances       Size\n"
     ]
    },
    {
     "name": "stderr",
     "output_type": "stream",
     "text": [
      "     55/100       2.1G      1.213      0.733      1.172         18        640: 100%|██████████| 102/102 [00:15<00:00,  6.61it/s]\n",
      "                 Class     Images  Instances      Box(P          R      mAP50  mAP50-95):  17%|█▋        | 1/6 [00:00<00:00,  8.98it/s]Corrupt JPEG data: 4907 extraneous bytes before marker 0xc4\n",
      "                 Class     Images  Instances      Box(P          R      mAP50  mAP50-95): 100%|██████████| 6/6 [00:00<00:00,  9.68it/s]\n"
     ]
    },
    {
     "name": "stdout",
     "output_type": "stream",
     "text": [
      "                   all        161        508      0.779      0.719      0.751      0.478\n",
      "\n",
      "      Epoch    GPU_mem   box_loss   cls_loss   dfl_loss  Instances       Size\n"
     ]
    },
    {
     "name": "stderr",
     "output_type": "stream",
     "text": [
      "     56/100         2G       1.22     0.7253      1.177         18        640: 100%|██████████| 102/102 [00:15<00:00,  6.63it/s]\n",
      "                 Class     Images  Instances      Box(P          R      mAP50  mAP50-95):  17%|█▋        | 1/6 [00:00<00:00,  9.86it/s]Corrupt JPEG data: 4907 extraneous bytes before marker 0xc4\n",
      "                 Class     Images  Instances      Box(P          R      mAP50  mAP50-95): 100%|██████████| 6/6 [00:00<00:00,  9.47it/s]"
     ]
    },
    {
     "name": "stdout",
     "output_type": "stream",
     "text": [
      "                   all        161        508      0.722      0.746      0.742      0.468\n"
     ]
    },
    {
     "name": "stderr",
     "output_type": "stream",
     "text": [
      "\n"
     ]
    },
    {
     "name": "stdout",
     "output_type": "stream",
     "text": [
      "\n",
      "      Epoch    GPU_mem   box_loss   cls_loss   dfl_loss  Instances       Size\n"
     ]
    },
    {
     "name": "stderr",
     "output_type": "stream",
     "text": [
      "     57/100      1.97G      1.226     0.7255      1.176         34        640: 100%|██████████| 102/102 [00:15<00:00,  6.61it/s]\n",
      "                 Class     Images  Instances      Box(P          R      mAP50  mAP50-95):   0%|          | 0/6 [00:00<?, ?it/s]Corrupt JPEG data: 4907 extraneous bytes before marker 0xc4\n",
      "                 Class     Images  Instances      Box(P          R      mAP50  mAP50-95): 100%|██████████| 6/6 [00:00<00:00,  8.93it/s]"
     ]
    },
    {
     "name": "stdout",
     "output_type": "stream",
     "text": [
      "                   all        161        508      0.676       0.75      0.737      0.473\n"
     ]
    },
    {
     "name": "stderr",
     "output_type": "stream",
     "text": [
      "\n"
     ]
    },
    {
     "name": "stdout",
     "output_type": "stream",
     "text": [
      "\n",
      "      Epoch    GPU_mem   box_loss   cls_loss   dfl_loss  Instances       Size\n"
     ]
    },
    {
     "name": "stderr",
     "output_type": "stream",
     "text": [
      "     58/100      1.97G       1.21     0.7037      1.165         27        640: 100%|██████████| 102/102 [00:15<00:00,  6.61it/s]\n",
      "                 Class     Images  Instances      Box(P          R      mAP50  mAP50-95):  17%|█▋        | 1/6 [00:00<00:00,  9.60it/s]Corrupt JPEG data: 4907 extraneous bytes before marker 0xc4\n",
      "                 Class     Images  Instances      Box(P          R      mAP50  mAP50-95): 100%|██████████| 6/6 [00:00<00:00,  9.66it/s]\n"
     ]
    },
    {
     "name": "stdout",
     "output_type": "stream",
     "text": [
      "                   all        161        508      0.698      0.685      0.749       0.48\n",
      "\n",
      "      Epoch    GPU_mem   box_loss   cls_loss   dfl_loss  Instances       Size\n"
     ]
    },
    {
     "name": "stderr",
     "output_type": "stream",
     "text": [
      "     59/100       2.1G      1.211     0.7075      1.167         25        640: 100%|██████████| 102/102 [00:15<00:00,  6.58it/s]\n",
      "                 Class     Images  Instances      Box(P          R      mAP50  mAP50-95):   0%|          | 0/6 [00:00<?, ?it/s]Corrupt JPEG data: 4907 extraneous bytes before marker 0xc4\n",
      "                 Class     Images  Instances      Box(P          R      mAP50  mAP50-95): 100%|██████████| 6/6 [00:00<00:00,  9.95it/s]\n"
     ]
    },
    {
     "name": "stdout",
     "output_type": "stream",
     "text": [
      "                   all        161        508      0.696      0.737      0.729      0.464\n",
      "\n",
      "      Epoch    GPU_mem   box_loss   cls_loss   dfl_loss  Instances       Size\n"
     ]
    },
    {
     "name": "stderr",
     "output_type": "stream",
     "text": [
      "     60/100      1.97G        1.2     0.7111      1.166         31        640: 100%|██████████| 102/102 [00:15<00:00,  6.61it/s]\n",
      "                 Class     Images  Instances      Box(P          R      mAP50  mAP50-95):   0%|          | 0/6 [00:00<?, ?it/s]Corrupt JPEG data: 4907 extraneous bytes before marker 0xc4\n",
      "                 Class     Images  Instances      Box(P          R      mAP50  mAP50-95): 100%|██████████| 6/6 [00:00<00:00,  9.29it/s]"
     ]
    },
    {
     "name": "stdout",
     "output_type": "stream",
     "text": [
      "                   all        161        508      0.787      0.769      0.783      0.504\n"
     ]
    },
    {
     "name": "stderr",
     "output_type": "stream",
     "text": [
      "\n"
     ]
    },
    {
     "name": "stdout",
     "output_type": "stream",
     "text": [
      "\n",
      "      Epoch    GPU_mem   box_loss   cls_loss   dfl_loss  Instances       Size\n"
     ]
    },
    {
     "name": "stderr",
     "output_type": "stream",
     "text": [
      "     61/100      1.97G      1.214     0.7059      1.168         28        640: 100%|██████████| 102/102 [00:15<00:00,  6.62it/s]\n",
      "                 Class     Images  Instances      Box(P          R      mAP50  mAP50-95):   0%|          | 0/6 [00:00<?, ?it/s]Corrupt JPEG data: 4907 extraneous bytes before marker 0xc4\n",
      "                 Class     Images  Instances      Box(P          R      mAP50  mAP50-95): 100%|██████████| 6/6 [00:00<00:00,  9.80it/s]"
     ]
    },
    {
     "name": "stdout",
     "output_type": "stream",
     "text": [
      "                   all        161        508      0.715      0.704      0.753      0.482\n"
     ]
    },
    {
     "name": "stderr",
     "output_type": "stream",
     "text": [
      "\n"
     ]
    },
    {
     "name": "stdout",
     "output_type": "stream",
     "text": [
      "\n",
      "      Epoch    GPU_mem   box_loss   cls_loss   dfl_loss  Instances       Size\n"
     ]
    },
    {
     "name": "stderr",
     "output_type": "stream",
     "text": [
      "     62/100      2.02G       1.19     0.6906       1.16         32        640: 100%|██████████| 102/102 [00:15<00:00,  6.61it/s]\n",
      "                 Class     Images  Instances      Box(P          R      mAP50  mAP50-95):   0%|          | 0/6 [00:00<?, ?it/s]Corrupt JPEG data: 4907 extraneous bytes before marker 0xc4\n",
      "                 Class     Images  Instances      Box(P          R      mAP50  mAP50-95): 100%|██████████| 6/6 [00:00<00:00,  9.84it/s]\n"
     ]
    },
    {
     "name": "stdout",
     "output_type": "stream",
     "text": [
      "                   all        161        508      0.741      0.733      0.745      0.471\n",
      "\n",
      "      Epoch    GPU_mem   box_loss   cls_loss   dfl_loss  Instances       Size\n"
     ]
    },
    {
     "name": "stderr",
     "output_type": "stream",
     "text": [
      "     63/100       2.1G      1.183     0.6901      1.159         26        640: 100%|██████████| 102/102 [00:15<00:00,  6.60it/s]\n",
      "                 Class     Images  Instances      Box(P          R      mAP50  mAP50-95):   0%|          | 0/6 [00:00<?, ?it/s]Corrupt JPEG data: 4907 extraneous bytes before marker 0xc4\n",
      "                 Class     Images  Instances      Box(P          R      mAP50  mAP50-95): 100%|██████████| 6/6 [00:00<00:00,  9.71it/s]\n"
     ]
    },
    {
     "name": "stdout",
     "output_type": "stream",
     "text": [
      "                   all        161        508      0.736      0.731      0.739      0.466\n",
      "\n",
      "      Epoch    GPU_mem   box_loss   cls_loss   dfl_loss  Instances       Size\n"
     ]
    },
    {
     "name": "stderr",
     "output_type": "stream",
     "text": [
      "     64/100       2.1G      1.192     0.6848      1.165         36        640: 100%|██████████| 102/102 [00:15<00:00,  6.63it/s]\n",
      "                 Class     Images  Instances      Box(P          R      mAP50  mAP50-95):   0%|          | 0/6 [00:00<?, ?it/s]Corrupt JPEG data: 4907 extraneous bytes before marker 0xc4\n",
      "                 Class     Images  Instances      Box(P          R      mAP50  mAP50-95): 100%|██████████| 6/6 [00:00<00:00,  9.49it/s]"
     ]
    },
    {
     "name": "stdout",
     "output_type": "stream",
     "text": [
      "                   all        161        508      0.739      0.701      0.735      0.482\n"
     ]
    },
    {
     "name": "stderr",
     "output_type": "stream",
     "text": [
      "\n"
     ]
    },
    {
     "name": "stdout",
     "output_type": "stream",
     "text": [
      "\n",
      "      Epoch    GPU_mem   box_loss   cls_loss   dfl_loss  Instances       Size\n"
     ]
    },
    {
     "name": "stderr",
     "output_type": "stream",
     "text": [
      "     65/100      1.97G      1.171     0.6707      1.138         35        640: 100%|██████████| 102/102 [00:15<00:00,  6.61it/s]\n",
      "                 Class     Images  Instances      Box(P          R      mAP50  mAP50-95):   0%|          | 0/6 [00:00<?, ?it/s]Corrupt JPEG data: 4907 extraneous bytes before marker 0xc4\n",
      "                 Class     Images  Instances      Box(P          R      mAP50  mAP50-95): 100%|██████████| 6/6 [00:00<00:00,  9.67it/s]"
     ]
    },
    {
     "name": "stdout",
     "output_type": "stream",
     "text": [
      "                   all        161        508      0.719      0.734      0.731      0.469\n"
     ]
    },
    {
     "name": "stderr",
     "output_type": "stream",
     "text": [
      "\n"
     ]
    },
    {
     "name": "stdout",
     "output_type": "stream",
     "text": [
      "\n",
      "      Epoch    GPU_mem   box_loss   cls_loss   dfl_loss  Instances       Size\n"
     ]
    },
    {
     "name": "stderr",
     "output_type": "stream",
     "text": [
      "     66/100      1.97G      1.163     0.6778      1.145         42        640: 100%|██████████| 102/102 [00:15<00:00,  6.61it/s]\n",
      "                 Class     Images  Instances      Box(P          R      mAP50  mAP50-95):   0%|          | 0/6 [00:00<?, ?it/s]Corrupt JPEG data: 4907 extraneous bytes before marker 0xc4\n",
      "                 Class     Images  Instances      Box(P          R      mAP50  mAP50-95): 100%|██████████| 6/6 [00:00<00:00,  9.85it/s]\n"
     ]
    },
    {
     "name": "stdout",
     "output_type": "stream",
     "text": [
      "                   all        161        508      0.707      0.764      0.754      0.487\n",
      "\n",
      "      Epoch    GPU_mem   box_loss   cls_loss   dfl_loss  Instances       Size\n"
     ]
    },
    {
     "name": "stderr",
     "output_type": "stream",
     "text": [
      "     67/100      2.01G      1.178     0.6755      1.147         48        640: 100%|██████████| 102/102 [00:15<00:00,  6.61it/s]\n",
      "                 Class     Images  Instances      Box(P          R      mAP50  mAP50-95):   0%|          | 0/6 [00:00<?, ?it/s]Corrupt JPEG data: 4907 extraneous bytes before marker 0xc4\n",
      "                 Class     Images  Instances      Box(P          R      mAP50  mAP50-95): 100%|██████████| 6/6 [00:00<00:00,  9.49it/s]"
     ]
    },
    {
     "name": "stdout",
     "output_type": "stream",
     "text": [
      "                   all        161        508      0.766      0.712      0.744      0.481\n"
     ]
    },
    {
     "name": "stderr",
     "output_type": "stream",
     "text": [
      "\n"
     ]
    },
    {
     "name": "stdout",
     "output_type": "stream",
     "text": [
      "\n",
      "      Epoch    GPU_mem   box_loss   cls_loss   dfl_loss  Instances       Size\n"
     ]
    },
    {
     "name": "stderr",
     "output_type": "stream",
     "text": [
      "     68/100         2G      1.169     0.6834      1.143         24        640: 100%|██████████| 102/102 [00:15<00:00,  6.62it/s]\n",
      "                 Class     Images  Instances      Box(P          R      mAP50  mAP50-95):  17%|█▋        | 1/6 [00:00<00:00,  9.74it/s]Corrupt JPEG data: 4907 extraneous bytes before marker 0xc4\n",
      "                 Class     Images  Instances      Box(P          R      mAP50  mAP50-95): 100%|██████████| 6/6 [00:00<00:00,  9.81it/s]"
     ]
    },
    {
     "name": "stdout",
     "output_type": "stream",
     "text": [
      "                   all        161        508      0.709      0.726      0.744       0.48\n"
     ]
    },
    {
     "name": "stderr",
     "output_type": "stream",
     "text": [
      "\n"
     ]
    },
    {
     "name": "stdout",
     "output_type": "stream",
     "text": [
      "\n",
      "      Epoch    GPU_mem   box_loss   cls_loss   dfl_loss  Instances       Size\n"
     ]
    },
    {
     "name": "stderr",
     "output_type": "stream",
     "text": [
      "     69/100       2.1G      1.173     0.6768      1.143         30        640: 100%|██████████| 102/102 [00:15<00:00,  6.60it/s]\n",
      "                 Class     Images  Instances      Box(P          R      mAP50  mAP50-95):   0%|          | 0/6 [00:00<?, ?it/s]Corrupt JPEG data: 4907 extraneous bytes before marker 0xc4\n",
      "                 Class     Images  Instances      Box(P          R      mAP50  mAP50-95): 100%|██████████| 6/6 [00:00<00:00,  9.79it/s]"
     ]
    },
    {
     "name": "stdout",
     "output_type": "stream",
     "text": [
      "                   all        161        508      0.761      0.704      0.749      0.485\n"
     ]
    },
    {
     "name": "stderr",
     "output_type": "stream",
     "text": [
      "\n"
     ]
    },
    {
     "name": "stdout",
     "output_type": "stream",
     "text": [
      "\n",
      "      Epoch    GPU_mem   box_loss   cls_loss   dfl_loss  Instances       Size\n"
     ]
    },
    {
     "name": "stderr",
     "output_type": "stream",
     "text": [
      "     70/100       2.1G      1.151     0.6586      1.142         21        640: 100%|██████████| 102/102 [00:15<00:00,  6.61it/s]\n",
      "                 Class     Images  Instances      Box(P          R      mAP50  mAP50-95):   0%|          | 0/6 [00:00<?, ?it/s]Corrupt JPEG data: 4907 extraneous bytes before marker 0xc4\n",
      "                 Class     Images  Instances      Box(P          R      mAP50  mAP50-95): 100%|██████████| 6/6 [00:00<00:00,  9.52it/s]"
     ]
    },
    {
     "name": "stdout",
     "output_type": "stream",
     "text": [
      "                   all        161        508      0.675      0.731       0.73      0.463\n"
     ]
    },
    {
     "name": "stderr",
     "output_type": "stream",
     "text": [
      "\n"
     ]
    },
    {
     "name": "stdout",
     "output_type": "stream",
     "text": [
      "\n",
      "      Epoch    GPU_mem   box_loss   cls_loss   dfl_loss  Instances       Size\n"
     ]
    },
    {
     "name": "stderr",
     "output_type": "stream",
     "text": [
      "     71/100      2.11G      1.142     0.6567      1.135         20        640: 100%|██████████| 102/102 [00:15<00:00,  6.61it/s]\n",
      "                 Class     Images  Instances      Box(P          R      mAP50  mAP50-95):   0%|          | 0/6 [00:00<?, ?it/s]Corrupt JPEG data: 4907 extraneous bytes before marker 0xc4\n",
      "                 Class     Images  Instances      Box(P          R      mAP50  mAP50-95): 100%|██████████| 6/6 [00:00<00:00,  9.96it/s]"
     ]
    },
    {
     "name": "stdout",
     "output_type": "stream",
     "text": [
      "                   all        161        508      0.724      0.729      0.745      0.483\n"
     ]
    },
    {
     "name": "stderr",
     "output_type": "stream",
     "text": [
      "\n"
     ]
    },
    {
     "name": "stdout",
     "output_type": "stream",
     "text": [
      "\n",
      "      Epoch    GPU_mem   box_loss   cls_loss   dfl_loss  Instances       Size\n"
     ]
    },
    {
     "name": "stderr",
     "output_type": "stream",
     "text": [
      "     72/100      1.97G      1.149     0.6606      1.141         55        640: 100%|██████████| 102/102 [00:15<00:00,  6.61it/s]\n",
      "                 Class     Images  Instances      Box(P          R      mAP50  mAP50-95):  17%|█▋        | 1/6 [00:00<00:00,  7.72it/s]Corrupt JPEG data: 4907 extraneous bytes before marker 0xc4\n",
      "                 Class     Images  Instances      Box(P          R      mAP50  mAP50-95): 100%|██████████| 6/6 [00:00<00:00,  9.20it/s]"
     ]
    },
    {
     "name": "stdout",
     "output_type": "stream",
     "text": [
      "                   all        161        508      0.752      0.721      0.736      0.477\n"
     ]
    },
    {
     "name": "stderr",
     "output_type": "stream",
     "text": [
      "\n"
     ]
    },
    {
     "name": "stdout",
     "output_type": "stream",
     "text": [
      "\n",
      "      Epoch    GPU_mem   box_loss   cls_loss   dfl_loss  Instances       Size\n"
     ]
    },
    {
     "name": "stderr",
     "output_type": "stream",
     "text": [
      "     73/100       2.1G      1.125     0.6445      1.119         57        640: 100%|██████████| 102/102 [00:15<00:00,  6.59it/s]\n",
      "                 Class     Images  Instances      Box(P          R      mAP50  mAP50-95):  17%|█▋        | 1/6 [00:00<00:00,  9.99it/s]Corrupt JPEG data: 4907 extraneous bytes before marker 0xc4\n",
      "                 Class     Images  Instances      Box(P          R      mAP50  mAP50-95): 100%|██████████| 6/6 [00:00<00:00,  9.46it/s]"
     ]
    },
    {
     "name": "stdout",
     "output_type": "stream",
     "text": [
      "                   all        161        508      0.768      0.725      0.752       0.48\n"
     ]
    },
    {
     "name": "stderr",
     "output_type": "stream",
     "text": [
      "\n"
     ]
    },
    {
     "name": "stdout",
     "output_type": "stream",
     "text": [
      "\n",
      "      Epoch    GPU_mem   box_loss   cls_loss   dfl_loss  Instances       Size\n"
     ]
    },
    {
     "name": "stderr",
     "output_type": "stream",
     "text": [
      "     74/100      1.97G      1.154     0.6527      1.136         21        640: 100%|██████████| 102/102 [00:15<00:00,  6.61it/s]\n",
      "                 Class     Images  Instances      Box(P          R      mAP50  mAP50-95):   0%|          | 0/6 [00:00<?, ?it/s]Corrupt JPEG data: 4907 extraneous bytes before marker 0xc4\n",
      "                 Class     Images  Instances      Box(P          R      mAP50  mAP50-95): 100%|██████████| 6/6 [00:00<00:00,  9.89it/s]\n"
     ]
    },
    {
     "name": "stdout",
     "output_type": "stream",
     "text": [
      "                   all        161        508      0.721      0.685      0.748      0.477\n",
      "\n",
      "      Epoch    GPU_mem   box_loss   cls_loss   dfl_loss  Instances       Size\n"
     ]
    },
    {
     "name": "stderr",
     "output_type": "stream",
     "text": [
      "     75/100       2.1G      1.135      0.655      1.126         28        640: 100%|██████████| 102/102 [00:15<00:00,  6.61it/s]\n",
      "                 Class     Images  Instances      Box(P          R      mAP50  mAP50-95):   0%|          | 0/6 [00:00<?, ?it/s]Corrupt JPEG data: 4907 extraneous bytes before marker 0xc4\n",
      "                 Class     Images  Instances      Box(P          R      mAP50  mAP50-95): 100%|██████████| 6/6 [00:00<00:00,  9.87it/s]"
     ]
    },
    {
     "name": "stdout",
     "output_type": "stream",
     "text": [
      "                   all        161        508      0.774      0.732      0.763      0.493\n"
     ]
    },
    {
     "name": "stderr",
     "output_type": "stream",
     "text": [
      "\n"
     ]
    },
    {
     "name": "stdout",
     "output_type": "stream",
     "text": [
      "\n",
      "      Epoch    GPU_mem   box_loss   cls_loss   dfl_loss  Instances       Size\n"
     ]
    },
    {
     "name": "stderr",
     "output_type": "stream",
     "text": [
      "     76/100      1.97G      1.137     0.6482      1.133         36        640: 100%|██████████| 102/102 [00:15<00:00,  6.64it/s]\n",
      "                 Class     Images  Instances      Box(P          R      mAP50  mAP50-95):   0%|          | 0/6 [00:00<?, ?it/s]Corrupt JPEG data: 4907 extraneous bytes before marker 0xc4\n",
      "                 Class     Images  Instances      Box(P          R      mAP50  mAP50-95): 100%|██████████| 6/6 [00:00<00:00,  9.47it/s]\n"
     ]
    },
    {
     "name": "stdout",
     "output_type": "stream",
     "text": [
      "                   all        161        508      0.663      0.764      0.767      0.489\n",
      "\n",
      "      Epoch    GPU_mem   box_loss   cls_loss   dfl_loss  Instances       Size\n"
     ]
    },
    {
     "name": "stderr",
     "output_type": "stream",
     "text": [
      "     77/100       2.1G      1.144     0.6443      1.131         34        640: 100%|██████████| 102/102 [00:15<00:00,  6.58it/s]\n",
      "                 Class     Images  Instances      Box(P          R      mAP50  mAP50-95):   0%|          | 0/6 [00:00<?, ?it/s]Corrupt JPEG data: 4907 extraneous bytes before marker 0xc4\n",
      "                 Class     Images  Instances      Box(P          R      mAP50  mAP50-95): 100%|██████████| 6/6 [00:00<00:00,  9.46it/s]"
     ]
    },
    {
     "name": "stdout",
     "output_type": "stream",
     "text": [
      "                   all        161        508      0.651      0.772      0.763      0.496\n"
     ]
    },
    {
     "name": "stderr",
     "output_type": "stream",
     "text": [
      "\n"
     ]
    },
    {
     "name": "stdout",
     "output_type": "stream",
     "text": [
      "\n",
      "      Epoch    GPU_mem   box_loss   cls_loss   dfl_loss  Instances       Size\n"
     ]
    },
    {
     "name": "stderr",
     "output_type": "stream",
     "text": [
      "     78/100      1.97G       1.12     0.6405      1.123         22        640: 100%|██████████| 102/102 [00:15<00:00,  6.58it/s]\n",
      "                 Class     Images  Instances      Box(P          R      mAP50  mAP50-95):  17%|█▋        | 1/6 [00:00<00:00,  8.29it/s]Corrupt JPEG data: 4907 extraneous bytes before marker 0xc4\n",
      "                 Class     Images  Instances      Box(P          R      mAP50  mAP50-95): 100%|██████████| 6/6 [00:00<00:00,  9.38it/s]"
     ]
    },
    {
     "name": "stdout",
     "output_type": "stream",
     "text": [
      "                   all        161        508      0.849      0.748      0.782      0.493\n"
     ]
    },
    {
     "name": "stderr",
     "output_type": "stream",
     "text": [
      "\n"
     ]
    },
    {
     "name": "stdout",
     "output_type": "stream",
     "text": [
      "\n",
      "      Epoch    GPU_mem   box_loss   cls_loss   dfl_loss  Instances       Size\n"
     ]
    },
    {
     "name": "stderr",
     "output_type": "stream",
     "text": [
      "     79/100       2.1G      1.121     0.6336      1.118         64        640: 100%|██████████| 102/102 [00:15<00:00,  6.60it/s]\n",
      "                 Class     Images  Instances      Box(P          R      mAP50  mAP50-95):  17%|█▋        | 1/6 [00:00<00:00,  9.58it/s]Corrupt JPEG data: 4907 extraneous bytes before marker 0xc4\n",
      "                 Class     Images  Instances      Box(P          R      mAP50  mAP50-95): 100%|██████████| 6/6 [00:00<00:00,  9.67it/s]"
     ]
    },
    {
     "name": "stdout",
     "output_type": "stream",
     "text": [
      "                   all        161        508      0.763      0.716      0.763      0.489\n"
     ]
    },
    {
     "name": "stderr",
     "output_type": "stream",
     "text": [
      "\n"
     ]
    },
    {
     "name": "stdout",
     "output_type": "stream",
     "text": [
      "\n",
      "      Epoch    GPU_mem   box_loss   cls_loss   dfl_loss  Instances       Size\n"
     ]
    },
    {
     "name": "stderr",
     "output_type": "stream",
     "text": [
      "     80/100      2.03G      1.115     0.6259      1.118         28        640: 100%|██████████| 102/102 [00:15<00:00,  6.62it/s]\n",
      "                 Class     Images  Instances      Box(P          R      mAP50  mAP50-95):   0%|          | 0/6 [00:00<?, ?it/s]Corrupt JPEG data: 4907 extraneous bytes before marker 0xc4\n",
      "                 Class     Images  Instances      Box(P          R      mAP50  mAP50-95): 100%|██████████| 6/6 [00:00<00:00,  9.71it/s]\n"
     ]
    },
    {
     "name": "stdout",
     "output_type": "stream",
     "text": [
      "                   all        161        508      0.771       0.73      0.767      0.491\n",
      "\n",
      "      Epoch    GPU_mem   box_loss   cls_loss   dfl_loss  Instances       Size\n"
     ]
    },
    {
     "name": "stderr",
     "output_type": "stream",
     "text": [
      "     81/100      1.97G      1.104     0.6284      1.117         45        640: 100%|██████████| 102/102 [00:15<00:00,  6.60it/s]\n",
      "                 Class     Images  Instances      Box(P          R      mAP50  mAP50-95):   0%|          | 0/6 [00:00<?, ?it/s]Corrupt JPEG data: 4907 extraneous bytes before marker 0xc4\n",
      "                 Class     Images  Instances      Box(P          R      mAP50  mAP50-95): 100%|██████████| 6/6 [00:00<00:00,  9.80it/s]"
     ]
    },
    {
     "name": "stdout",
     "output_type": "stream",
     "text": [
      "                   all        161        508      0.751      0.737      0.746      0.485\n"
     ]
    },
    {
     "name": "stderr",
     "output_type": "stream",
     "text": [
      "\n"
     ]
    },
    {
     "name": "stdout",
     "output_type": "stream",
     "text": [
      "\n",
      "      Epoch    GPU_mem   box_loss   cls_loss   dfl_loss  Instances       Size\n"
     ]
    },
    {
     "name": "stderr",
     "output_type": "stream",
     "text": [
      "     82/100      1.97G      1.093     0.6197      1.119         29        640: 100%|██████████| 102/102 [00:15<00:00,  6.63it/s]\n",
      "                 Class     Images  Instances      Box(P          R      mAP50  mAP50-95):  17%|█▋        | 1/6 [00:00<00:00,  9.95it/s]Corrupt JPEG data: 4907 extraneous bytes before marker 0xc4\n",
      "                 Class     Images  Instances      Box(P          R      mAP50  mAP50-95): 100%|██████████| 6/6 [00:00<00:00,  9.70it/s]"
     ]
    },
    {
     "name": "stdout",
     "output_type": "stream",
     "text": [
      "                   all        161        508      0.733      0.679      0.733      0.479\n"
     ]
    },
    {
     "name": "stderr",
     "output_type": "stream",
     "text": [
      "\n"
     ]
    },
    {
     "name": "stdout",
     "output_type": "stream",
     "text": [
      "\n",
      "      Epoch    GPU_mem   box_loss   cls_loss   dfl_loss  Instances       Size\n"
     ]
    },
    {
     "name": "stderr",
     "output_type": "stream",
     "text": [
      "     83/100       2.1G      1.107     0.6171      1.118         40        640: 100%|██████████| 102/102 [00:15<00:00,  6.61it/s]\n",
      "                 Class     Images  Instances      Box(P          R      mAP50  mAP50-95):  17%|█▋        | 1/6 [00:00<00:00,  7.55it/s]Corrupt JPEG data: 4907 extraneous bytes before marker 0xc4\n",
      "                 Class     Images  Instances      Box(P          R      mAP50  mAP50-95): 100%|██████████| 6/6 [00:00<00:00,  9.11it/s]"
     ]
    },
    {
     "name": "stdout",
     "output_type": "stream",
     "text": [
      "                   all        161        508      0.698      0.737      0.736       0.48\n"
     ]
    },
    {
     "name": "stderr",
     "output_type": "stream",
     "text": [
      "\n"
     ]
    },
    {
     "name": "stdout",
     "output_type": "stream",
     "text": [
      "\n",
      "      Epoch    GPU_mem   box_loss   cls_loss   dfl_loss  Instances       Size\n"
     ]
    },
    {
     "name": "stderr",
     "output_type": "stream",
     "text": [
      "     84/100      1.97G      1.095     0.6122      1.116         34        640: 100%|██████████| 102/102 [00:15<00:00,  6.62it/s]\n",
      "                 Class     Images  Instances      Box(P          R      mAP50  mAP50-95):  17%|█▋        | 1/6 [00:00<00:00,  9.71it/s]Corrupt JPEG data: 4907 extraneous bytes before marker 0xc4\n",
      "                 Class     Images  Instances      Box(P          R      mAP50  mAP50-95): 100%|██████████| 6/6 [00:00<00:00,  9.57it/s]\n"
     ]
    },
    {
     "name": "stdout",
     "output_type": "stream",
     "text": [
      "                   all        161        508      0.764      0.742       0.75      0.492\n",
      "\n",
      "      Epoch    GPU_mem   box_loss   cls_loss   dfl_loss  Instances       Size\n"
     ]
    },
    {
     "name": "stderr",
     "output_type": "stream",
     "text": [
      "     85/100       2.1G      1.094      0.609      1.107         31        640: 100%|██████████| 102/102 [00:15<00:00,  6.60it/s]\n",
      "                 Class     Images  Instances      Box(P          R      mAP50  mAP50-95):  17%|█▋        | 1/6 [00:00<00:00,  9.96it/s]Corrupt JPEG data: 4907 extraneous bytes before marker 0xc4\n",
      "                 Class     Images  Instances      Box(P          R      mAP50  mAP50-95): 100%|██████████| 6/6 [00:00<00:00,  9.71it/s]"
     ]
    },
    {
     "name": "stdout",
     "output_type": "stream",
     "text": [
      "                   all        161        508      0.782      0.709      0.739      0.483\n"
     ]
    },
    {
     "name": "stderr",
     "output_type": "stream",
     "text": [
      "\n"
     ]
    },
    {
     "name": "stdout",
     "output_type": "stream",
     "text": [
      "Stopping training early as no improvement observed in last 25 epochs. Best results observed at epoch 60, best model saved as best.pt.\n",
      "To update EarlyStopping(patience=25) pass a new patience value, i.e. `patience=300` or use `patience=0` to disable EarlyStopping.\n",
      "\n",
      "85 epochs completed in 0.390 hours.\n",
      "Optimizer stripped from runs/detect/train18/weights/last.pt, 6.3MB\n",
      "Optimizer stripped from runs/detect/train18/weights/best.pt, 6.3MB\n",
      "\n",
      "Validating runs/detect/train18/weights/best.pt...\n",
      "Ultralytics YOLOv8.1.7 🚀 Python-3.11.8 torch-2.1.2+cu121 CUDA:0 (NVIDIA GeForce RTX 3050 Laptop GPU, 3902MiB)\n",
      "Model summary (fused): 168 layers, 3007013 parameters, 0 gradients, 8.1 GFLOPs\n"
     ]
    },
    {
     "name": "stderr",
     "output_type": "stream",
     "text": [
      "                 Class     Images  Instances      Box(P          R      mAP50  mAP50-95):  17%|█▋        | 1/6 [00:00<00:00,  8.16it/s]Corrupt JPEG data: 4907 extraneous bytes before marker 0xc4\n",
      "                 Class     Images  Instances      Box(P          R      mAP50  mAP50-95): 100%|██████████| 6/6 [00:01<00:00,  3.45it/s]\n"
     ]
    },
    {
     "name": "stdout",
     "output_type": "stream",
     "text": [
      "                   all        161        508      0.786      0.769      0.783      0.503\n",
      "               vehicle        161        354      0.921      0.886      0.933      0.516\n",
      "                Person        161         29      0.866      0.897      0.894       0.52\n",
      "                debris        161          5       0.49        0.4      0.291      0.109\n",
      "                  fire        161         48      0.797      0.735      0.767      0.477\n",
      "              accident        161         42      0.907      0.929       0.96      0.736\n",
      "          non-accident        161         30      0.735      0.767      0.851      0.662\n",
      "Speed: 0.3ms preprocess, 5.3ms inference, 0.0ms loss, 0.9ms postprocess per image\n",
      "Results saved to \u001b[1mruns/detect/train18\u001b[0m\n"
     ]
    }
   ],
   "source": [
    "results = model.train(data=\"./configs/vids.yaml\", epochs=100, imgsz=640, batch=-1, patience=25)"
   ]
  },
  {
   "cell_type": "code",
   "execution_count": null,
   "metadata": {},
   "outputs": [],
   "source": []
  },
  {
   "cell_type": "markdown",
   "metadata": {},
   "source": []
  },
  {
   "cell_type": "code",
   "execution_count": null,
   "metadata": {},
   "outputs": [],
   "source": []
  },
  {
   "cell_type": "code",
   "execution_count": null,
   "metadata": {},
   "outputs": [],
   "source": []
  }
 ],
 "metadata": {
  "kernelspec": {
   "display_name": ".venv",
   "language": "python",
   "name": "python3"
  },
  "language_info": {
   "codemirror_mode": {
    "name": "ipython",
    "version": 3
   },
   "file_extension": ".py",
   "mimetype": "text/x-python",
   "name": "python",
   "nbconvert_exporter": "python",
   "pygments_lexer": "ipython3",
   "version": "3.11.8"
  }
 },
 "nbformat": 4,
 "nbformat_minor": 2
}
